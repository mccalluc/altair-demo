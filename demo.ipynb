{
 "cells": [
  {
   "cell_type": "code",
   "execution_count": 4,
   "metadata": {},
   "outputs": [
    {
     "name": "stdout",
     "output_type": "stream",
     "text": [
      "Collecting pandas\n",
      "  Downloading https://files.pythonhosted.org/packages/f4/cb/a801eaf624e36fffaa6cf1f4597a1e4b0742c200ed928e689c58fb3cb811/pandas-0.23.3-cp36-cp36m-manylinux1_x86_64.whl (8.9MB)\n",
      "\u001b[K    100% |████████████████████████████████| 8.9MB 84kB/s \n",
      "\u001b[?25hCollecting altair\n",
      "  Downloading https://files.pythonhosted.org/packages/40/10/2980472533fc35934187b4dbac2bbf8c78c0797fd3e64fa8b2a215586773/altair-2.1.0-py2.py3-none-any.whl (340kB)\n",
      "\u001b[K    100% |████████████████████████████████| 348kB 2.2MB/s \n",
      "\u001b[?25hCollecting vega\n",
      "  Downloading https://files.pythonhosted.org/packages/4b/34/72fd4423491e4190fe1f22d304fb02f2c953db33e8682d79a25968a2a344/vega-1.3.0.tar.gz (1.5MB)\n",
      "\u001b[K    100% |████████████████████████████████| 1.5MB 499kB/s \n",
      "\u001b[?25hCollecting pytz>=2011k (from pandas)\n",
      "  Downloading https://files.pythonhosted.org/packages/30/4e/27c34b62430286c6d59177a0842ed90dc789ce5d1ed740887653b898779a/pytz-2018.5-py2.py3-none-any.whl (510kB)\n",
      "\u001b[K    100% |████████████████████████████████| 512kB 1.5MB/s \n",
      "\u001b[?25hRequirement already satisfied: python-dateutil>=2.5.0 in /opt/conda/lib/python3.6/site-packages (from pandas)\n",
      "Collecting numpy>=1.9.0 (from pandas)\n",
      "  Downloading https://files.pythonhosted.org/packages/68/1e/116ad560de97694e2d0c1843a7a0075cc9f49e922454d32f49a80eb6f1f2/numpy-1.14.5-cp36-cp36m-manylinux1_x86_64.whl (12.2MB)\n",
      "\u001b[K    100% |████████████████████████████████| 12.2MB 61kB/s \n",
      "\u001b[?25hRequirement already satisfied: entrypoints in /opt/conda/lib/python3.6/site-packages (from altair)\n",
      "Requirement already satisfied: jsonschema in /opt/conda/lib/python3.6/site-packages (from altair)\n",
      "Requirement already satisfied: six in /opt/conda/lib/python3.6/site-packages (from altair)\n",
      "Collecting typing (from altair)\n",
      "  Downloading https://files.pythonhosted.org/packages/05/2b/2b05bf1d5a9dd450447c9a5df3e118a465e5d3cb12b73b7220a5064a403f/typing-3.6.4-py3-none-any.whl\n",
      "Collecting toolz (from altair)\n",
      "  Downloading https://files.pythonhosted.org/packages/14/d0/a73c15bbeda3d2e7b381a36afb0d9cd770a9f4adc5d1532691013ba881db/toolz-0.9.0.tar.gz (45kB)\n",
      "\u001b[K    100% |████████████████████████████████| 51kB 7.0MB/s \n",
      "\u001b[?25hBuilding wheels for collected packages: vega, toolz\n",
      "  Running setup.py bdist_wheel for vega ... \u001b[?25ldone\n",
      "\u001b[?25h  Stored in directory: /home/jovyan/.cache/pip/wheels/76/7a/85/a796b8ff2157b97269059083b96d686ec51ef81924035fc227\n",
      "  Running setup.py bdist_wheel for toolz ... \u001b[?25ldone\n",
      "\u001b[?25h  Stored in directory: /home/jovyan/.cache/pip/wheels/f4/0c/f6/ce6b2d1aa459ee97cc3c0f82236302bd62d89c86c700219463\n",
      "Successfully built vega toolz\n",
      "Installing collected packages: pytz, numpy, pandas, typing, toolz, altair, vega\n",
      "Successfully installed altair-2.1.0 numpy-1.14.5 pandas-0.23.3 pytz-2018.5 toolz-0.9.0 typing-3.6.4 vega-1.3.0\n",
      "\u001b[33mYou are using pip version 9.0.3, however version 10.0.1 is available.\n",
      "You should consider upgrading via the 'pip install --upgrade pip' command.\u001b[0m\n"
     ]
    }
   ],
   "source": [
    "!pip install pandas altair vega"
   ]
  },
  {
   "cell_type": "code",
   "execution_count": 5,
   "metadata": {},
   "outputs": [],
   "source": [
    "import pandas\n",
    "import altair as alt"
   ]
  },
  {
   "cell_type": "code",
   "execution_count": 6,
   "metadata": {},
   "outputs": [],
   "source": [
    "flu = pandas.read_csv('flunet2010_11countries.csv', header=1)"
   ]
  },
  {
   "cell_type": "code",
   "execution_count": 7,
   "metadata": {},
   "outputs": [
    {
     "data": {
      "text/html": [
       "<div>\n",
       "<style scoped>\n",
       "    .dataframe tbody tr th:only-of-type {\n",
       "        vertical-align: middle;\n",
       "    }\n",
       "\n",
       "    .dataframe tbody tr th {\n",
       "        vertical-align: top;\n",
       "    }\n",
       "\n",
       "    .dataframe thead th {\n",
       "        text-align: right;\n",
       "    }\n",
       "</style>\n",
       "<table border=\"1\" class=\"dataframe\">\n",
       "  <thead>\n",
       "    <tr style=\"text-align: right;\">\n",
       "      <th></th>\n",
       "      <th>week</th>\n",
       "      <th>Afghanistan</th>\n",
       "      <th>Argentina</th>\n",
       "      <th>Australia</th>\n",
       "      <th>Canada</th>\n",
       "      <th>China</th>\n",
       "      <th>Colombia</th>\n",
       "      <th>Egypt</th>\n",
       "      <th>Germany</th>\n",
       "      <th>Ireland</th>\n",
       "      <th>South Africa</th>\n",
       "      <th>USA</th>\n",
       "    </tr>\n",
       "  </thead>\n",
       "  <tbody>\n",
       "    <tr>\n",
       "      <th>0</th>\n",
       "      <td>1</td>\n",
       "      <td>5.0</td>\n",
       "      <td>4</td>\n",
       "      <td>2</td>\n",
       "      <td>41</td>\n",
       "      <td>2179</td>\n",
       "      <td>36</td>\n",
       "      <td>739</td>\n",
       "      <td>26.0</td>\n",
       "      <td>23</td>\n",
       "      <td>0</td>\n",
       "      <td>366</td>\n",
       "    </tr>\n",
       "    <tr>\n",
       "      <th>1</th>\n",
       "      <td>2</td>\n",
       "      <td>13.0</td>\n",
       "      <td>21</td>\n",
       "      <td>1</td>\n",
       "      <td>15</td>\n",
       "      <td>2213</td>\n",
       "      <td>36</td>\n",
       "      <td>396</td>\n",
       "      <td>24.0</td>\n",
       "      <td>8</td>\n",
       "      <td>1</td>\n",
       "      <td>396</td>\n",
       "    </tr>\n",
       "    <tr>\n",
       "      <th>2</th>\n",
       "      <td>3</td>\n",
       "      <td>4.0</td>\n",
       "      <td>6</td>\n",
       "      <td>1</td>\n",
       "      <td>8</td>\n",
       "      <td>2228</td>\n",
       "      <td>14</td>\n",
       "      <td>192</td>\n",
       "      <td>18.0</td>\n",
       "      <td>4</td>\n",
       "      <td>0</td>\n",
       "      <td>447</td>\n",
       "    </tr>\n",
       "    <tr>\n",
       "      <th>3</th>\n",
       "      <td>4</td>\n",
       "      <td>0.0</td>\n",
       "      <td>1</td>\n",
       "      <td>0</td>\n",
       "      <td>14</td>\n",
       "      <td>2027</td>\n",
       "      <td>11</td>\n",
       "      <td>80</td>\n",
       "      <td>NaN</td>\n",
       "      <td>8</td>\n",
       "      <td>0</td>\n",
       "      <td>402</td>\n",
       "    </tr>\n",
       "    <tr>\n",
       "      <th>4</th>\n",
       "      <td>5</td>\n",
       "      <td>0.0</td>\n",
       "      <td>4</td>\n",
       "      <td>1</td>\n",
       "      <td>12</td>\n",
       "      <td>1813</td>\n",
       "      <td>8</td>\n",
       "      <td>56</td>\n",
       "      <td>NaN</td>\n",
       "      <td>4</td>\n",
       "      <td>0</td>\n",
       "      <td>404</td>\n",
       "    </tr>\n",
       "  </tbody>\n",
       "</table>\n",
       "</div>"
      ],
      "text/plain": [
       "   week  Afghanistan  Argentina  Australia  Canada  China  Colombia  Egypt  \\\n",
       "0     1          5.0          4          2      41   2179        36    739   \n",
       "1     2         13.0         21          1      15   2213        36    396   \n",
       "2     3          4.0          6          1       8   2228        14    192   \n",
       "3     4          0.0          1          0      14   2027        11     80   \n",
       "4     5          0.0          4          1      12   1813         8     56   \n",
       "\n",
       "   Germany  Ireland  South Africa  USA  \n",
       "0     26.0       23             0  366  \n",
       "1     24.0        8             1  396  \n",
       "2     18.0        4             0  447  \n",
       "3      NaN        8             0  402  \n",
       "4      NaN        4             0  404  "
      ]
     },
     "execution_count": 7,
     "metadata": {},
     "output_type": "execute_result"
    }
   ],
   "source": [
    "flu.head()"
   ]
  },
  {
   "cell_type": "code",
   "execution_count": 8,
   "metadata": {},
   "outputs": [
    {
     "data": {
      "application/vnd.vegalite.v2+json": {
       "$schema": "https://vega.github.io/schema/vega-lite/v2.4.3.json",
       "config": {
        "view": {
         "height": 300,
         "width": 400
        }
       },
       "data": {
        "values": [
         {
          "Afghanistan": 5,
          "Argentina": 4,
          "Australia": 2,
          "Canada": 41,
          "China": 2179,
          "Colombia": 36,
          "Egypt": 739,
          "Germany": 26,
          "Ireland": 23,
          "South Africa": 0,
          "USA": 366,
          "week": 1
         },
         {
          "Afghanistan": 13,
          "Argentina": 21,
          "Australia": 1,
          "Canada": 15,
          "China": 2213,
          "Colombia": 36,
          "Egypt": 396,
          "Germany": 24,
          "Ireland": 8,
          "South Africa": 1,
          "USA": 396,
          "week": 2
         },
         {
          "Afghanistan": 4,
          "Argentina": 6,
          "Australia": 1,
          "Canada": 8,
          "China": 2228,
          "Colombia": 14,
          "Egypt": 192,
          "Germany": 18,
          "Ireland": 4,
          "South Africa": 0,
          "USA": 447,
          "week": 3
         },
         {
          "Afghanistan": 0,
          "Argentina": 1,
          "Australia": 0,
          "Canada": 14,
          "China": 2027,
          "Colombia": 11,
          "Egypt": 80,
          "Germany": null,
          "Ireland": 8,
          "South Africa": 0,
          "USA": 402,
          "week": 4
         },
         {
          "Afghanistan": 0,
          "Argentina": 4,
          "Australia": 1,
          "Canada": 12,
          "China": 1813,
          "Colombia": 8,
          "Egypt": 56,
          "Germany": null,
          "Ireland": 4,
          "South Africa": 0,
          "USA": 404,
          "week": 5
         },
         {
          "Afghanistan": 0,
          "Argentina": 0,
          "Australia": 1,
          "Canada": 6,
          "China": 1353,
          "Colombia": 9,
          "Egypt": 47,
          "Germany": null,
          "Ireland": 0,
          "South Africa": 0,
          "USA": 361,
          "week": 6
         },
         {
          "Afghanistan": 1,
          "Argentina": 3,
          "Australia": 0,
          "Canada": 6,
          "China": 799,
          "Colombia": 7,
          "Egypt": 32,
          "Germany": null,
          "Ireland": 0,
          "South Africa": 0,
          "USA": 380,
          "week": 7
         },
         {
          "Afghanistan": 1,
          "Argentina": 1,
          "Australia": 4,
          "Canada": 7,
          "China": 1218,
          "Colombia": 5,
          "Egypt": 16,
          "Germany": null,
          "Ireland": 1,
          "South Africa": 1,
          "USA": 424,
          "week": 8
         },
         {
          "Afghanistan": null,
          "Argentina": 0,
          "Australia": 3,
          "Canada": 3,
          "China": 1333,
          "Colombia": 7,
          "Egypt": 8,
          "Germany": 3,
          "Ireland": 0,
          "South Africa": 0,
          "USA": 445,
          "week": 9
         },
         {
          "Afghanistan": 1,
          "Argentina": 3,
          "Australia": 1,
          "Canada": 7,
          "China": 1614,
          "Colombia": 5,
          "Egypt": 8,
          "Germany": 7,
          "Ireland": 0,
          "South Africa": 0,
          "USA": 475,
          "week": 10
         },
         {
          "Afghanistan": 0,
          "Argentina": 0,
          "Australia": 1,
          "Canada": 9,
          "China": 1745,
          "Colombia": 11,
          "Egypt": 3,
          "Germany": 2,
          "Ireland": 0,
          "South Africa": 0,
          "USA": 351,
          "week": 11
         },
         {
          "Afghanistan": 0,
          "Argentina": 9,
          "Australia": 2,
          "Canada": 7,
          "China": 1548,
          "Colombia": 1,
          "Egypt": 5,
          "Germany": 6,
          "Ireland": 1,
          "South Africa": 0,
          "USA": 246,
          "week": 12
         },
         {
          "Afghanistan": 0,
          "Argentina": 8,
          "Australia": 0,
          "Canada": 6,
          "China": 1388,
          "Colombia": 4,
          "Egypt": 6,
          "Germany": 0,
          "Ireland": 0,
          "South Africa": 0,
          "USA": 237,
          "week": 13
         },
         {
          "Afghanistan": 0,
          "Argentina": 7,
          "Australia": 0,
          "Canada": 6,
          "China": 843,
          "Colombia": 2,
          "Egypt": 3,
          "Germany": 1,
          "Ireland": 0,
          "South Africa": 0,
          "USA": 127,
          "week": 14
         },
         {
          "Afghanistan": 0,
          "Argentina": 9,
          "Australia": 4,
          "Canada": 0,
          "China": 635,
          "Colombia": 8,
          "Egypt": 2,
          "Germany": 0,
          "Ireland": 0,
          "South Africa": 1,
          "USA": 79,
          "week": 15
         },
         {
          "Afghanistan": 0,
          "Argentina": 15,
          "Australia": 2,
          "Canada": 2,
          "China": 716,
          "Colombia": 16,
          "Egypt": 2,
          "Germany": 0,
          "Ireland": 1,
          "South Africa": 0,
          "USA": 52,
          "week": 16
         },
         {
          "Afghanistan": 0,
          "Argentina": 16,
          "Australia": 6,
          "Canada": 4,
          "China": 602,
          "Colombia": 8,
          "Egypt": 2,
          "Germany": 0,
          "Ireland": 0,
          "South Africa": 0,
          "USA": 37,
          "week": 17
         },
         {
          "Afghanistan": 0,
          "Argentina": 18,
          "Australia": 1,
          "Canada": 3,
          "China": 529,
          "Colombia": 3,
          "Egypt": 9,
          "Germany": 0,
          "Ireland": 0,
          "South Africa": 1,
          "USA": 31,
          "week": 18
         },
         {
          "Afghanistan": 0,
          "Argentina": 10,
          "Australia": 3,
          "Canada": 1,
          "China": 434,
          "Colombia": 8,
          "Egypt": 2,
          "Germany": 0,
          "Ireland": 0,
          "South Africa": 0,
          "USA": 26,
          "week": 19
         },
         {
          "Afghanistan": 0,
          "Argentina": 4,
          "Australia": 4,
          "Canada": 4,
          "China": 368,
          "Colombia": 10,
          "Egypt": 1,
          "Germany": 1,
          "Ireland": 1,
          "South Africa": 1,
          "USA": 19,
          "week": 20
         },
         {
          "Afghanistan": 0,
          "Argentina": 5,
          "Australia": 4,
          "Canada": 5,
          "China": 314,
          "Colombia": 15,
          "Egypt": 0,
          "Germany": 0,
          "Ireland": 0,
          "South Africa": 1,
          "USA": 8,
          "week": 21
         },
         {
          "Afghanistan": 0,
          "Argentina": 34,
          "Australia": 3,
          "Canada": 0,
          "China": 225,
          "Colombia": 42,
          "Egypt": 9,
          "Germany": 0,
          "Ireland": 0,
          "South Africa": 2,
          "USA": 8,
          "week": 22
         },
         {
          "Afghanistan": 0,
          "Argentina": 49,
          "Australia": 1,
          "Canada": 1,
          "China": 238,
          "Colombia": 40,
          "Egypt": 8,
          "Germany": 1,
          "Ireland": 0,
          "South Africa": 10,
          "USA": 8,
          "week": 23
         },
         {
          "Afghanistan": 0,
          "Argentina": 50,
          "Australia": 5,
          "Canada": 1,
          "China": 118,
          "Colombia": 30,
          "Egypt": 8,
          "Germany": 0,
          "Ireland": 0,
          "South Africa": 16,
          "USA": 11,
          "week": 24
         },
         {
          "Afghanistan": 1,
          "Argentina": 40,
          "Australia": 12,
          "Canada": 0,
          "China": 185,
          "Colombia": 40,
          "Egypt": 7,
          "Germany": 0,
          "Ireland": 0,
          "South Africa": 36,
          "USA": 11,
          "week": 25
         },
         {
          "Afghanistan": 0,
          "Argentina": 43,
          "Australia": 18,
          "Canada": 8,
          "China": 202,
          "Colombia": 36,
          "Egypt": 6,
          "Germany": 0,
          "Ireland": 0,
          "South Africa": 84,
          "USA": 7,
          "week": 26
         },
         {
          "Afghanistan": 0,
          "Argentina": 40,
          "Australia": 14,
          "Canada": 2,
          "China": 262,
          "Colombia": 31,
          "Egypt": 6,
          "Germany": 0,
          "Ireland": 0,
          "South Africa": 85,
          "USA": 4,
          "week": 27
         },
         {
          "Afghanistan": 0,
          "Argentina": 64,
          "Australia": 15,
          "Canada": 6,
          "China": 334,
          "Colombia": 33,
          "Egypt": 4,
          "Germany": 0,
          "Ireland": 0,
          "South Africa": 85,
          "USA": 10,
          "week": 28
         },
         {
          "Afghanistan": 0,
          "Argentina": 76,
          "Australia": 15,
          "Canada": 0,
          "China": 432,
          "Colombia": 33,
          "Egypt": 14,
          "Germany": 0,
          "Ireland": 0,
          "South Africa": 61,
          "USA": 12,
          "week": 29
         },
         {
          "Afghanistan": 0,
          "Argentina": 75,
          "Australia": 31,
          "Canada": 3,
          "China": 413,
          "Colombia": 27,
          "Egypt": 7,
          "Germany": 0,
          "Ireland": 0,
          "South Africa": 121,
          "USA": 24,
          "week": 30
         },
         {
          "Afghanistan": 0,
          "Argentina": 43,
          "Australia": 39,
          "Canada": 0,
          "China": 615,
          "Colombia": 29,
          "Egypt": 5,
          "Germany": 0,
          "Ireland": 0,
          "South Africa": 124,
          "USA": 19,
          "week": 31
         },
         {
          "Afghanistan": 0,
          "Argentina": 84,
          "Australia": 44,
          "Canada": 2,
          "China": 776,
          "Colombia": 15,
          "Egypt": 2,
          "Germany": 0,
          "Ireland": 0,
          "South Africa": 99,
          "USA": 32,
          "week": 32
         },
         {
          "Afghanistan": 0,
          "Argentina": 71,
          "Australia": 60,
          "Canada": 1,
          "China": 782,
          "Colombia": 9,
          "Egypt": 4,
          "Germany": 0,
          "Ireland": 0,
          "South Africa": 122,
          "USA": 21,
          "week": 33
         },
         {
          "Afghanistan": 0,
          "Argentina": 79,
          "Australia": 64,
          "Canada": 6,
          "China": 1018,
          "Colombia": 19,
          "Egypt": 1,
          "Germany": 0,
          "Ireland": 0,
          "South Africa": 116,
          "USA": 45,
          "week": 34
         },
         {
          "Afghanistan": 0,
          "Argentina": 52,
          "Australia": 78,
          "Canada": 2,
          "China": 1211,
          "Colombia": 3,
          "Egypt": 6,
          "Germany": 0,
          "Ireland": 0,
          "South Africa": 74,
          "USA": 34,
          "week": 35
         },
         {
          "Afghanistan": 0,
          "Argentina": 40,
          "Australia": 77,
          "Canada": 1,
          "China": 1441,
          "Colombia": 15,
          "Egypt": 0,
          "Germany": 0,
          "Ireland": 0,
          "South Africa": 78,
          "USA": 46,
          "week": 36
         },
         {
          "Afghanistan": 0,
          "Argentina": 32,
          "Australia": 56,
          "Canada": 3,
          "China": 1473,
          "Colombia": 18,
          "Egypt": 0,
          "Germany": 0,
          "Ireland": 0,
          "South Africa": 61,
          "USA": 64,
          "week": 37
         },
         {
          "Afghanistan": 0,
          "Argentina": 37,
          "Australia": 105,
          "Canada": 8,
          "China": 1197,
          "Colombia": 8,
          "Egypt": 0,
          "Germany": 1,
          "Ireland": 0,
          "South Africa": 39,
          "USA": 67,
          "week": 38
         },
         {
          "Afghanistan": 0,
          "Argentina": 64,
          "Australia": 92,
          "Canada": 12,
          "China": 1045,
          "Colombia": 13,
          "Egypt": 0,
          "Germany": 1,
          "Ireland": 0,
          "South Africa": 24,
          "USA": 62,
          "week": 39
         },
         {
          "Afghanistan": 0,
          "Argentina": 108,
          "Australia": 97,
          "Canada": 11,
          "China": 890,
          "Colombia": 7,
          "Egypt": 3,
          "Germany": 0,
          "Ireland": 0,
          "South Africa": 20,
          "USA": 77,
          "week": 40
         },
         {
          "Afghanistan": 0,
          "Argentina": 279,
          "Australia": 52,
          "Canada": 17,
          "China": 685,
          "Colombia": 2,
          "Egypt": 7,
          "Germany": 2,
          "Ireland": 2,
          "South Africa": 8,
          "USA": 128,
          "week": 41
         },
         {
          "Afghanistan": 0,
          "Argentina": 280,
          "Australia": 50,
          "Canada": 17,
          "China": 508,
          "Colombia": 3,
          "Egypt": 19,
          "Germany": 1,
          "Ireland": 1,
          "South Africa": 14,
          "USA": 141,
          "week": 42
         },
         {
          "Afghanistan": 0,
          "Argentina": 89,
          "Australia": 54,
          "Canada": 14,
          "China": 498,
          "Colombia": 1,
          "Egypt": 14,
          "Germany": 2,
          "Ireland": 0,
          "South Africa": 6,
          "USA": 168,
          "week": 43
         },
         {
          "Afghanistan": 0,
          "Argentina": 59,
          "Australia": 47,
          "Canada": 22,
          "China": 400,
          "Colombia": 9,
          "Egypt": 16,
          "Germany": 0,
          "Ireland": 0,
          "South Africa": 3,
          "USA": 247,
          "week": 44
         },
         {
          "Afghanistan": 0,
          "Argentina": 25,
          "Australia": 29,
          "Canada": 42,
          "China": 389,
          "Colombia": 5,
          "Egypt": 19,
          "Germany": 1,
          "Ireland": 0,
          "South Africa": 11,
          "USA": 352,
          "week": 45
         },
         {
          "Afghanistan": 0,
          "Argentina": 32,
          "Australia": 14,
          "Canada": 55,
          "China": 245,
          "Colombia": 15,
          "Egypt": 20,
          "Germany": 1,
          "Ireland": 0,
          "South Africa": 9,
          "USA": 491,
          "week": 46
         },
         {
          "Afghanistan": 0,
          "Argentina": 30,
          "Australia": 23,
          "Canada": 111,
          "China": 397,
          "Colombia": 13,
          "Egypt": 36,
          "Germany": 3,
          "Ireland": 1,
          "South Africa": 8,
          "USA": 588,
          "week": 47
         },
         {
          "Afghanistan": 0,
          "Argentina": 39,
          "Australia": 19,
          "Canada": 225,
          "China": 400,
          "Colombia": 4,
          "Egypt": 64,
          "Germany": 1,
          "Ireland": 1,
          "South Africa": 3,
          "USA": 609,
          "week": 48
         },
         {
          "Afghanistan": 0,
          "Argentina": 20,
          "Australia": 20,
          "Canada": 323,
          "China": 395,
          "Colombia": 17,
          "Egypt": 88,
          "Germany": 2,
          "Ireland": 13,
          "South Africa": 3,
          "USA": 843,
          "week": 49
         },
         {
          "Afghanistan": 0,
          "Argentina": 20,
          "Australia": 23,
          "Canada": 566,
          "China": 359,
          "Colombia": 14,
          "Egypt": 152,
          "Germany": 23,
          "Ireland": 48,
          "South Africa": 0,
          "USA": 1438,
          "week": 50
         },
         {
          "Afghanistan": null,
          "Argentina": 16,
          "Australia": 29,
          "Canada": 987,
          "China": 602,
          "Colombia": 19,
          "Egypt": 372,
          "Germany": 18,
          "Ireland": 161,
          "South Africa": 3,
          "USA": 1998,
          "week": 51
         },
         {
          "Afghanistan": null,
          "Argentina": 1,
          "Australia": 25,
          "Canada": 1366,
          "China": 532,
          "Colombia": 12,
          "Egypt": 522,
          "Germany": 44,
          "Ireland": 383,
          "South Africa": 2,
          "USA": 2375,
          "week": 52
         }
        ]
       },
       "mark": "point"
      },
      "image/png": "[encoded data removed]",
      "text/plain": [
       "<VegaLite 2 object>\n",
       "\n",
       "If you see this message, it means the renderer has not been properly enabled\n",
       "for the frontend that you are using. For more information, see\n",
       "https://altair-viz.github.io/user_guide/troubleshooting.html\n"
      ]
     },
     "execution_count": 8,
     "metadata": {},
     "output_type": "execute_result"
    }
   ],
   "source": [
    "alt.Chart(flu).mark_point()"
   ]
  },
  {
   "cell_type": "code",
   "execution_count": 9,
   "metadata": {},
   "outputs": [
    {
     "data": {
      "application/vnd.vegalite.v2+json": {
       "$schema": "https://vega.github.io/schema/vega-lite/v2.4.3.json",
       "config": {
        "view": {
         "height": 300,
         "width": 400
        }
       },
       "data": {
        "values": [
         {
          "Afghanistan": 5,
          "Argentina": 4,
          "Australia": 2,
          "Canada": 41,
          "China": 2179,
          "Colombia": 36,
          "Egypt": 739,
          "Germany": 26,
          "Ireland": 23,
          "South Africa": 0,
          "USA": 366,
          "week": 1
         },
         {
          "Afghanistan": 13,
          "Argentina": 21,
          "Australia": 1,
          "Canada": 15,
          "China": 2213,
          "Colombia": 36,
          "Egypt": 396,
          "Germany": 24,
          "Ireland": 8,
          "South Africa": 1,
          "USA": 396,
          "week": 2
         },
         {
          "Afghanistan": 4,
          "Argentina": 6,
          "Australia": 1,
          "Canada": 8,
          "China": 2228,
          "Colombia": 14,
          "Egypt": 192,
          "Germany": 18,
          "Ireland": 4,
          "South Africa": 0,
          "USA": 447,
          "week": 3
         },
         {
          "Afghanistan": 0,
          "Argentina": 1,
          "Australia": 0,
          "Canada": 14,
          "China": 2027,
          "Colombia": 11,
          "Egypt": 80,
          "Germany": null,
          "Ireland": 8,
          "South Africa": 0,
          "USA": 402,
          "week": 4
         },
         {
          "Afghanistan": 0,
          "Argentina": 4,
          "Australia": 1,
          "Canada": 12,
          "China": 1813,
          "Colombia": 8,
          "Egypt": 56,
          "Germany": null,
          "Ireland": 4,
          "South Africa": 0,
          "USA": 404,
          "week": 5
         },
         {
          "Afghanistan": 0,
          "Argentina": 0,
          "Australia": 1,
          "Canada": 6,
          "China": 1353,
          "Colombia": 9,
          "Egypt": 47,
          "Germany": null,
          "Ireland": 0,
          "South Africa": 0,
          "USA": 361,
          "week": 6
         },
         {
          "Afghanistan": 1,
          "Argentina": 3,
          "Australia": 0,
          "Canada": 6,
          "China": 799,
          "Colombia": 7,
          "Egypt": 32,
          "Germany": null,
          "Ireland": 0,
          "South Africa": 0,
          "USA": 380,
          "week": 7
         },
         {
          "Afghanistan": 1,
          "Argentina": 1,
          "Australia": 4,
          "Canada": 7,
          "China": 1218,
          "Colombia": 5,
          "Egypt": 16,
          "Germany": null,
          "Ireland": 1,
          "South Africa": 1,
          "USA": 424,
          "week": 8
         },
         {
          "Afghanistan": null,
          "Argentina": 0,
          "Australia": 3,
          "Canada": 3,
          "China": 1333,
          "Colombia": 7,
          "Egypt": 8,
          "Germany": 3,
          "Ireland": 0,
          "South Africa": 0,
          "USA": 445,
          "week": 9
         },
         {
          "Afghanistan": 1,
          "Argentina": 3,
          "Australia": 1,
          "Canada": 7,
          "China": 1614,
          "Colombia": 5,
          "Egypt": 8,
          "Germany": 7,
          "Ireland": 0,
          "South Africa": 0,
          "USA": 475,
          "week": 10
         },
         {
          "Afghanistan": 0,
          "Argentina": 0,
          "Australia": 1,
          "Canada": 9,
          "China": 1745,
          "Colombia": 11,
          "Egypt": 3,
          "Germany": 2,
          "Ireland": 0,
          "South Africa": 0,
          "USA": 351,
          "week": 11
         },
         {
          "Afghanistan": 0,
          "Argentina": 9,
          "Australia": 2,
          "Canada": 7,
          "China": 1548,
          "Colombia": 1,
          "Egypt": 5,
          "Germany": 6,
          "Ireland": 1,
          "South Africa": 0,
          "USA": 246,
          "week": 12
         },
         {
          "Afghanistan": 0,
          "Argentina": 8,
          "Australia": 0,
          "Canada": 6,
          "China": 1388,
          "Colombia": 4,
          "Egypt": 6,
          "Germany": 0,
          "Ireland": 0,
          "South Africa": 0,
          "USA": 237,
          "week": 13
         },
         {
          "Afghanistan": 0,
          "Argentina": 7,
          "Australia": 0,
          "Canada": 6,
          "China": 843,
          "Colombia": 2,
          "Egypt": 3,
          "Germany": 1,
          "Ireland": 0,
          "South Africa": 0,
          "USA": 127,
          "week": 14
         },
         {
          "Afghanistan": 0,
          "Argentina": 9,
          "Australia": 4,
          "Canada": 0,
          "China": 635,
          "Colombia": 8,
          "Egypt": 2,
          "Germany": 0,
          "Ireland": 0,
          "South Africa": 1,
          "USA": 79,
          "week": 15
         },
         {
          "Afghanistan": 0,
          "Argentina": 15,
          "Australia": 2,
          "Canada": 2,
          "China": 716,
          "Colombia": 16,
          "Egypt": 2,
          "Germany": 0,
          "Ireland": 1,
          "South Africa": 0,
          "USA": 52,
          "week": 16
         },
         {
          "Afghanistan": 0,
          "Argentina": 16,
          "Australia": 6,
          "Canada": 4,
          "China": 602,
          "Colombia": 8,
          "Egypt": 2,
          "Germany": 0,
          "Ireland": 0,
          "South Africa": 0,
          "USA": 37,
          "week": 17
         },
         {
          "Afghanistan": 0,
          "Argentina": 18,
          "Australia": 1,
          "Canada": 3,
          "China": 529,
          "Colombia": 3,
          "Egypt": 9,
          "Germany": 0,
          "Ireland": 0,
          "South Africa": 1,
          "USA": 31,
          "week": 18
         },
         {
          "Afghanistan": 0,
          "Argentina": 10,
          "Australia": 3,
          "Canada": 1,
          "China": 434,
          "Colombia": 8,
          "Egypt": 2,
          "Germany": 0,
          "Ireland": 0,
          "South Africa": 0,
          "USA": 26,
          "week": 19
         },
         {
          "Afghanistan": 0,
          "Argentina": 4,
          "Australia": 4,
          "Canada": 4,
          "China": 368,
          "Colombia": 10,
          "Egypt": 1,
          "Germany": 1,
          "Ireland": 1,
          "South Africa": 1,
          "USA": 19,
          "week": 20
         },
         {
          "Afghanistan": 0,
          "Argentina": 5,
          "Australia": 4,
          "Canada": 5,
          "China": 314,
          "Colombia": 15,
          "Egypt": 0,
          "Germany": 0,
          "Ireland": 0,
          "South Africa": 1,
          "USA": 8,
          "week": 21
         },
         {
          "Afghanistan": 0,
          "Argentina": 34,
          "Australia": 3,
          "Canada": 0,
          "China": 225,
          "Colombia": 42,
          "Egypt": 9,
          "Germany": 0,
          "Ireland": 0,
          "South Africa": 2,
          "USA": 8,
          "week": 22
         },
         {
          "Afghanistan": 0,
          "Argentina": 49,
          "Australia": 1,
          "Canada": 1,
          "China": 238,
          "Colombia": 40,
          "Egypt": 8,
          "Germany": 1,
          "Ireland": 0,
          "South Africa": 10,
          "USA": 8,
          "week": 23
         },
         {
          "Afghanistan": 0,
          "Argentina": 50,
          "Australia": 5,
          "Canada": 1,
          "China": 118,
          "Colombia": 30,
          "Egypt": 8,
          "Germany": 0,
          "Ireland": 0,
          "South Africa": 16,
          "USA": 11,
          "week": 24
         },
         {
          "Afghanistan": 1,
          "Argentina": 40,
          "Australia": 12,
          "Canada": 0,
          "China": 185,
          "Colombia": 40,
          "Egypt": 7,
          "Germany": 0,
          "Ireland": 0,
          "South Africa": 36,
          "USA": 11,
          "week": 25
         },
         {
          "Afghanistan": 0,
          "Argentina": 43,
          "Australia": 18,
          "Canada": 8,
          "China": 202,
          "Colombia": 36,
          "Egypt": 6,
          "Germany": 0,
          "Ireland": 0,
          "South Africa": 84,
          "USA": 7,
          "week": 26
         },
         {
          "Afghanistan": 0,
          "Argentina": 40,
          "Australia": 14,
          "Canada": 2,
          "China": 262,
          "Colombia": 31,
          "Egypt": 6,
          "Germany": 0,
          "Ireland": 0,
          "South Africa": 85,
          "USA": 4,
          "week": 27
         },
         {
          "Afghanistan": 0,
          "Argentina": 64,
          "Australia": 15,
          "Canada": 6,
          "China": 334,
          "Colombia": 33,
          "Egypt": 4,
          "Germany": 0,
          "Ireland": 0,
          "South Africa": 85,
          "USA": 10,
          "week": 28
         },
         {
          "Afghanistan": 0,
          "Argentina": 76,
          "Australia": 15,
          "Canada": 0,
          "China": 432,
          "Colombia": 33,
          "Egypt": 14,
          "Germany": 0,
          "Ireland": 0,
          "South Africa": 61,
          "USA": 12,
          "week": 29
         },
         {
          "Afghanistan": 0,
          "Argentina": 75,
          "Australia": 31,
          "Canada": 3,
          "China": 413,
          "Colombia": 27,
          "Egypt": 7,
          "Germany": 0,
          "Ireland": 0,
          "South Africa": 121,
          "USA": 24,
          "week": 30
         },
         {
          "Afghanistan": 0,
          "Argentina": 43,
          "Australia": 39,
          "Canada": 0,
          "China": 615,
          "Colombia": 29,
          "Egypt": 5,
          "Germany": 0,
          "Ireland": 0,
          "South Africa": 124,
          "USA": 19,
          "week": 31
         },
         {
          "Afghanistan": 0,
          "Argentina": 84,
          "Australia": 44,
          "Canada": 2,
          "China": 776,
          "Colombia": 15,
          "Egypt": 2,
          "Germany": 0,
          "Ireland": 0,
          "South Africa": 99,
          "USA": 32,
          "week": 32
         },
         {
          "Afghanistan": 0,
          "Argentina": 71,
          "Australia": 60,
          "Canada": 1,
          "China": 782,
          "Colombia": 9,
          "Egypt": 4,
          "Germany": 0,
          "Ireland": 0,
          "South Africa": 122,
          "USA": 21,
          "week": 33
         },
         {
          "Afghanistan": 0,
          "Argentina": 79,
          "Australia": 64,
          "Canada": 6,
          "China": 1018,
          "Colombia": 19,
          "Egypt": 1,
          "Germany": 0,
          "Ireland": 0,
          "South Africa": 116,
          "USA": 45,
          "week": 34
         },
         {
          "Afghanistan": 0,
          "Argentina": 52,
          "Australia": 78,
          "Canada": 2,
          "China": 1211,
          "Colombia": 3,
          "Egypt": 6,
          "Germany": 0,
          "Ireland": 0,
          "South Africa": 74,
          "USA": 34,
          "week": 35
         },
         {
          "Afghanistan": 0,
          "Argentina": 40,
          "Australia": 77,
          "Canada": 1,
          "China": 1441,
          "Colombia": 15,
          "Egypt": 0,
          "Germany": 0,
          "Ireland": 0,
          "South Africa": 78,
          "USA": 46,
          "week": 36
         },
         {
          "Afghanistan": 0,
          "Argentina": 32,
          "Australia": 56,
          "Canada": 3,
          "China": 1473,
          "Colombia": 18,
          "Egypt": 0,
          "Germany": 0,
          "Ireland": 0,
          "South Africa": 61,
          "USA": 64,
          "week": 37
         },
         {
          "Afghanistan": 0,
          "Argentina": 37,
          "Australia": 105,
          "Canada": 8,
          "China": 1197,
          "Colombia": 8,
          "Egypt": 0,
          "Germany": 1,
          "Ireland": 0,
          "South Africa": 39,
          "USA": 67,
          "week": 38
         },
         {
          "Afghanistan": 0,
          "Argentina": 64,
          "Australia": 92,
          "Canada": 12,
          "China": 1045,
          "Colombia": 13,
          "Egypt": 0,
          "Germany": 1,
          "Ireland": 0,
          "South Africa": 24,
          "USA": 62,
          "week": 39
         },
         {
          "Afghanistan": 0,
          "Argentina": 108,
          "Australia": 97,
          "Canada": 11,
          "China": 890,
          "Colombia": 7,
          "Egypt": 3,
          "Germany": 0,
          "Ireland": 0,
          "South Africa": 20,
          "USA": 77,
          "week": 40
         },
         {
          "Afghanistan": 0,
          "Argentina": 279,
          "Australia": 52,
          "Canada": 17,
          "China": 685,
          "Colombia": 2,
          "Egypt": 7,
          "Germany": 2,
          "Ireland": 2,
          "South Africa": 8,
          "USA": 128,
          "week": 41
         },
         {
          "Afghanistan": 0,
          "Argentina": 280,
          "Australia": 50,
          "Canada": 17,
          "China": 508,
          "Colombia": 3,
          "Egypt": 19,
          "Germany": 1,
          "Ireland": 1,
          "South Africa": 14,
          "USA": 141,
          "week": 42
         },
         {
          "Afghanistan": 0,
          "Argentina": 89,
          "Australia": 54,
          "Canada": 14,
          "China": 498,
          "Colombia": 1,
          "Egypt": 14,
          "Germany": 2,
          "Ireland": 0,
          "South Africa": 6,
          "USA": 168,
          "week": 43
         },
         {
          "Afghanistan": 0,
          "Argentina": 59,
          "Australia": 47,
          "Canada": 22,
          "China": 400,
          "Colombia": 9,
          "Egypt": 16,
          "Germany": 0,
          "Ireland": 0,
          "South Africa": 3,
          "USA": 247,
          "week": 44
         },
         {
          "Afghanistan": 0,
          "Argentina": 25,
          "Australia": 29,
          "Canada": 42,
          "China": 389,
          "Colombia": 5,
          "Egypt": 19,
          "Germany": 1,
          "Ireland": 0,
          "South Africa": 11,
          "USA": 352,
          "week": 45
         },
         {
          "Afghanistan": 0,
          "Argentina": 32,
          "Australia": 14,
          "Canada": 55,
          "China": 245,
          "Colombia": 15,
          "Egypt": 20,
          "Germany": 1,
          "Ireland": 0,
          "South Africa": 9,
          "USA": 491,
          "week": 46
         },
         {
          "Afghanistan": 0,
          "Argentina": 30,
          "Australia": 23,
          "Canada": 111,
          "China": 397,
          "Colombia": 13,
          "Egypt": 36,
          "Germany": 3,
          "Ireland": 1,
          "South Africa": 8,
          "USA": 588,
          "week": 47
         },
         {
          "Afghanistan": 0,
          "Argentina": 39,
          "Australia": 19,
          "Canada": 225,
          "China": 400,
          "Colombia": 4,
          "Egypt": 64,
          "Germany": 1,
          "Ireland": 1,
          "South Africa": 3,
          "USA": 609,
          "week": 48
         },
         {
          "Afghanistan": 0,
          "Argentina": 20,
          "Australia": 20,
          "Canada": 323,
          "China": 395,
          "Colombia": 17,
          "Egypt": 88,
          "Germany": 2,
          "Ireland": 13,
          "South Africa": 3,
          "USA": 843,
          "week": 49
         },
         {
          "Afghanistan": 0,
          "Argentina": 20,
          "Australia": 23,
          "Canada": 566,
          "China": 359,
          "Colombia": 14,
          "Egypt": 152,
          "Germany": 23,
          "Ireland": 48,
          "South Africa": 0,
          "USA": 1438,
          "week": 50
         },
         {
          "Afghanistan": null,
          "Argentina": 16,
          "Australia": 29,
          "Canada": 987,
          "China": 602,
          "Colombia": 19,
          "Egypt": 372,
          "Germany": 18,
          "Ireland": 161,
          "South Africa": 3,
          "USA": 1998,
          "week": 51
         },
         {
          "Afghanistan": null,
          "Argentina": 1,
          "Australia": 25,
          "Canada": 1366,
          "China": 532,
          "Colombia": 12,
          "Egypt": 522,
          "Germany": 44,
          "Ireland": 383,
          "South Africa": 2,
          "USA": 2375,
          "week": 52
         }
        ]
       },
       "encoding": {
        "x": {
         "field": "week",
         "type": "quantitative"
        }
       },
       "mark": "point"
      },
      "image/png": "[encoded data removed]",
      "text/plain": [
       "<VegaLite 2 object>\n",
       "\n",
       "If you see this message, it means the renderer has not been properly enabled\n",
       "for the frontend that you are using. For more information, see\n",
       "https://altair-viz.github.io/user_guide/troubleshooting.html\n"
      ]
     },
     "execution_count": 9,
     "metadata": {},
     "output_type": "execute_result"
    }
   ],
   "source": [
    "alt.Chart(flu).mark_point().encode(x='week')"
   ]
  },
  {
   "cell_type": "code",
   "execution_count": 10,
   "metadata": {},
   "outputs": [
    {
     "data": {
      "application/vnd.vegalite.v2+json": {
       "$schema": "https://vega.github.io/schema/vega-lite/v2.4.3.json",
       "config": {
        "view": {
         "height": 300,
         "width": 400
        }
       },
       "data": {
        "values": [
         {
          "Afghanistan": 5,
          "Argentina": 4,
          "Australia": 2,
          "Canada": 41,
          "China": 2179,
          "Colombia": 36,
          "Egypt": 739,
          "Germany": 26,
          "Ireland": 23,
          "South Africa": 0,
          "USA": 366,
          "week": 1
         },
         {
          "Afghanistan": 13,
          "Argentina": 21,
          "Australia": 1,
          "Canada": 15,
          "China": 2213,
          "Colombia": 36,
          "Egypt": 396,
          "Germany": 24,
          "Ireland": 8,
          "South Africa": 1,
          "USA": 396,
          "week": 2
         },
         {
          "Afghanistan": 4,
          "Argentina": 6,
          "Australia": 1,
          "Canada": 8,
          "China": 2228,
          "Colombia": 14,
          "Egypt": 192,
          "Germany": 18,
          "Ireland": 4,
          "South Africa": 0,
          "USA": 447,
          "week": 3
         },
         {
          "Afghanistan": 0,
          "Argentina": 1,
          "Australia": 0,
          "Canada": 14,
          "China": 2027,
          "Colombia": 11,
          "Egypt": 80,
          "Germany": null,
          "Ireland": 8,
          "South Africa": 0,
          "USA": 402,
          "week": 4
         },
         {
          "Afghanistan": 0,
          "Argentina": 4,
          "Australia": 1,
          "Canada": 12,
          "China": 1813,
          "Colombia": 8,
          "Egypt": 56,
          "Germany": null,
          "Ireland": 4,
          "South Africa": 0,
          "USA": 404,
          "week": 5
         },
         {
          "Afghanistan": 0,
          "Argentina": 0,
          "Australia": 1,
          "Canada": 6,
          "China": 1353,
          "Colombia": 9,
          "Egypt": 47,
          "Germany": null,
          "Ireland": 0,
          "South Africa": 0,
          "USA": 361,
          "week": 6
         },
         {
          "Afghanistan": 1,
          "Argentina": 3,
          "Australia": 0,
          "Canada": 6,
          "China": 799,
          "Colombia": 7,
          "Egypt": 32,
          "Germany": null,
          "Ireland": 0,
          "South Africa": 0,
          "USA": 380,
          "week": 7
         },
         {
          "Afghanistan": 1,
          "Argentina": 1,
          "Australia": 4,
          "Canada": 7,
          "China": 1218,
          "Colombia": 5,
          "Egypt": 16,
          "Germany": null,
          "Ireland": 1,
          "South Africa": 1,
          "USA": 424,
          "week": 8
         },
         {
          "Afghanistan": null,
          "Argentina": 0,
          "Australia": 3,
          "Canada": 3,
          "China": 1333,
          "Colombia": 7,
          "Egypt": 8,
          "Germany": 3,
          "Ireland": 0,
          "South Africa": 0,
          "USA": 445,
          "week": 9
         },
         {
          "Afghanistan": 1,
          "Argentina": 3,
          "Australia": 1,
          "Canada": 7,
          "China": 1614,
          "Colombia": 5,
          "Egypt": 8,
          "Germany": 7,
          "Ireland": 0,
          "South Africa": 0,
          "USA": 475,
          "week": 10
         },
         {
          "Afghanistan": 0,
          "Argentina": 0,
          "Australia": 1,
          "Canada": 9,
          "China": 1745,
          "Colombia": 11,
          "Egypt": 3,
          "Germany": 2,
          "Ireland": 0,
          "South Africa": 0,
          "USA": 351,
          "week": 11
         },
         {
          "Afghanistan": 0,
          "Argentina": 9,
          "Australia": 2,
          "Canada": 7,
          "China": 1548,
          "Colombia": 1,
          "Egypt": 5,
          "Germany": 6,
          "Ireland": 1,
          "South Africa": 0,
          "USA": 246,
          "week": 12
         },
         {
          "Afghanistan": 0,
          "Argentina": 8,
          "Australia": 0,
          "Canada": 6,
          "China": 1388,
          "Colombia": 4,
          "Egypt": 6,
          "Germany": 0,
          "Ireland": 0,
          "South Africa": 0,
          "USA": 237,
          "week": 13
         },
         {
          "Afghanistan": 0,
          "Argentina": 7,
          "Australia": 0,
          "Canada": 6,
          "China": 843,
          "Colombia": 2,
          "Egypt": 3,
          "Germany": 1,
          "Ireland": 0,
          "South Africa": 0,
          "USA": 127,
          "week": 14
         },
         {
          "Afghanistan": 0,
          "Argentina": 9,
          "Australia": 4,
          "Canada": 0,
          "China": 635,
          "Colombia": 8,
          "Egypt": 2,
          "Germany": 0,
          "Ireland": 0,
          "South Africa": 1,
          "USA": 79,
          "week": 15
         },
         {
          "Afghanistan": 0,
          "Argentina": 15,
          "Australia": 2,
          "Canada": 2,
          "China": 716,
          "Colombia": 16,
          "Egypt": 2,
          "Germany": 0,
          "Ireland": 1,
          "South Africa": 0,
          "USA": 52,
          "week": 16
         },
         {
          "Afghanistan": 0,
          "Argentina": 16,
          "Australia": 6,
          "Canada": 4,
          "China": 602,
          "Colombia": 8,
          "Egypt": 2,
          "Germany": 0,
          "Ireland": 0,
          "South Africa": 0,
          "USA": 37,
          "week": 17
         },
         {
          "Afghanistan": 0,
          "Argentina": 18,
          "Australia": 1,
          "Canada": 3,
          "China": 529,
          "Colombia": 3,
          "Egypt": 9,
          "Germany": 0,
          "Ireland": 0,
          "South Africa": 1,
          "USA": 31,
          "week": 18
         },
         {
          "Afghanistan": 0,
          "Argentina": 10,
          "Australia": 3,
          "Canada": 1,
          "China": 434,
          "Colombia": 8,
          "Egypt": 2,
          "Germany": 0,
          "Ireland": 0,
          "South Africa": 0,
          "USA": 26,
          "week": 19
         },
         {
          "Afghanistan": 0,
          "Argentina": 4,
          "Australia": 4,
          "Canada": 4,
          "China": 368,
          "Colombia": 10,
          "Egypt": 1,
          "Germany": 1,
          "Ireland": 1,
          "South Africa": 1,
          "USA": 19,
          "week": 20
         },
         {
          "Afghanistan": 0,
          "Argentina": 5,
          "Australia": 4,
          "Canada": 5,
          "China": 314,
          "Colombia": 15,
          "Egypt": 0,
          "Germany": 0,
          "Ireland": 0,
          "South Africa": 1,
          "USA": 8,
          "week": 21
         },
         {
          "Afghanistan": 0,
          "Argentina": 34,
          "Australia": 3,
          "Canada": 0,
          "China": 225,
          "Colombia": 42,
          "Egypt": 9,
          "Germany": 0,
          "Ireland": 0,
          "South Africa": 2,
          "USA": 8,
          "week": 22
         },
         {
          "Afghanistan": 0,
          "Argentina": 49,
          "Australia": 1,
          "Canada": 1,
          "China": 238,
          "Colombia": 40,
          "Egypt": 8,
          "Germany": 1,
          "Ireland": 0,
          "South Africa": 10,
          "USA": 8,
          "week": 23
         },
         {
          "Afghanistan": 0,
          "Argentina": 50,
          "Australia": 5,
          "Canada": 1,
          "China": 118,
          "Colombia": 30,
          "Egypt": 8,
          "Germany": 0,
          "Ireland": 0,
          "South Africa": 16,
          "USA": 11,
          "week": 24
         },
         {
          "Afghanistan": 1,
          "Argentina": 40,
          "Australia": 12,
          "Canada": 0,
          "China": 185,
          "Colombia": 40,
          "Egypt": 7,
          "Germany": 0,
          "Ireland": 0,
          "South Africa": 36,
          "USA": 11,
          "week": 25
         },
         {
          "Afghanistan": 0,
          "Argentina": 43,
          "Australia": 18,
          "Canada": 8,
          "China": 202,
          "Colombia": 36,
          "Egypt": 6,
          "Germany": 0,
          "Ireland": 0,
          "South Africa": 84,
          "USA": 7,
          "week": 26
         },
         {
          "Afghanistan": 0,
          "Argentina": 40,
          "Australia": 14,
          "Canada": 2,
          "China": 262,
          "Colombia": 31,
          "Egypt": 6,
          "Germany": 0,
          "Ireland": 0,
          "South Africa": 85,
          "USA": 4,
          "week": 27
         },
         {
          "Afghanistan": 0,
          "Argentina": 64,
          "Australia": 15,
          "Canada": 6,
          "China": 334,
          "Colombia": 33,
          "Egypt": 4,
          "Germany": 0,
          "Ireland": 0,
          "South Africa": 85,
          "USA": 10,
          "week": 28
         },
         {
          "Afghanistan": 0,
          "Argentina": 76,
          "Australia": 15,
          "Canada": 0,
          "China": 432,
          "Colombia": 33,
          "Egypt": 14,
          "Germany": 0,
          "Ireland": 0,
          "South Africa": 61,
          "USA": 12,
          "week": 29
         },
         {
          "Afghanistan": 0,
          "Argentina": 75,
          "Australia": 31,
          "Canada": 3,
          "China": 413,
          "Colombia": 27,
          "Egypt": 7,
          "Germany": 0,
          "Ireland": 0,
          "South Africa": 121,
          "USA": 24,
          "week": 30
         },
         {
          "Afghanistan": 0,
          "Argentina": 43,
          "Australia": 39,
          "Canada": 0,
          "China": 615,
          "Colombia": 29,
          "Egypt": 5,
          "Germany": 0,
          "Ireland": 0,
          "South Africa": 124,
          "USA": 19,
          "week": 31
         },
         {
          "Afghanistan": 0,
          "Argentina": 84,
          "Australia": 44,
          "Canada": 2,
          "China": 776,
          "Colombia": 15,
          "Egypt": 2,
          "Germany": 0,
          "Ireland": 0,
          "South Africa": 99,
          "USA": 32,
          "week": 32
         },
         {
          "Afghanistan": 0,
          "Argentina": 71,
          "Australia": 60,
          "Canada": 1,
          "China": 782,
          "Colombia": 9,
          "Egypt": 4,
          "Germany": 0,
          "Ireland": 0,
          "South Africa": 122,
          "USA": 21,
          "week": 33
         },
         {
          "Afghanistan": 0,
          "Argentina": 79,
          "Australia": 64,
          "Canada": 6,
          "China": 1018,
          "Colombia": 19,
          "Egypt": 1,
          "Germany": 0,
          "Ireland": 0,
          "South Africa": 116,
          "USA": 45,
          "week": 34
         },
         {
          "Afghanistan": 0,
          "Argentina": 52,
          "Australia": 78,
          "Canada": 2,
          "China": 1211,
          "Colombia": 3,
          "Egypt": 6,
          "Germany": 0,
          "Ireland": 0,
          "South Africa": 74,
          "USA": 34,
          "week": 35
         },
         {
          "Afghanistan": 0,
          "Argentina": 40,
          "Australia": 77,
          "Canada": 1,
          "China": 1441,
          "Colombia": 15,
          "Egypt": 0,
          "Germany": 0,
          "Ireland": 0,
          "South Africa": 78,
          "USA": 46,
          "week": 36
         },
         {
          "Afghanistan": 0,
          "Argentina": 32,
          "Australia": 56,
          "Canada": 3,
          "China": 1473,
          "Colombia": 18,
          "Egypt": 0,
          "Germany": 0,
          "Ireland": 0,
          "South Africa": 61,
          "USA": 64,
          "week": 37
         },
         {
          "Afghanistan": 0,
          "Argentina": 37,
          "Australia": 105,
          "Canada": 8,
          "China": 1197,
          "Colombia": 8,
          "Egypt": 0,
          "Germany": 1,
          "Ireland": 0,
          "South Africa": 39,
          "USA": 67,
          "week": 38
         },
         {
          "Afghanistan": 0,
          "Argentina": 64,
          "Australia": 92,
          "Canada": 12,
          "China": 1045,
          "Colombia": 13,
          "Egypt": 0,
          "Germany": 1,
          "Ireland": 0,
          "South Africa": 24,
          "USA": 62,
          "week": 39
         },
         {
          "Afghanistan": 0,
          "Argentina": 108,
          "Australia": 97,
          "Canada": 11,
          "China": 890,
          "Colombia": 7,
          "Egypt": 3,
          "Germany": 0,
          "Ireland": 0,
          "South Africa": 20,
          "USA": 77,
          "week": 40
         },
         {
          "Afghanistan": 0,
          "Argentina": 279,
          "Australia": 52,
          "Canada": 17,
          "China": 685,
          "Colombia": 2,
          "Egypt": 7,
          "Germany": 2,
          "Ireland": 2,
          "South Africa": 8,
          "USA": 128,
          "week": 41
         },
         {
          "Afghanistan": 0,
          "Argentina": 280,
          "Australia": 50,
          "Canada": 17,
          "China": 508,
          "Colombia": 3,
          "Egypt": 19,
          "Germany": 1,
          "Ireland": 1,
          "South Africa": 14,
          "USA": 141,
          "week": 42
         },
         {
          "Afghanistan": 0,
          "Argentina": 89,
          "Australia": 54,
          "Canada": 14,
          "China": 498,
          "Colombia": 1,
          "Egypt": 14,
          "Germany": 2,
          "Ireland": 0,
          "South Africa": 6,
          "USA": 168,
          "week": 43
         },
         {
          "Afghanistan": 0,
          "Argentina": 59,
          "Australia": 47,
          "Canada": 22,
          "China": 400,
          "Colombia": 9,
          "Egypt": 16,
          "Germany": 0,
          "Ireland": 0,
          "South Africa": 3,
          "USA": 247,
          "week": 44
         },
         {
          "Afghanistan": 0,
          "Argentina": 25,
          "Australia": 29,
          "Canada": 42,
          "China": 389,
          "Colombia": 5,
          "Egypt": 19,
          "Germany": 1,
          "Ireland": 0,
          "South Africa": 11,
          "USA": 352,
          "week": 45
         },
         {
          "Afghanistan": 0,
          "Argentina": 32,
          "Australia": 14,
          "Canada": 55,
          "China": 245,
          "Colombia": 15,
          "Egypt": 20,
          "Germany": 1,
          "Ireland": 0,
          "South Africa": 9,
          "USA": 491,
          "week": 46
         },
         {
          "Afghanistan": 0,
          "Argentina": 30,
          "Australia": 23,
          "Canada": 111,
          "China": 397,
          "Colombia": 13,
          "Egypt": 36,
          "Germany": 3,
          "Ireland": 1,
          "South Africa": 8,
          "USA": 588,
          "week": 47
         },
         {
          "Afghanistan": 0,
          "Argentina": 39,
          "Australia": 19,
          "Canada": 225,
          "China": 400,
          "Colombia": 4,
          "Egypt": 64,
          "Germany": 1,
          "Ireland": 1,
          "South Africa": 3,
          "USA": 609,
          "week": 48
         },
         {
          "Afghanistan": 0,
          "Argentina": 20,
          "Australia": 20,
          "Canada": 323,
          "China": 395,
          "Colombia": 17,
          "Egypt": 88,
          "Germany": 2,
          "Ireland": 13,
          "South Africa": 3,
          "USA": 843,
          "week": 49
         },
         {
          "Afghanistan": 0,
          "Argentina": 20,
          "Australia": 23,
          "Canada": 566,
          "China": 359,
          "Colombia": 14,
          "Egypt": 152,
          "Germany": 23,
          "Ireland": 48,
          "South Africa": 0,
          "USA": 1438,
          "week": 50
         },
         {
          "Afghanistan": null,
          "Argentina": 16,
          "Australia": 29,
          "Canada": 987,
          "China": 602,
          "Colombia": 19,
          "Egypt": 372,
          "Germany": 18,
          "Ireland": 161,
          "South Africa": 3,
          "USA": 1998,
          "week": 51
         },
         {
          "Afghanistan": null,
          "Argentina": 1,
          "Australia": 25,
          "Canada": 1366,
          "China": 532,
          "Colombia": 12,
          "Egypt": 522,
          "Germany": 44,
          "Ireland": 383,
          "South Africa": 2,
          "USA": 2375,
          "week": 52
         }
        ]
       },
       "encoding": {
        "x": {
         "field": "week",
         "type": "quantitative"
        },
        "y": {
         "field": "USA",
         "type": "quantitative"
        }
       },
       "mark": "line"
      },
      "image/png": "[encoded data removed]",
      "text/plain": [
       "<VegaLite 2 object>\n",
       "\n",
       "If you see this message, it means the renderer has not been properly enabled\n",
       "for the frontend that you are using. For more information, see\n",
       "https://altair-viz.github.io/user_guide/troubleshooting.html\n"
      ]
     },
     "execution_count": 10,
     "metadata": {},
     "output_type": "execute_result"
    }
   ],
   "source": [
    "alt.Chart(flu).mark_line().encode(x='week', y='USA')"
   ]
  },
  {
   "cell_type": "code",
   "execution_count": 11,
   "metadata": {},
   "outputs": [
    {
     "data": {
      "text/html": [
       "<div>\n",
       "<style scoped>\n",
       "    .dataframe tbody tr th:only-of-type {\n",
       "        vertical-align: middle;\n",
       "    }\n",
       "\n",
       "    .dataframe tbody tr th {\n",
       "        vertical-align: top;\n",
       "    }\n",
       "\n",
       "    .dataframe thead th {\n",
       "        text-align: right;\n",
       "    }\n",
       "</style>\n",
       "<table border=\"1\" class=\"dataframe\">\n",
       "  <thead>\n",
       "    <tr style=\"text-align: right;\">\n",
       "      <th></th>\n",
       "      <th>week</th>\n",
       "      <th>country</th>\n",
       "      <th>value</th>\n",
       "    </tr>\n",
       "  </thead>\n",
       "  <tbody>\n",
       "    <tr>\n",
       "      <th>0</th>\n",
       "      <td>1</td>\n",
       "      <td>Afghanistan</td>\n",
       "      <td>5.0</td>\n",
       "    </tr>\n",
       "    <tr>\n",
       "      <th>1</th>\n",
       "      <td>2</td>\n",
       "      <td>Afghanistan</td>\n",
       "      <td>13.0</td>\n",
       "    </tr>\n",
       "    <tr>\n",
       "      <th>2</th>\n",
       "      <td>3</td>\n",
       "      <td>Afghanistan</td>\n",
       "      <td>4.0</td>\n",
       "    </tr>\n",
       "    <tr>\n",
       "      <th>3</th>\n",
       "      <td>4</td>\n",
       "      <td>Afghanistan</td>\n",
       "      <td>0.0</td>\n",
       "    </tr>\n",
       "    <tr>\n",
       "      <th>4</th>\n",
       "      <td>5</td>\n",
       "      <td>Afghanistan</td>\n",
       "      <td>0.0</td>\n",
       "    </tr>\n",
       "  </tbody>\n",
       "</table>\n",
       "</div>"
      ],
      "text/plain": [
       "   week      country  value\n",
       "0     1  Afghanistan    5.0\n",
       "1     2  Afghanistan   13.0\n",
       "2     3  Afghanistan    4.0\n",
       "3     4  Afghanistan    0.0\n",
       "4     5  Afghanistan    0.0"
      ]
     },
     "execution_count": 11,
     "metadata": {},
     "output_type": "execute_result"
    }
   ],
   "source": [
    "cols = flu.columns.tolist()\n",
    "norm = pandas.melt(flu, id_vars=[cols[0]], value_vars=cols[1:], var_name='country')\n",
    "norm.head()"
   ]
  },
  {
   "cell_type": "code",
   "execution_count": 12,
   "metadata": {},
   "outputs": [
    {
     "data": {
      "application/vnd.vegalite.v2+json": {
       "$schema": "https://vega.github.io/schema/vega-lite/v2.4.3.json",
       "config": {
        "view": {
         "height": 300,
         "width": 400
        }
       },
       "data": {
        "values": [
         {
          "country": "Afghanistan",
          "value": 5,
          "week": 1
         },
         {
          "country": "Afghanistan",
          "value": 13,
          "week": 2
         },
         {
          "country": "Afghanistan",
          "value": 4,
          "week": 3
         },
         {
          "country": "Afghanistan",
          "value": 0,
          "week": 4
         },
         {
          "country": "Afghanistan",
          "value": 0,
          "week": 5
         },
         {
          "country": "Afghanistan",
          "value": 0,
          "week": 6
         },
         {
          "country": "Afghanistan",
          "value": 1,
          "week": 7
         },
         {
          "country": "Afghanistan",
          "value": 1,
          "week": 8
         },
         {
          "country": "Afghanistan",
          "value": null,
          "week": 9
         },
         {
          "country": "Afghanistan",
          "value": 1,
          "week": 10
         },
         {
          "country": "Afghanistan",
          "value": 0,
          "week": 11
         },
         {
          "country": "Afghanistan",
          "value": 0,
          "week": 12
         },
         {
          "country": "Afghanistan",
          "value": 0,
          "week": 13
         },
         {
          "country": "Afghanistan",
          "value": 0,
          "week": 14
         },
         {
          "country": "Afghanistan",
          "value": 0,
          "week": 15
         },
         {
          "country": "Afghanistan",
          "value": 0,
          "week": 16
         },
         {
          "country": "Afghanistan",
          "value": 0,
          "week": 17
         },
         {
          "country": "Afghanistan",
          "value": 0,
          "week": 18
         },
         {
          "country": "Afghanistan",
          "value": 0,
          "week": 19
         },
         {
          "country": "Afghanistan",
          "value": 0,
          "week": 20
         },
         {
          "country": "Afghanistan",
          "value": 0,
          "week": 21
         },
         {
          "country": "Afghanistan",
          "value": 0,
          "week": 22
         },
         {
          "country": "Afghanistan",
          "value": 0,
          "week": 23
         },
         {
          "country": "Afghanistan",
          "value": 0,
          "week": 24
         },
         {
          "country": "Afghanistan",
          "value": 1,
          "week": 25
         },
         {
          "country": "Afghanistan",
          "value": 0,
          "week": 26
         },
         {
          "country": "Afghanistan",
          "value": 0,
          "week": 27
         },
         {
          "country": "Afghanistan",
          "value": 0,
          "week": 28
         },
         {
          "country": "Afghanistan",
          "value": 0,
          "week": 29
         },
         {
          "country": "Afghanistan",
          "value": 0,
          "week": 30
         },
         {
          "country": "Afghanistan",
          "value": 0,
          "week": 31
         },
         {
          "country": "Afghanistan",
          "value": 0,
          "week": 32
         },
         {
          "country": "Afghanistan",
          "value": 0,
          "week": 33
         },
         {
          "country": "Afghanistan",
          "value": 0,
          "week": 34
         },
         {
          "country": "Afghanistan",
          "value": 0,
          "week": 35
         },
         {
          "country": "Afghanistan",
          "value": 0,
          "week": 36
         },
         {
          "country": "Afghanistan",
          "value": 0,
          "week": 37
         },
         {
          "country": "Afghanistan",
          "value": 0,
          "week": 38
         },
         {
          "country": "Afghanistan",
          "value": 0,
          "week": 39
         },
         {
          "country": "Afghanistan",
          "value": 0,
          "week": 40
         },
         {
          "country": "Afghanistan",
          "value": 0,
          "week": 41
         },
         {
          "country": "Afghanistan",
          "value": 0,
          "week": 42
         },
         {
          "country": "Afghanistan",
          "value": 0,
          "week": 43
         },
         {
          "country": "Afghanistan",
          "value": 0,
          "week": 44
         },
         {
          "country": "Afghanistan",
          "value": 0,
          "week": 45
         },
         {
          "country": "Afghanistan",
          "value": 0,
          "week": 46
         },
         {
          "country": "Afghanistan",
          "value": 0,
          "week": 47
         },
         {
          "country": "Afghanistan",
          "value": 0,
          "week": 48
         },
         {
          "country": "Afghanistan",
          "value": 0,
          "week": 49
         },
         {
          "country": "Afghanistan",
          "value": 0,
          "week": 50
         },
         {
          "country": "Afghanistan",
          "value": null,
          "week": 51
         },
         {
          "country": "Afghanistan",
          "value": null,
          "week": 52
         },
         {
          "country": "Argentina",
          "value": 4,
          "week": 1
         },
         {
          "country": "Argentina",
          "value": 21,
          "week": 2
         },
         {
          "country": "Argentina",
          "value": 6,
          "week": 3
         },
         {
          "country": "Argentina",
          "value": 1,
          "week": 4
         },
         {
          "country": "Argentina",
          "value": 4,
          "week": 5
         },
         {
          "country": "Argentina",
          "value": 0,
          "week": 6
         },
         {
          "country": "Argentina",
          "value": 3,
          "week": 7
         },
         {
          "country": "Argentina",
          "value": 1,
          "week": 8
         },
         {
          "country": "Argentina",
          "value": 0,
          "week": 9
         },
         {
          "country": "Argentina",
          "value": 3,
          "week": 10
         },
         {
          "country": "Argentina",
          "value": 0,
          "week": 11
         },
         {
          "country": "Argentina",
          "value": 9,
          "week": 12
         },
         {
          "country": "Argentina",
          "value": 8,
          "week": 13
         },
         {
          "country": "Argentina",
          "value": 7,
          "week": 14
         },
         {
          "country": "Argentina",
          "value": 9,
          "week": 15
         },
         {
          "country": "Argentina",
          "value": 15,
          "week": 16
         },
         {
          "country": "Argentina",
          "value": 16,
          "week": 17
         },
         {
          "country": "Argentina",
          "value": 18,
          "week": 18
         },
         {
          "country": "Argentina",
          "value": 10,
          "week": 19
         },
         {
          "country": "Argentina",
          "value": 4,
          "week": 20
         },
         {
          "country": "Argentina",
          "value": 5,
          "week": 21
         },
         {
          "country": "Argentina",
          "value": 34,
          "week": 22
         },
         {
          "country": "Argentina",
          "value": 49,
          "week": 23
         },
         {
          "country": "Argentina",
          "value": 50,
          "week": 24
         },
         {
          "country": "Argentina",
          "value": 40,
          "week": 25
         },
         {
          "country": "Argentina",
          "value": 43,
          "week": 26
         },
         {
          "country": "Argentina",
          "value": 40,
          "week": 27
         },
         {
          "country": "Argentina",
          "value": 64,
          "week": 28
         },
         {
          "country": "Argentina",
          "value": 76,
          "week": 29
         },
         {
          "country": "Argentina",
          "value": 75,
          "week": 30
         },
         {
          "country": "Argentina",
          "value": 43,
          "week": 31
         },
         {
          "country": "Argentina",
          "value": 84,
          "week": 32
         },
         {
          "country": "Argentina",
          "value": 71,
          "week": 33
         },
         {
          "country": "Argentina",
          "value": 79,
          "week": 34
         },
         {
          "country": "Argentina",
          "value": 52,
          "week": 35
         },
         {
          "country": "Argentina",
          "value": 40,
          "week": 36
         },
         {
          "country": "Argentina",
          "value": 32,
          "week": 37
         },
         {
          "country": "Argentina",
          "value": 37,
          "week": 38
         },
         {
          "country": "Argentina",
          "value": 64,
          "week": 39
         },
         {
          "country": "Argentina",
          "value": 108,
          "week": 40
         },
         {
          "country": "Argentina",
          "value": 279,
          "week": 41
         },
         {
          "country": "Argentina",
          "value": 280,
          "week": 42
         },
         {
          "country": "Argentina",
          "value": 89,
          "week": 43
         },
         {
          "country": "Argentina",
          "value": 59,
          "week": 44
         },
         {
          "country": "Argentina",
          "value": 25,
          "week": 45
         },
         {
          "country": "Argentina",
          "value": 32,
          "week": 46
         },
         {
          "country": "Argentina",
          "value": 30,
          "week": 47
         },
         {
          "country": "Argentina",
          "value": 39,
          "week": 48
         },
         {
          "country": "Argentina",
          "value": 20,
          "week": 49
         },
         {
          "country": "Argentina",
          "value": 20,
          "week": 50
         },
         {
          "country": "Argentina",
          "value": 16,
          "week": 51
         },
         {
          "country": "Argentina",
          "value": 1,
          "week": 52
         },
         {
          "country": "Australia",
          "value": 2,
          "week": 1
         },
         {
          "country": "Australia",
          "value": 1,
          "week": 2
         },
         {
          "country": "Australia",
          "value": 1,
          "week": 3
         },
         {
          "country": "Australia",
          "value": 0,
          "week": 4
         },
         {
          "country": "Australia",
          "value": 1,
          "week": 5
         },
         {
          "country": "Australia",
          "value": 1,
          "week": 6
         },
         {
          "country": "Australia",
          "value": 0,
          "week": 7
         },
         {
          "country": "Australia",
          "value": 4,
          "week": 8
         },
         {
          "country": "Australia",
          "value": 3,
          "week": 9
         },
         {
          "country": "Australia",
          "value": 1,
          "week": 10
         },
         {
          "country": "Australia",
          "value": 1,
          "week": 11
         },
         {
          "country": "Australia",
          "value": 2,
          "week": 12
         },
         {
          "country": "Australia",
          "value": 0,
          "week": 13
         },
         {
          "country": "Australia",
          "value": 0,
          "week": 14
         },
         {
          "country": "Australia",
          "value": 4,
          "week": 15
         },
         {
          "country": "Australia",
          "value": 2,
          "week": 16
         },
         {
          "country": "Australia",
          "value": 6,
          "week": 17
         },
         {
          "country": "Australia",
          "value": 1,
          "week": 18
         },
         {
          "country": "Australia",
          "value": 3,
          "week": 19
         },
         {
          "country": "Australia",
          "value": 4,
          "week": 20
         },
         {
          "country": "Australia",
          "value": 4,
          "week": 21
         },
         {
          "country": "Australia",
          "value": 3,
          "week": 22
         },
         {
          "country": "Australia",
          "value": 1,
          "week": 23
         },
         {
          "country": "Australia",
          "value": 5,
          "week": 24
         },
         {
          "country": "Australia",
          "value": 12,
          "week": 25
         },
         {
          "country": "Australia",
          "value": 18,
          "week": 26
         },
         {
          "country": "Australia",
          "value": 14,
          "week": 27
         },
         {
          "country": "Australia",
          "value": 15,
          "week": 28
         },
         {
          "country": "Australia",
          "value": 15,
          "week": 29
         },
         {
          "country": "Australia",
          "value": 31,
          "week": 30
         },
         {
          "country": "Australia",
          "value": 39,
          "week": 31
         },
         {
          "country": "Australia",
          "value": 44,
          "week": 32
         },
         {
          "country": "Australia",
          "value": 60,
          "week": 33
         },
         {
          "country": "Australia",
          "value": 64,
          "week": 34
         },
         {
          "country": "Australia",
          "value": 78,
          "week": 35
         },
         {
          "country": "Australia",
          "value": 77,
          "week": 36
         },
         {
          "country": "Australia",
          "value": 56,
          "week": 37
         },
         {
          "country": "Australia",
          "value": 105,
          "week": 38
         },
         {
          "country": "Australia",
          "value": 92,
          "week": 39
         },
         {
          "country": "Australia",
          "value": 97,
          "week": 40
         },
         {
          "country": "Australia",
          "value": 52,
          "week": 41
         },
         {
          "country": "Australia",
          "value": 50,
          "week": 42
         },
         {
          "country": "Australia",
          "value": 54,
          "week": 43
         },
         {
          "country": "Australia",
          "value": 47,
          "week": 44
         },
         {
          "country": "Australia",
          "value": 29,
          "week": 45
         },
         {
          "country": "Australia",
          "value": 14,
          "week": 46
         },
         {
          "country": "Australia",
          "value": 23,
          "week": 47
         },
         {
          "country": "Australia",
          "value": 19,
          "week": 48
         },
         {
          "country": "Australia",
          "value": 20,
          "week": 49
         },
         {
          "country": "Australia",
          "value": 23,
          "week": 50
         },
         {
          "country": "Australia",
          "value": 29,
          "week": 51
         },
         {
          "country": "Australia",
          "value": 25,
          "week": 52
         },
         {
          "country": "Canada",
          "value": 41,
          "week": 1
         },
         {
          "country": "Canada",
          "value": 15,
          "week": 2
         },
         {
          "country": "Canada",
          "value": 8,
          "week": 3
         },
         {
          "country": "Canada",
          "value": 14,
          "week": 4
         },
         {
          "country": "Canada",
          "value": 12,
          "week": 5
         },
         {
          "country": "Canada",
          "value": 6,
          "week": 6
         },
         {
          "country": "Canada",
          "value": 6,
          "week": 7
         },
         {
          "country": "Canada",
          "value": 7,
          "week": 8
         },
         {
          "country": "Canada",
          "value": 3,
          "week": 9
         },
         {
          "country": "Canada",
          "value": 7,
          "week": 10
         },
         {
          "country": "Canada",
          "value": 9,
          "week": 11
         },
         {
          "country": "Canada",
          "value": 7,
          "week": 12
         },
         {
          "country": "Canada",
          "value": 6,
          "week": 13
         },
         {
          "country": "Canada",
          "value": 6,
          "week": 14
         },
         {
          "country": "Canada",
          "value": 0,
          "week": 15
         },
         {
          "country": "Canada",
          "value": 2,
          "week": 16
         },
         {
          "country": "Canada",
          "value": 4,
          "week": 17
         },
         {
          "country": "Canada",
          "value": 3,
          "week": 18
         },
         {
          "country": "Canada",
          "value": 1,
          "week": 19
         },
         {
          "country": "Canada",
          "value": 4,
          "week": 20
         },
         {
          "country": "Canada",
          "value": 5,
          "week": 21
         },
         {
          "country": "Canada",
          "value": 0,
          "week": 22
         },
         {
          "country": "Canada",
          "value": 1,
          "week": 23
         },
         {
          "country": "Canada",
          "value": 1,
          "week": 24
         },
         {
          "country": "Canada",
          "value": 0,
          "week": 25
         },
         {
          "country": "Canada",
          "value": 8,
          "week": 26
         },
         {
          "country": "Canada",
          "value": 2,
          "week": 27
         },
         {
          "country": "Canada",
          "value": 6,
          "week": 28
         },
         {
          "country": "Canada",
          "value": 0,
          "week": 29
         },
         {
          "country": "Canada",
          "value": 3,
          "week": 30
         },
         {
          "country": "Canada",
          "value": 0,
          "week": 31
         },
         {
          "country": "Canada",
          "value": 2,
          "week": 32
         },
         {
          "country": "Canada",
          "value": 1,
          "week": 33
         },
         {
          "country": "Canada",
          "value": 6,
          "week": 34
         },
         {
          "country": "Canada",
          "value": 2,
          "week": 35
         },
         {
          "country": "Canada",
          "value": 1,
          "week": 36
         },
         {
          "country": "Canada",
          "value": 3,
          "week": 37
         },
         {
          "country": "Canada",
          "value": 8,
          "week": 38
         },
         {
          "country": "Canada",
          "value": 12,
          "week": 39
         },
         {
          "country": "Canada",
          "value": 11,
          "week": 40
         },
         {
          "country": "Canada",
          "value": 17,
          "week": 41
         },
         {
          "country": "Canada",
          "value": 17,
          "week": 42
         },
         {
          "country": "Canada",
          "value": 14,
          "week": 43
         },
         {
          "country": "Canada",
          "value": 22,
          "week": 44
         },
         {
          "country": "Canada",
          "value": 42,
          "week": 45
         },
         {
          "country": "Canada",
          "value": 55,
          "week": 46
         },
         {
          "country": "Canada",
          "value": 111,
          "week": 47
         },
         {
          "country": "Canada",
          "value": 225,
          "week": 48
         },
         {
          "country": "Canada",
          "value": 323,
          "week": 49
         },
         {
          "country": "Canada",
          "value": 566,
          "week": 50
         },
         {
          "country": "Canada",
          "value": 987,
          "week": 51
         },
         {
          "country": "Canada",
          "value": 1366,
          "week": 52
         },
         {
          "country": "China",
          "value": 2179,
          "week": 1
         },
         {
          "country": "China",
          "value": 2213,
          "week": 2
         },
         {
          "country": "China",
          "value": 2228,
          "week": 3
         },
         {
          "country": "China",
          "value": 2027,
          "week": 4
         },
         {
          "country": "China",
          "value": 1813,
          "week": 5
         },
         {
          "country": "China",
          "value": 1353,
          "week": 6
         },
         {
          "country": "China",
          "value": 799,
          "week": 7
         },
         {
          "country": "China",
          "value": 1218,
          "week": 8
         },
         {
          "country": "China",
          "value": 1333,
          "week": 9
         },
         {
          "country": "China",
          "value": 1614,
          "week": 10
         },
         {
          "country": "China",
          "value": 1745,
          "week": 11
         },
         {
          "country": "China",
          "value": 1548,
          "week": 12
         },
         {
          "country": "China",
          "value": 1388,
          "week": 13
         },
         {
          "country": "China",
          "value": 843,
          "week": 14
         },
         {
          "country": "China",
          "value": 635,
          "week": 15
         },
         {
          "country": "China",
          "value": 716,
          "week": 16
         },
         {
          "country": "China",
          "value": 602,
          "week": 17
         },
         {
          "country": "China",
          "value": 529,
          "week": 18
         },
         {
          "country": "China",
          "value": 434,
          "week": 19
         },
         {
          "country": "China",
          "value": 368,
          "week": 20
         },
         {
          "country": "China",
          "value": 314,
          "week": 21
         },
         {
          "country": "China",
          "value": 225,
          "week": 22
         },
         {
          "country": "China",
          "value": 238,
          "week": 23
         },
         {
          "country": "China",
          "value": 118,
          "week": 24
         },
         {
          "country": "China",
          "value": 185,
          "week": 25
         },
         {
          "country": "China",
          "value": 202,
          "week": 26
         },
         {
          "country": "China",
          "value": 262,
          "week": 27
         },
         {
          "country": "China",
          "value": 334,
          "week": 28
         },
         {
          "country": "China",
          "value": 432,
          "week": 29
         },
         {
          "country": "China",
          "value": 413,
          "week": 30
         },
         {
          "country": "China",
          "value": 615,
          "week": 31
         },
         {
          "country": "China",
          "value": 776,
          "week": 32
         },
         {
          "country": "China",
          "value": 782,
          "week": 33
         },
         {
          "country": "China",
          "value": 1018,
          "week": 34
         },
         {
          "country": "China",
          "value": 1211,
          "week": 35
         },
         {
          "country": "China",
          "value": 1441,
          "week": 36
         },
         {
          "country": "China",
          "value": 1473,
          "week": 37
         },
         {
          "country": "China",
          "value": 1197,
          "week": 38
         },
         {
          "country": "China",
          "value": 1045,
          "week": 39
         },
         {
          "country": "China",
          "value": 890,
          "week": 40
         },
         {
          "country": "China",
          "value": 685,
          "week": 41
         },
         {
          "country": "China",
          "value": 508,
          "week": 42
         },
         {
          "country": "China",
          "value": 498,
          "week": 43
         },
         {
          "country": "China",
          "value": 400,
          "week": 44
         },
         {
          "country": "China",
          "value": 389,
          "week": 45
         },
         {
          "country": "China",
          "value": 245,
          "week": 46
         },
         {
          "country": "China",
          "value": 397,
          "week": 47
         },
         {
          "country": "China",
          "value": 400,
          "week": 48
         },
         {
          "country": "China",
          "value": 395,
          "week": 49
         },
         {
          "country": "China",
          "value": 359,
          "week": 50
         },
         {
          "country": "China",
          "value": 602,
          "week": 51
         },
         {
          "country": "China",
          "value": 532,
          "week": 52
         },
         {
          "country": "Colombia",
          "value": 36,
          "week": 1
         },
         {
          "country": "Colombia",
          "value": 36,
          "week": 2
         },
         {
          "country": "Colombia",
          "value": 14,
          "week": 3
         },
         {
          "country": "Colombia",
          "value": 11,
          "week": 4
         },
         {
          "country": "Colombia",
          "value": 8,
          "week": 5
         },
         {
          "country": "Colombia",
          "value": 9,
          "week": 6
         },
         {
          "country": "Colombia",
          "value": 7,
          "week": 7
         },
         {
          "country": "Colombia",
          "value": 5,
          "week": 8
         },
         {
          "country": "Colombia",
          "value": 7,
          "week": 9
         },
         {
          "country": "Colombia",
          "value": 5,
          "week": 10
         },
         {
          "country": "Colombia",
          "value": 11,
          "week": 11
         },
         {
          "country": "Colombia",
          "value": 1,
          "week": 12
         },
         {
          "country": "Colombia",
          "value": 4,
          "week": 13
         },
         {
          "country": "Colombia",
          "value": 2,
          "week": 14
         },
         {
          "country": "Colombia",
          "value": 8,
          "week": 15
         },
         {
          "country": "Colombia",
          "value": 16,
          "week": 16
         },
         {
          "country": "Colombia",
          "value": 8,
          "week": 17
         },
         {
          "country": "Colombia",
          "value": 3,
          "week": 18
         },
         {
          "country": "Colombia",
          "value": 8,
          "week": 19
         },
         {
          "country": "Colombia",
          "value": 10,
          "week": 20
         },
         {
          "country": "Colombia",
          "value": 15,
          "week": 21
         },
         {
          "country": "Colombia",
          "value": 42,
          "week": 22
         },
         {
          "country": "Colombia",
          "value": 40,
          "week": 23
         },
         {
          "country": "Colombia",
          "value": 30,
          "week": 24
         },
         {
          "country": "Colombia",
          "value": 40,
          "week": 25
         },
         {
          "country": "Colombia",
          "value": 36,
          "week": 26
         },
         {
          "country": "Colombia",
          "value": 31,
          "week": 27
         },
         {
          "country": "Colombia",
          "value": 33,
          "week": 28
         },
         {
          "country": "Colombia",
          "value": 33,
          "week": 29
         },
         {
          "country": "Colombia",
          "value": 27,
          "week": 30
         },
         {
          "country": "Colombia",
          "value": 29,
          "week": 31
         },
         {
          "country": "Colombia",
          "value": 15,
          "week": 32
         },
         {
          "country": "Colombia",
          "value": 9,
          "week": 33
         },
         {
          "country": "Colombia",
          "value": 19,
          "week": 34
         },
         {
          "country": "Colombia",
          "value": 3,
          "week": 35
         },
         {
          "country": "Colombia",
          "value": 15,
          "week": 36
         },
         {
          "country": "Colombia",
          "value": 18,
          "week": 37
         },
         {
          "country": "Colombia",
          "value": 8,
          "week": 38
         },
         {
          "country": "Colombia",
          "value": 13,
          "week": 39
         },
         {
          "country": "Colombia",
          "value": 7,
          "week": 40
         },
         {
          "country": "Colombia",
          "value": 2,
          "week": 41
         },
         {
          "country": "Colombia",
          "value": 3,
          "week": 42
         },
         {
          "country": "Colombia",
          "value": 1,
          "week": 43
         },
         {
          "country": "Colombia",
          "value": 9,
          "week": 44
         },
         {
          "country": "Colombia",
          "value": 5,
          "week": 45
         },
         {
          "country": "Colombia",
          "value": 15,
          "week": 46
         },
         {
          "country": "Colombia",
          "value": 13,
          "week": 47
         },
         {
          "country": "Colombia",
          "value": 4,
          "week": 48
         },
         {
          "country": "Colombia",
          "value": 17,
          "week": 49
         },
         {
          "country": "Colombia",
          "value": 14,
          "week": 50
         },
         {
          "country": "Colombia",
          "value": 19,
          "week": 51
         },
         {
          "country": "Colombia",
          "value": 12,
          "week": 52
         },
         {
          "country": "Egypt",
          "value": 739,
          "week": 1
         },
         {
          "country": "Egypt",
          "value": 396,
          "week": 2
         },
         {
          "country": "Egypt",
          "value": 192,
          "week": 3
         },
         {
          "country": "Egypt",
          "value": 80,
          "week": 4
         },
         {
          "country": "Egypt",
          "value": 56,
          "week": 5
         },
         {
          "country": "Egypt",
          "value": 47,
          "week": 6
         },
         {
          "country": "Egypt",
          "value": 32,
          "week": 7
         },
         {
          "country": "Egypt",
          "value": 16,
          "week": 8
         },
         {
          "country": "Egypt",
          "value": 8,
          "week": 9
         },
         {
          "country": "Egypt",
          "value": 8,
          "week": 10
         },
         {
          "country": "Egypt",
          "value": 3,
          "week": 11
         },
         {
          "country": "Egypt",
          "value": 5,
          "week": 12
         },
         {
          "country": "Egypt",
          "value": 6,
          "week": 13
         },
         {
          "country": "Egypt",
          "value": 3,
          "week": 14
         },
         {
          "country": "Egypt",
          "value": 2,
          "week": 15
         },
         {
          "country": "Egypt",
          "value": 2,
          "week": 16
         },
         {
          "country": "Egypt",
          "value": 2,
          "week": 17
         },
         {
          "country": "Egypt",
          "value": 9,
          "week": 18
         },
         {
          "country": "Egypt",
          "value": 2,
          "week": 19
         },
         {
          "country": "Egypt",
          "value": 1,
          "week": 20
         },
         {
          "country": "Egypt",
          "value": 0,
          "week": 21
         },
         {
          "country": "Egypt",
          "value": 9,
          "week": 22
         },
         {
          "country": "Egypt",
          "value": 8,
          "week": 23
         },
         {
          "country": "Egypt",
          "value": 8,
          "week": 24
         },
         {
          "country": "Egypt",
          "value": 7,
          "week": 25
         },
         {
          "country": "Egypt",
          "value": 6,
          "week": 26
         },
         {
          "country": "Egypt",
          "value": 6,
          "week": 27
         },
         {
          "country": "Egypt",
          "value": 4,
          "week": 28
         },
         {
          "country": "Egypt",
          "value": 14,
          "week": 29
         },
         {
          "country": "Egypt",
          "value": 7,
          "week": 30
         },
         {
          "country": "Egypt",
          "value": 5,
          "week": 31
         },
         {
          "country": "Egypt",
          "value": 2,
          "week": 32
         },
         {
          "country": "Egypt",
          "value": 4,
          "week": 33
         },
         {
          "country": "Egypt",
          "value": 1,
          "week": 34
         },
         {
          "country": "Egypt",
          "value": 6,
          "week": 35
         },
         {
          "country": "Egypt",
          "value": 0,
          "week": 36
         },
         {
          "country": "Egypt",
          "value": 0,
          "week": 37
         },
         {
          "country": "Egypt",
          "value": 0,
          "week": 38
         },
         {
          "country": "Egypt",
          "value": 0,
          "week": 39
         },
         {
          "country": "Egypt",
          "value": 3,
          "week": 40
         },
         {
          "country": "Egypt",
          "value": 7,
          "week": 41
         },
         {
          "country": "Egypt",
          "value": 19,
          "week": 42
         },
         {
          "country": "Egypt",
          "value": 14,
          "week": 43
         },
         {
          "country": "Egypt",
          "value": 16,
          "week": 44
         },
         {
          "country": "Egypt",
          "value": 19,
          "week": 45
         },
         {
          "country": "Egypt",
          "value": 20,
          "week": 46
         },
         {
          "country": "Egypt",
          "value": 36,
          "week": 47
         },
         {
          "country": "Egypt",
          "value": 64,
          "week": 48
         },
         {
          "country": "Egypt",
          "value": 88,
          "week": 49
         },
         {
          "country": "Egypt",
          "value": 152,
          "week": 50
         },
         {
          "country": "Egypt",
          "value": 372,
          "week": 51
         },
         {
          "country": "Egypt",
          "value": 522,
          "week": 52
         },
         {
          "country": "Germany",
          "value": 26,
          "week": 1
         },
         {
          "country": "Germany",
          "value": 24,
          "week": 2
         },
         {
          "country": "Germany",
          "value": 18,
          "week": 3
         },
         {
          "country": "Germany",
          "value": null,
          "week": 4
         },
         {
          "country": "Germany",
          "value": null,
          "week": 5
         },
         {
          "country": "Germany",
          "value": null,
          "week": 6
         },
         {
          "country": "Germany",
          "value": null,
          "week": 7
         },
         {
          "country": "Germany",
          "value": null,
          "week": 8
         },
         {
          "country": "Germany",
          "value": 3,
          "week": 9
         },
         {
          "country": "Germany",
          "value": 7,
          "week": 10
         },
         {
          "country": "Germany",
          "value": 2,
          "week": 11
         },
         {
          "country": "Germany",
          "value": 6,
          "week": 12
         },
         {
          "country": "Germany",
          "value": 0,
          "week": 13
         },
         {
          "country": "Germany",
          "value": 1,
          "week": 14
         },
         {
          "country": "Germany",
          "value": 0,
          "week": 15
         },
         {
          "country": "Germany",
          "value": 0,
          "week": 16
         },
         {
          "country": "Germany",
          "value": 0,
          "week": 17
         },
         {
          "country": "Germany",
          "value": 0,
          "week": 18
         },
         {
          "country": "Germany",
          "value": 0,
          "week": 19
         },
         {
          "country": "Germany",
          "value": 1,
          "week": 20
         },
         {
          "country": "Germany",
          "value": 0,
          "week": 21
         },
         {
          "country": "Germany",
          "value": 0,
          "week": 22
         },
         {
          "country": "Germany",
          "value": 1,
          "week": 23
         },
         {
          "country": "Germany",
          "value": 0,
          "week": 24
         },
         {
          "country": "Germany",
          "value": 0,
          "week": 25
         },
         {
          "country": "Germany",
          "value": 0,
          "week": 26
         },
         {
          "country": "Germany",
          "value": 0,
          "week": 27
         },
         {
          "country": "Germany",
          "value": 0,
          "week": 28
         },
         {
          "country": "Germany",
          "value": 0,
          "week": 29
         },
         {
          "country": "Germany",
          "value": 0,
          "week": 30
         },
         {
          "country": "Germany",
          "value": 0,
          "week": 31
         },
         {
          "country": "Germany",
          "value": 0,
          "week": 32
         },
         {
          "country": "Germany",
          "value": 0,
          "week": 33
         },
         {
          "country": "Germany",
          "value": 0,
          "week": 34
         },
         {
          "country": "Germany",
          "value": 0,
          "week": 35
         },
         {
          "country": "Germany",
          "value": 0,
          "week": 36
         },
         {
          "country": "Germany",
          "value": 0,
          "week": 37
         },
         {
          "country": "Germany",
          "value": 1,
          "week": 38
         },
         {
          "country": "Germany",
          "value": 1,
          "week": 39
         },
         {
          "country": "Germany",
          "value": 0,
          "week": 40
         },
         {
          "country": "Germany",
          "value": 2,
          "week": 41
         },
         {
          "country": "Germany",
          "value": 1,
          "week": 42
         },
         {
          "country": "Germany",
          "value": 2,
          "week": 43
         },
         {
          "country": "Germany",
          "value": 0,
          "week": 44
         },
         {
          "country": "Germany",
          "value": 1,
          "week": 45
         },
         {
          "country": "Germany",
          "value": 1,
          "week": 46
         },
         {
          "country": "Germany",
          "value": 3,
          "week": 47
         },
         {
          "country": "Germany",
          "value": 1,
          "week": 48
         },
         {
          "country": "Germany",
          "value": 2,
          "week": 49
         },
         {
          "country": "Germany",
          "value": 23,
          "week": 50
         },
         {
          "country": "Germany",
          "value": 18,
          "week": 51
         },
         {
          "country": "Germany",
          "value": 44,
          "week": 52
         },
         {
          "country": "Ireland",
          "value": 23,
          "week": 1
         },
         {
          "country": "Ireland",
          "value": 8,
          "week": 2
         },
         {
          "country": "Ireland",
          "value": 4,
          "week": 3
         },
         {
          "country": "Ireland",
          "value": 8,
          "week": 4
         },
         {
          "country": "Ireland",
          "value": 4,
          "week": 5
         },
         {
          "country": "Ireland",
          "value": 0,
          "week": 6
         },
         {
          "country": "Ireland",
          "value": 0,
          "week": 7
         },
         {
          "country": "Ireland",
          "value": 1,
          "week": 8
         },
         {
          "country": "Ireland",
          "value": 0,
          "week": 9
         },
         {
          "country": "Ireland",
          "value": 0,
          "week": 10
         },
         {
          "country": "Ireland",
          "value": 0,
          "week": 11
         },
         {
          "country": "Ireland",
          "value": 1,
          "week": 12
         },
         {
          "country": "Ireland",
          "value": 0,
          "week": 13
         },
         {
          "country": "Ireland",
          "value": 0,
          "week": 14
         },
         {
          "country": "Ireland",
          "value": 0,
          "week": 15
         },
         {
          "country": "Ireland",
          "value": 1,
          "week": 16
         },
         {
          "country": "Ireland",
          "value": 0,
          "week": 17
         },
         {
          "country": "Ireland",
          "value": 0,
          "week": 18
         },
         {
          "country": "Ireland",
          "value": 0,
          "week": 19
         },
         {
          "country": "Ireland",
          "value": 1,
          "week": 20
         },
         {
          "country": "Ireland",
          "value": 0,
          "week": 21
         },
         {
          "country": "Ireland",
          "value": 0,
          "week": 22
         },
         {
          "country": "Ireland",
          "value": 0,
          "week": 23
         },
         {
          "country": "Ireland",
          "value": 0,
          "week": 24
         },
         {
          "country": "Ireland",
          "value": 0,
          "week": 25
         },
         {
          "country": "Ireland",
          "value": 0,
          "week": 26
         },
         {
          "country": "Ireland",
          "value": 0,
          "week": 27
         },
         {
          "country": "Ireland",
          "value": 0,
          "week": 28
         },
         {
          "country": "Ireland",
          "value": 0,
          "week": 29
         },
         {
          "country": "Ireland",
          "value": 0,
          "week": 30
         },
         {
          "country": "Ireland",
          "value": 0,
          "week": 31
         },
         {
          "country": "Ireland",
          "value": 0,
          "week": 32
         },
         {
          "country": "Ireland",
          "value": 0,
          "week": 33
         },
         {
          "country": "Ireland",
          "value": 0,
          "week": 34
         },
         {
          "country": "Ireland",
          "value": 0,
          "week": 35
         },
         {
          "country": "Ireland",
          "value": 0,
          "week": 36
         },
         {
          "country": "Ireland",
          "value": 0,
          "week": 37
         },
         {
          "country": "Ireland",
          "value": 0,
          "week": 38
         },
         {
          "country": "Ireland",
          "value": 0,
          "week": 39
         },
         {
          "country": "Ireland",
          "value": 0,
          "week": 40
         },
         {
          "country": "Ireland",
          "value": 2,
          "week": 41
         },
         {
          "country": "Ireland",
          "value": 1,
          "week": 42
         },
         {
          "country": "Ireland",
          "value": 0,
          "week": 43
         },
         {
          "country": "Ireland",
          "value": 0,
          "week": 44
         },
         {
          "country": "Ireland",
          "value": 0,
          "week": 45
         },
         {
          "country": "Ireland",
          "value": 0,
          "week": 46
         },
         {
          "country": "Ireland",
          "value": 1,
          "week": 47
         },
         {
          "country": "Ireland",
          "value": 1,
          "week": 48
         },
         {
          "country": "Ireland",
          "value": 13,
          "week": 49
         },
         {
          "country": "Ireland",
          "value": 48,
          "week": 50
         },
         {
          "country": "Ireland",
          "value": 161,
          "week": 51
         },
         {
          "country": "Ireland",
          "value": 383,
          "week": 52
         },
         {
          "country": "South Africa",
          "value": 0,
          "week": 1
         },
         {
          "country": "South Africa",
          "value": 1,
          "week": 2
         },
         {
          "country": "South Africa",
          "value": 0,
          "week": 3
         },
         {
          "country": "South Africa",
          "value": 0,
          "week": 4
         },
         {
          "country": "South Africa",
          "value": 0,
          "week": 5
         },
         {
          "country": "South Africa",
          "value": 0,
          "week": 6
         },
         {
          "country": "South Africa",
          "value": 0,
          "week": 7
         },
         {
          "country": "South Africa",
          "value": 1,
          "week": 8
         },
         {
          "country": "South Africa",
          "value": 0,
          "week": 9
         },
         {
          "country": "South Africa",
          "value": 0,
          "week": 10
         },
         {
          "country": "South Africa",
          "value": 0,
          "week": 11
         },
         {
          "country": "South Africa",
          "value": 0,
          "week": 12
         },
         {
          "country": "South Africa",
          "value": 0,
          "week": 13
         },
         {
          "country": "South Africa",
          "value": 0,
          "week": 14
         },
         {
          "country": "South Africa",
          "value": 1,
          "week": 15
         },
         {
          "country": "South Africa",
          "value": 0,
          "week": 16
         },
         {
          "country": "South Africa",
          "value": 0,
          "week": 17
         },
         {
          "country": "South Africa",
          "value": 1,
          "week": 18
         },
         {
          "country": "South Africa",
          "value": 0,
          "week": 19
         },
         {
          "country": "South Africa",
          "value": 1,
          "week": 20
         },
         {
          "country": "South Africa",
          "value": 1,
          "week": 21
         },
         {
          "country": "South Africa",
          "value": 2,
          "week": 22
         },
         {
          "country": "South Africa",
          "value": 10,
          "week": 23
         },
         {
          "country": "South Africa",
          "value": 16,
          "week": 24
         },
         {
          "country": "South Africa",
          "value": 36,
          "week": 25
         },
         {
          "country": "South Africa",
          "value": 84,
          "week": 26
         },
         {
          "country": "South Africa",
          "value": 85,
          "week": 27
         },
         {
          "country": "South Africa",
          "value": 85,
          "week": 28
         },
         {
          "country": "South Africa",
          "value": 61,
          "week": 29
         },
         {
          "country": "South Africa",
          "value": 121,
          "week": 30
         },
         {
          "country": "South Africa",
          "value": 124,
          "week": 31
         },
         {
          "country": "South Africa",
          "value": 99,
          "week": 32
         },
         {
          "country": "South Africa",
          "value": 122,
          "week": 33
         },
         {
          "country": "South Africa",
          "value": 116,
          "week": 34
         },
         {
          "country": "South Africa",
          "value": 74,
          "week": 35
         },
         {
          "country": "South Africa",
          "value": 78,
          "week": 36
         },
         {
          "country": "South Africa",
          "value": 61,
          "week": 37
         },
         {
          "country": "South Africa",
          "value": 39,
          "week": 38
         },
         {
          "country": "South Africa",
          "value": 24,
          "week": 39
         },
         {
          "country": "South Africa",
          "value": 20,
          "week": 40
         },
         {
          "country": "South Africa",
          "value": 8,
          "week": 41
         },
         {
          "country": "South Africa",
          "value": 14,
          "week": 42
         },
         {
          "country": "South Africa",
          "value": 6,
          "week": 43
         },
         {
          "country": "South Africa",
          "value": 3,
          "week": 44
         },
         {
          "country": "South Africa",
          "value": 11,
          "week": 45
         },
         {
          "country": "South Africa",
          "value": 9,
          "week": 46
         },
         {
          "country": "South Africa",
          "value": 8,
          "week": 47
         },
         {
          "country": "South Africa",
          "value": 3,
          "week": 48
         },
         {
          "country": "South Africa",
          "value": 3,
          "week": 49
         },
         {
          "country": "South Africa",
          "value": 0,
          "week": 50
         },
         {
          "country": "South Africa",
          "value": 3,
          "week": 51
         },
         {
          "country": "South Africa",
          "value": 2,
          "week": 52
         },
         {
          "country": "USA",
          "value": 366,
          "week": 1
         },
         {
          "country": "USA",
          "value": 396,
          "week": 2
         },
         {
          "country": "USA",
          "value": 447,
          "week": 3
         },
         {
          "country": "USA",
          "value": 402,
          "week": 4
         },
         {
          "country": "USA",
          "value": 404,
          "week": 5
         },
         {
          "country": "USA",
          "value": 361,
          "week": 6
         },
         {
          "country": "USA",
          "value": 380,
          "week": 7
         },
         {
          "country": "USA",
          "value": 424,
          "week": 8
         },
         {
          "country": "USA",
          "value": 445,
          "week": 9
         },
         {
          "country": "USA",
          "value": 475,
          "week": 10
         },
         {
          "country": "USA",
          "value": 351,
          "week": 11
         },
         {
          "country": "USA",
          "value": 246,
          "week": 12
         },
         {
          "country": "USA",
          "value": 237,
          "week": 13
         },
         {
          "country": "USA",
          "value": 127,
          "week": 14
         },
         {
          "country": "USA",
          "value": 79,
          "week": 15
         },
         {
          "country": "USA",
          "value": 52,
          "week": 16
         },
         {
          "country": "USA",
          "value": 37,
          "week": 17
         },
         {
          "country": "USA",
          "value": 31,
          "week": 18
         },
         {
          "country": "USA",
          "value": 26,
          "week": 19
         },
         {
          "country": "USA",
          "value": 19,
          "week": 20
         },
         {
          "country": "USA",
          "value": 8,
          "week": 21
         },
         {
          "country": "USA",
          "value": 8,
          "week": 22
         },
         {
          "country": "USA",
          "value": 8,
          "week": 23
         },
         {
          "country": "USA",
          "value": 11,
          "week": 24
         },
         {
          "country": "USA",
          "value": 11,
          "week": 25
         },
         {
          "country": "USA",
          "value": 7,
          "week": 26
         },
         {
          "country": "USA",
          "value": 4,
          "week": 27
         },
         {
          "country": "USA",
          "value": 10,
          "week": 28
         },
         {
          "country": "USA",
          "value": 12,
          "week": 29
         },
         {
          "country": "USA",
          "value": 24,
          "week": 30
         },
         {
          "country": "USA",
          "value": 19,
          "week": 31
         },
         {
          "country": "USA",
          "value": 32,
          "week": 32
         },
         {
          "country": "USA",
          "value": 21,
          "week": 33
         },
         {
          "country": "USA",
          "value": 45,
          "week": 34
         },
         {
          "country": "USA",
          "value": 34,
          "week": 35
         },
         {
          "country": "USA",
          "value": 46,
          "week": 36
         },
         {
          "country": "USA",
          "value": 64,
          "week": 37
         },
         {
          "country": "USA",
          "value": 67,
          "week": 38
         },
         {
          "country": "USA",
          "value": 62,
          "week": 39
         },
         {
          "country": "USA",
          "value": 77,
          "week": 40
         },
         {
          "country": "USA",
          "value": 128,
          "week": 41
         },
         {
          "country": "USA",
          "value": 141,
          "week": 42
         },
         {
          "country": "USA",
          "value": 168,
          "week": 43
         },
         {
          "country": "USA",
          "value": 247,
          "week": 44
         },
         {
          "country": "USA",
          "value": 352,
          "week": 45
         },
         {
          "country": "USA",
          "value": 491,
          "week": 46
         },
         {
          "country": "USA",
          "value": 588,
          "week": 47
         },
         {
          "country": "USA",
          "value": 609,
          "week": 48
         },
         {
          "country": "USA",
          "value": 843,
          "week": 49
         },
         {
          "country": "USA",
          "value": 1438,
          "week": 50
         },
         {
          "country": "USA",
          "value": 1998,
          "week": 51
         },
         {
          "country": "USA",
          "value": 2375,
          "week": 52
         }
        ]
       },
       "encoding": {
        "color": {
         "field": "country",
         "type": "nominal"
        },
        "x": {
         "field": "week",
         "type": "quantitative"
        },
        "y": {
         "field": "value",
         "type": "quantitative"
        }
       },
       "mark": "line"
      },
      "image/png": "[encoded data removed]",
      "text/plain": [
       "<VegaLite 2 object>\n",
       "\n",
       "If you see this message, it means the renderer has not been properly enabled\n",
       "for the frontend that you are using. For more information, see\n",
       "https://altair-viz.github.io/user_guide/troubleshooting.html\n"
      ]
     },
     "execution_count": 12,
     "metadata": {},
     "output_type": "execute_result"
    }
   ],
   "source": [
    "lines = alt.Chart(norm).mark_line().encode(x='week', y='value', color='country')\n",
    "lines"
   ]
  },
  {
   "cell_type": "code",
   "execution_count": 13,
   "metadata": {},
   "outputs": [
    {
     "data": {
      "application/vnd.vegalite.v2+json": {
       "$schema": "https://vega.github.io/schema/vega-lite/v2.4.3.json",
       "config": {
        "view": {
         "height": 300,
         "width": 400
        }
       },
       "data": {
        "values": [
         {
          "country": "Afghanistan",
          "value": 5,
          "week": 1
         },
         {
          "country": "Afghanistan",
          "value": 13,
          "week": 2
         },
         {
          "country": "Afghanistan",
          "value": 4,
          "week": 3
         },
         {
          "country": "Afghanistan",
          "value": 0,
          "week": 4
         },
         {
          "country": "Afghanistan",
          "value": 0,
          "week": 5
         },
         {
          "country": "Afghanistan",
          "value": 0,
          "week": 6
         },
         {
          "country": "Afghanistan",
          "value": 1,
          "week": 7
         },
         {
          "country": "Afghanistan",
          "value": 1,
          "week": 8
         },
         {
          "country": "Afghanistan",
          "value": null,
          "week": 9
         },
         {
          "country": "Afghanistan",
          "value": 1,
          "week": 10
         },
         {
          "country": "Afghanistan",
          "value": 0,
          "week": 11
         },
         {
          "country": "Afghanistan",
          "value": 0,
          "week": 12
         },
         {
          "country": "Afghanistan",
          "value": 0,
          "week": 13
         },
         {
          "country": "Afghanistan",
          "value": 0,
          "week": 14
         },
         {
          "country": "Afghanistan",
          "value": 0,
          "week": 15
         },
         {
          "country": "Afghanistan",
          "value": 0,
          "week": 16
         },
         {
          "country": "Afghanistan",
          "value": 0,
          "week": 17
         },
         {
          "country": "Afghanistan",
          "value": 0,
          "week": 18
         },
         {
          "country": "Afghanistan",
          "value": 0,
          "week": 19
         },
         {
          "country": "Afghanistan",
          "value": 0,
          "week": 20
         },
         {
          "country": "Afghanistan",
          "value": 0,
          "week": 21
         },
         {
          "country": "Afghanistan",
          "value": 0,
          "week": 22
         },
         {
          "country": "Afghanistan",
          "value": 0,
          "week": 23
         },
         {
          "country": "Afghanistan",
          "value": 0,
          "week": 24
         },
         {
          "country": "Afghanistan",
          "value": 1,
          "week": 25
         },
         {
          "country": "Afghanistan",
          "value": 0,
          "week": 26
         },
         {
          "country": "Afghanistan",
          "value": 0,
          "week": 27
         },
         {
          "country": "Afghanistan",
          "value": 0,
          "week": 28
         },
         {
          "country": "Afghanistan",
          "value": 0,
          "week": 29
         },
         {
          "country": "Afghanistan",
          "value": 0,
          "week": 30
         },
         {
          "country": "Afghanistan",
          "value": 0,
          "week": 31
         },
         {
          "country": "Afghanistan",
          "value": 0,
          "week": 32
         },
         {
          "country": "Afghanistan",
          "value": 0,
          "week": 33
         },
         {
          "country": "Afghanistan",
          "value": 0,
          "week": 34
         },
         {
          "country": "Afghanistan",
          "value": 0,
          "week": 35
         },
         {
          "country": "Afghanistan",
          "value": 0,
          "week": 36
         },
         {
          "country": "Afghanistan",
          "value": 0,
          "week": 37
         },
         {
          "country": "Afghanistan",
          "value": 0,
          "week": 38
         },
         {
          "country": "Afghanistan",
          "value": 0,
          "week": 39
         },
         {
          "country": "Afghanistan",
          "value": 0,
          "week": 40
         },
         {
          "country": "Afghanistan",
          "value": 0,
          "week": 41
         },
         {
          "country": "Afghanistan",
          "value": 0,
          "week": 42
         },
         {
          "country": "Afghanistan",
          "value": 0,
          "week": 43
         },
         {
          "country": "Afghanistan",
          "value": 0,
          "week": 44
         },
         {
          "country": "Afghanistan",
          "value": 0,
          "week": 45
         },
         {
          "country": "Afghanistan",
          "value": 0,
          "week": 46
         },
         {
          "country": "Afghanistan",
          "value": 0,
          "week": 47
         },
         {
          "country": "Afghanistan",
          "value": 0,
          "week": 48
         },
         {
          "country": "Afghanistan",
          "value": 0,
          "week": 49
         },
         {
          "country": "Afghanistan",
          "value": 0,
          "week": 50
         },
         {
          "country": "Afghanistan",
          "value": null,
          "week": 51
         },
         {
          "country": "Afghanistan",
          "value": null,
          "week": 52
         },
         {
          "country": "Argentina",
          "value": 4,
          "week": 1
         },
         {
          "country": "Argentina",
          "value": 21,
          "week": 2
         },
         {
          "country": "Argentina",
          "value": 6,
          "week": 3
         },
         {
          "country": "Argentina",
          "value": 1,
          "week": 4
         },
         {
          "country": "Argentina",
          "value": 4,
          "week": 5
         },
         {
          "country": "Argentina",
          "value": 0,
          "week": 6
         },
         {
          "country": "Argentina",
          "value": 3,
          "week": 7
         },
         {
          "country": "Argentina",
          "value": 1,
          "week": 8
         },
         {
          "country": "Argentina",
          "value": 0,
          "week": 9
         },
         {
          "country": "Argentina",
          "value": 3,
          "week": 10
         },
         {
          "country": "Argentina",
          "value": 0,
          "week": 11
         },
         {
          "country": "Argentina",
          "value": 9,
          "week": 12
         },
         {
          "country": "Argentina",
          "value": 8,
          "week": 13
         },
         {
          "country": "Argentina",
          "value": 7,
          "week": 14
         },
         {
          "country": "Argentina",
          "value": 9,
          "week": 15
         },
         {
          "country": "Argentina",
          "value": 15,
          "week": 16
         },
         {
          "country": "Argentina",
          "value": 16,
          "week": 17
         },
         {
          "country": "Argentina",
          "value": 18,
          "week": 18
         },
         {
          "country": "Argentina",
          "value": 10,
          "week": 19
         },
         {
          "country": "Argentina",
          "value": 4,
          "week": 20
         },
         {
          "country": "Argentina",
          "value": 5,
          "week": 21
         },
         {
          "country": "Argentina",
          "value": 34,
          "week": 22
         },
         {
          "country": "Argentina",
          "value": 49,
          "week": 23
         },
         {
          "country": "Argentina",
          "value": 50,
          "week": 24
         },
         {
          "country": "Argentina",
          "value": 40,
          "week": 25
         },
         {
          "country": "Argentina",
          "value": 43,
          "week": 26
         },
         {
          "country": "Argentina",
          "value": 40,
          "week": 27
         },
         {
          "country": "Argentina",
          "value": 64,
          "week": 28
         },
         {
          "country": "Argentina",
          "value": 76,
          "week": 29
         },
         {
          "country": "Argentina",
          "value": 75,
          "week": 30
         },
         {
          "country": "Argentina",
          "value": 43,
          "week": 31
         },
         {
          "country": "Argentina",
          "value": 84,
          "week": 32
         },
         {
          "country": "Argentina",
          "value": 71,
          "week": 33
         },
         {
          "country": "Argentina",
          "value": 79,
          "week": 34
         },
         {
          "country": "Argentina",
          "value": 52,
          "week": 35
         },
         {
          "country": "Argentina",
          "value": 40,
          "week": 36
         },
         {
          "country": "Argentina",
          "value": 32,
          "week": 37
         },
         {
          "country": "Argentina",
          "value": 37,
          "week": 38
         },
         {
          "country": "Argentina",
          "value": 64,
          "week": 39
         },
         {
          "country": "Argentina",
          "value": 108,
          "week": 40
         },
         {
          "country": "Argentina",
          "value": 279,
          "week": 41
         },
         {
          "country": "Argentina",
          "value": 280,
          "week": 42
         },
         {
          "country": "Argentina",
          "value": 89,
          "week": 43
         },
         {
          "country": "Argentina",
          "value": 59,
          "week": 44
         },
         {
          "country": "Argentina",
          "value": 25,
          "week": 45
         },
         {
          "country": "Argentina",
          "value": 32,
          "week": 46
         },
         {
          "country": "Argentina",
          "value": 30,
          "week": 47
         },
         {
          "country": "Argentina",
          "value": 39,
          "week": 48
         },
         {
          "country": "Argentina",
          "value": 20,
          "week": 49
         },
         {
          "country": "Argentina",
          "value": 20,
          "week": 50
         },
         {
          "country": "Argentina",
          "value": 16,
          "week": 51
         },
         {
          "country": "Argentina",
          "value": 1,
          "week": 52
         },
         {
          "country": "Australia",
          "value": 2,
          "week": 1
         },
         {
          "country": "Australia",
          "value": 1,
          "week": 2
         },
         {
          "country": "Australia",
          "value": 1,
          "week": 3
         },
         {
          "country": "Australia",
          "value": 0,
          "week": 4
         },
         {
          "country": "Australia",
          "value": 1,
          "week": 5
         },
         {
          "country": "Australia",
          "value": 1,
          "week": 6
         },
         {
          "country": "Australia",
          "value": 0,
          "week": 7
         },
         {
          "country": "Australia",
          "value": 4,
          "week": 8
         },
         {
          "country": "Australia",
          "value": 3,
          "week": 9
         },
         {
          "country": "Australia",
          "value": 1,
          "week": 10
         },
         {
          "country": "Australia",
          "value": 1,
          "week": 11
         },
         {
          "country": "Australia",
          "value": 2,
          "week": 12
         },
         {
          "country": "Australia",
          "value": 0,
          "week": 13
         },
         {
          "country": "Australia",
          "value": 0,
          "week": 14
         },
         {
          "country": "Australia",
          "value": 4,
          "week": 15
         },
         {
          "country": "Australia",
          "value": 2,
          "week": 16
         },
         {
          "country": "Australia",
          "value": 6,
          "week": 17
         },
         {
          "country": "Australia",
          "value": 1,
          "week": 18
         },
         {
          "country": "Australia",
          "value": 3,
          "week": 19
         },
         {
          "country": "Australia",
          "value": 4,
          "week": 20
         },
         {
          "country": "Australia",
          "value": 4,
          "week": 21
         },
         {
          "country": "Australia",
          "value": 3,
          "week": 22
         },
         {
          "country": "Australia",
          "value": 1,
          "week": 23
         },
         {
          "country": "Australia",
          "value": 5,
          "week": 24
         },
         {
          "country": "Australia",
          "value": 12,
          "week": 25
         },
         {
          "country": "Australia",
          "value": 18,
          "week": 26
         },
         {
          "country": "Australia",
          "value": 14,
          "week": 27
         },
         {
          "country": "Australia",
          "value": 15,
          "week": 28
         },
         {
          "country": "Australia",
          "value": 15,
          "week": 29
         },
         {
          "country": "Australia",
          "value": 31,
          "week": 30
         },
         {
          "country": "Australia",
          "value": 39,
          "week": 31
         },
         {
          "country": "Australia",
          "value": 44,
          "week": 32
         },
         {
          "country": "Australia",
          "value": 60,
          "week": 33
         },
         {
          "country": "Australia",
          "value": 64,
          "week": 34
         },
         {
          "country": "Australia",
          "value": 78,
          "week": 35
         },
         {
          "country": "Australia",
          "value": 77,
          "week": 36
         },
         {
          "country": "Australia",
          "value": 56,
          "week": 37
         },
         {
          "country": "Australia",
          "value": 105,
          "week": 38
         },
         {
          "country": "Australia",
          "value": 92,
          "week": 39
         },
         {
          "country": "Australia",
          "value": 97,
          "week": 40
         },
         {
          "country": "Australia",
          "value": 52,
          "week": 41
         },
         {
          "country": "Australia",
          "value": 50,
          "week": 42
         },
         {
          "country": "Australia",
          "value": 54,
          "week": 43
         },
         {
          "country": "Australia",
          "value": 47,
          "week": 44
         },
         {
          "country": "Australia",
          "value": 29,
          "week": 45
         },
         {
          "country": "Australia",
          "value": 14,
          "week": 46
         },
         {
          "country": "Australia",
          "value": 23,
          "week": 47
         },
         {
          "country": "Australia",
          "value": 19,
          "week": 48
         },
         {
          "country": "Australia",
          "value": 20,
          "week": 49
         },
         {
          "country": "Australia",
          "value": 23,
          "week": 50
         },
         {
          "country": "Australia",
          "value": 29,
          "week": 51
         },
         {
          "country": "Australia",
          "value": 25,
          "week": 52
         },
         {
          "country": "Canada",
          "value": 41,
          "week": 1
         },
         {
          "country": "Canada",
          "value": 15,
          "week": 2
         },
         {
          "country": "Canada",
          "value": 8,
          "week": 3
         },
         {
          "country": "Canada",
          "value": 14,
          "week": 4
         },
         {
          "country": "Canada",
          "value": 12,
          "week": 5
         },
         {
          "country": "Canada",
          "value": 6,
          "week": 6
         },
         {
          "country": "Canada",
          "value": 6,
          "week": 7
         },
         {
          "country": "Canada",
          "value": 7,
          "week": 8
         },
         {
          "country": "Canada",
          "value": 3,
          "week": 9
         },
         {
          "country": "Canada",
          "value": 7,
          "week": 10
         },
         {
          "country": "Canada",
          "value": 9,
          "week": 11
         },
         {
          "country": "Canada",
          "value": 7,
          "week": 12
         },
         {
          "country": "Canada",
          "value": 6,
          "week": 13
         },
         {
          "country": "Canada",
          "value": 6,
          "week": 14
         },
         {
          "country": "Canada",
          "value": 0,
          "week": 15
         },
         {
          "country": "Canada",
          "value": 2,
          "week": 16
         },
         {
          "country": "Canada",
          "value": 4,
          "week": 17
         },
         {
          "country": "Canada",
          "value": 3,
          "week": 18
         },
         {
          "country": "Canada",
          "value": 1,
          "week": 19
         },
         {
          "country": "Canada",
          "value": 4,
          "week": 20
         },
         {
          "country": "Canada",
          "value": 5,
          "week": 21
         },
         {
          "country": "Canada",
          "value": 0,
          "week": 22
         },
         {
          "country": "Canada",
          "value": 1,
          "week": 23
         },
         {
          "country": "Canada",
          "value": 1,
          "week": 24
         },
         {
          "country": "Canada",
          "value": 0,
          "week": 25
         },
         {
          "country": "Canada",
          "value": 8,
          "week": 26
         },
         {
          "country": "Canada",
          "value": 2,
          "week": 27
         },
         {
          "country": "Canada",
          "value": 6,
          "week": 28
         },
         {
          "country": "Canada",
          "value": 0,
          "week": 29
         },
         {
          "country": "Canada",
          "value": 3,
          "week": 30
         },
         {
          "country": "Canada",
          "value": 0,
          "week": 31
         },
         {
          "country": "Canada",
          "value": 2,
          "week": 32
         },
         {
          "country": "Canada",
          "value": 1,
          "week": 33
         },
         {
          "country": "Canada",
          "value": 6,
          "week": 34
         },
         {
          "country": "Canada",
          "value": 2,
          "week": 35
         },
         {
          "country": "Canada",
          "value": 1,
          "week": 36
         },
         {
          "country": "Canada",
          "value": 3,
          "week": 37
         },
         {
          "country": "Canada",
          "value": 8,
          "week": 38
         },
         {
          "country": "Canada",
          "value": 12,
          "week": 39
         },
         {
          "country": "Canada",
          "value": 11,
          "week": 40
         },
         {
          "country": "Canada",
          "value": 17,
          "week": 41
         },
         {
          "country": "Canada",
          "value": 17,
          "week": 42
         },
         {
          "country": "Canada",
          "value": 14,
          "week": 43
         },
         {
          "country": "Canada",
          "value": 22,
          "week": 44
         },
         {
          "country": "Canada",
          "value": 42,
          "week": 45
         },
         {
          "country": "Canada",
          "value": 55,
          "week": 46
         },
         {
          "country": "Canada",
          "value": 111,
          "week": 47
         },
         {
          "country": "Canada",
          "value": 225,
          "week": 48
         },
         {
          "country": "Canada",
          "value": 323,
          "week": 49
         },
         {
          "country": "Canada",
          "value": 566,
          "week": 50
         },
         {
          "country": "Canada",
          "value": 987,
          "week": 51
         },
         {
          "country": "Canada",
          "value": 1366,
          "week": 52
         },
         {
          "country": "China",
          "value": 2179,
          "week": 1
         },
         {
          "country": "China",
          "value": 2213,
          "week": 2
         },
         {
          "country": "China",
          "value": 2228,
          "week": 3
         },
         {
          "country": "China",
          "value": 2027,
          "week": 4
         },
         {
          "country": "China",
          "value": 1813,
          "week": 5
         },
         {
          "country": "China",
          "value": 1353,
          "week": 6
         },
         {
          "country": "China",
          "value": 799,
          "week": 7
         },
         {
          "country": "China",
          "value": 1218,
          "week": 8
         },
         {
          "country": "China",
          "value": 1333,
          "week": 9
         },
         {
          "country": "China",
          "value": 1614,
          "week": 10
         },
         {
          "country": "China",
          "value": 1745,
          "week": 11
         },
         {
          "country": "China",
          "value": 1548,
          "week": 12
         },
         {
          "country": "China",
          "value": 1388,
          "week": 13
         },
         {
          "country": "China",
          "value": 843,
          "week": 14
         },
         {
          "country": "China",
          "value": 635,
          "week": 15
         },
         {
          "country": "China",
          "value": 716,
          "week": 16
         },
         {
          "country": "China",
          "value": 602,
          "week": 17
         },
         {
          "country": "China",
          "value": 529,
          "week": 18
         },
         {
          "country": "China",
          "value": 434,
          "week": 19
         },
         {
          "country": "China",
          "value": 368,
          "week": 20
         },
         {
          "country": "China",
          "value": 314,
          "week": 21
         },
         {
          "country": "China",
          "value": 225,
          "week": 22
         },
         {
          "country": "China",
          "value": 238,
          "week": 23
         },
         {
          "country": "China",
          "value": 118,
          "week": 24
         },
         {
          "country": "China",
          "value": 185,
          "week": 25
         },
         {
          "country": "China",
          "value": 202,
          "week": 26
         },
         {
          "country": "China",
          "value": 262,
          "week": 27
         },
         {
          "country": "China",
          "value": 334,
          "week": 28
         },
         {
          "country": "China",
          "value": 432,
          "week": 29
         },
         {
          "country": "China",
          "value": 413,
          "week": 30
         },
         {
          "country": "China",
          "value": 615,
          "week": 31
         },
         {
          "country": "China",
          "value": 776,
          "week": 32
         },
         {
          "country": "China",
          "value": 782,
          "week": 33
         },
         {
          "country": "China",
          "value": 1018,
          "week": 34
         },
         {
          "country": "China",
          "value": 1211,
          "week": 35
         },
         {
          "country": "China",
          "value": 1441,
          "week": 36
         },
         {
          "country": "China",
          "value": 1473,
          "week": 37
         },
         {
          "country": "China",
          "value": 1197,
          "week": 38
         },
         {
          "country": "China",
          "value": 1045,
          "week": 39
         },
         {
          "country": "China",
          "value": 890,
          "week": 40
         },
         {
          "country": "China",
          "value": 685,
          "week": 41
         },
         {
          "country": "China",
          "value": 508,
          "week": 42
         },
         {
          "country": "China",
          "value": 498,
          "week": 43
         },
         {
          "country": "China",
          "value": 400,
          "week": 44
         },
         {
          "country": "China",
          "value": 389,
          "week": 45
         },
         {
          "country": "China",
          "value": 245,
          "week": 46
         },
         {
          "country": "China",
          "value": 397,
          "week": 47
         },
         {
          "country": "China",
          "value": 400,
          "week": 48
         },
         {
          "country": "China",
          "value": 395,
          "week": 49
         },
         {
          "country": "China",
          "value": 359,
          "week": 50
         },
         {
          "country": "China",
          "value": 602,
          "week": 51
         },
         {
          "country": "China",
          "value": 532,
          "week": 52
         },
         {
          "country": "Colombia",
          "value": 36,
          "week": 1
         },
         {
          "country": "Colombia",
          "value": 36,
          "week": 2
         },
         {
          "country": "Colombia",
          "value": 14,
          "week": 3
         },
         {
          "country": "Colombia",
          "value": 11,
          "week": 4
         },
         {
          "country": "Colombia",
          "value": 8,
          "week": 5
         },
         {
          "country": "Colombia",
          "value": 9,
          "week": 6
         },
         {
          "country": "Colombia",
          "value": 7,
          "week": 7
         },
         {
          "country": "Colombia",
          "value": 5,
          "week": 8
         },
         {
          "country": "Colombia",
          "value": 7,
          "week": 9
         },
         {
          "country": "Colombia",
          "value": 5,
          "week": 10
         },
         {
          "country": "Colombia",
          "value": 11,
          "week": 11
         },
         {
          "country": "Colombia",
          "value": 1,
          "week": 12
         },
         {
          "country": "Colombia",
          "value": 4,
          "week": 13
         },
         {
          "country": "Colombia",
          "value": 2,
          "week": 14
         },
         {
          "country": "Colombia",
          "value": 8,
          "week": 15
         },
         {
          "country": "Colombia",
          "value": 16,
          "week": 16
         },
         {
          "country": "Colombia",
          "value": 8,
          "week": 17
         },
         {
          "country": "Colombia",
          "value": 3,
          "week": 18
         },
         {
          "country": "Colombia",
          "value": 8,
          "week": 19
         },
         {
          "country": "Colombia",
          "value": 10,
          "week": 20
         },
         {
          "country": "Colombia",
          "value": 15,
          "week": 21
         },
         {
          "country": "Colombia",
          "value": 42,
          "week": 22
         },
         {
          "country": "Colombia",
          "value": 40,
          "week": 23
         },
         {
          "country": "Colombia",
          "value": 30,
          "week": 24
         },
         {
          "country": "Colombia",
          "value": 40,
          "week": 25
         },
         {
          "country": "Colombia",
          "value": 36,
          "week": 26
         },
         {
          "country": "Colombia",
          "value": 31,
          "week": 27
         },
         {
          "country": "Colombia",
          "value": 33,
          "week": 28
         },
         {
          "country": "Colombia",
          "value": 33,
          "week": 29
         },
         {
          "country": "Colombia",
          "value": 27,
          "week": 30
         },
         {
          "country": "Colombia",
          "value": 29,
          "week": 31
         },
         {
          "country": "Colombia",
          "value": 15,
          "week": 32
         },
         {
          "country": "Colombia",
          "value": 9,
          "week": 33
         },
         {
          "country": "Colombia",
          "value": 19,
          "week": 34
         },
         {
          "country": "Colombia",
          "value": 3,
          "week": 35
         },
         {
          "country": "Colombia",
          "value": 15,
          "week": 36
         },
         {
          "country": "Colombia",
          "value": 18,
          "week": 37
         },
         {
          "country": "Colombia",
          "value": 8,
          "week": 38
         },
         {
          "country": "Colombia",
          "value": 13,
          "week": 39
         },
         {
          "country": "Colombia",
          "value": 7,
          "week": 40
         },
         {
          "country": "Colombia",
          "value": 2,
          "week": 41
         },
         {
          "country": "Colombia",
          "value": 3,
          "week": 42
         },
         {
          "country": "Colombia",
          "value": 1,
          "week": 43
         },
         {
          "country": "Colombia",
          "value": 9,
          "week": 44
         },
         {
          "country": "Colombia",
          "value": 5,
          "week": 45
         },
         {
          "country": "Colombia",
          "value": 15,
          "week": 46
         },
         {
          "country": "Colombia",
          "value": 13,
          "week": 47
         },
         {
          "country": "Colombia",
          "value": 4,
          "week": 48
         },
         {
          "country": "Colombia",
          "value": 17,
          "week": 49
         },
         {
          "country": "Colombia",
          "value": 14,
          "week": 50
         },
         {
          "country": "Colombia",
          "value": 19,
          "week": 51
         },
         {
          "country": "Colombia",
          "value": 12,
          "week": 52
         },
         {
          "country": "Egypt",
          "value": 739,
          "week": 1
         },
         {
          "country": "Egypt",
          "value": 396,
          "week": 2
         },
         {
          "country": "Egypt",
          "value": 192,
          "week": 3
         },
         {
          "country": "Egypt",
          "value": 80,
          "week": 4
         },
         {
          "country": "Egypt",
          "value": 56,
          "week": 5
         },
         {
          "country": "Egypt",
          "value": 47,
          "week": 6
         },
         {
          "country": "Egypt",
          "value": 32,
          "week": 7
         },
         {
          "country": "Egypt",
          "value": 16,
          "week": 8
         },
         {
          "country": "Egypt",
          "value": 8,
          "week": 9
         },
         {
          "country": "Egypt",
          "value": 8,
          "week": 10
         },
         {
          "country": "Egypt",
          "value": 3,
          "week": 11
         },
         {
          "country": "Egypt",
          "value": 5,
          "week": 12
         },
         {
          "country": "Egypt",
          "value": 6,
          "week": 13
         },
         {
          "country": "Egypt",
          "value": 3,
          "week": 14
         },
         {
          "country": "Egypt",
          "value": 2,
          "week": 15
         },
         {
          "country": "Egypt",
          "value": 2,
          "week": 16
         },
         {
          "country": "Egypt",
          "value": 2,
          "week": 17
         },
         {
          "country": "Egypt",
          "value": 9,
          "week": 18
         },
         {
          "country": "Egypt",
          "value": 2,
          "week": 19
         },
         {
          "country": "Egypt",
          "value": 1,
          "week": 20
         },
         {
          "country": "Egypt",
          "value": 0,
          "week": 21
         },
         {
          "country": "Egypt",
          "value": 9,
          "week": 22
         },
         {
          "country": "Egypt",
          "value": 8,
          "week": 23
         },
         {
          "country": "Egypt",
          "value": 8,
          "week": 24
         },
         {
          "country": "Egypt",
          "value": 7,
          "week": 25
         },
         {
          "country": "Egypt",
          "value": 6,
          "week": 26
         },
         {
          "country": "Egypt",
          "value": 6,
          "week": 27
         },
         {
          "country": "Egypt",
          "value": 4,
          "week": 28
         },
         {
          "country": "Egypt",
          "value": 14,
          "week": 29
         },
         {
          "country": "Egypt",
          "value": 7,
          "week": 30
         },
         {
          "country": "Egypt",
          "value": 5,
          "week": 31
         },
         {
          "country": "Egypt",
          "value": 2,
          "week": 32
         },
         {
          "country": "Egypt",
          "value": 4,
          "week": 33
         },
         {
          "country": "Egypt",
          "value": 1,
          "week": 34
         },
         {
          "country": "Egypt",
          "value": 6,
          "week": 35
         },
         {
          "country": "Egypt",
          "value": 0,
          "week": 36
         },
         {
          "country": "Egypt",
          "value": 0,
          "week": 37
         },
         {
          "country": "Egypt",
          "value": 0,
          "week": 38
         },
         {
          "country": "Egypt",
          "value": 0,
          "week": 39
         },
         {
          "country": "Egypt",
          "value": 3,
          "week": 40
         },
         {
          "country": "Egypt",
          "value": 7,
          "week": 41
         },
         {
          "country": "Egypt",
          "value": 19,
          "week": 42
         },
         {
          "country": "Egypt",
          "value": 14,
          "week": 43
         },
         {
          "country": "Egypt",
          "value": 16,
          "week": 44
         },
         {
          "country": "Egypt",
          "value": 19,
          "week": 45
         },
         {
          "country": "Egypt",
          "value": 20,
          "week": 46
         },
         {
          "country": "Egypt",
          "value": 36,
          "week": 47
         },
         {
          "country": "Egypt",
          "value": 64,
          "week": 48
         },
         {
          "country": "Egypt",
          "value": 88,
          "week": 49
         },
         {
          "country": "Egypt",
          "value": 152,
          "week": 50
         },
         {
          "country": "Egypt",
          "value": 372,
          "week": 51
         },
         {
          "country": "Egypt",
          "value": 522,
          "week": 52
         },
         {
          "country": "Germany",
          "value": 26,
          "week": 1
         },
         {
          "country": "Germany",
          "value": 24,
          "week": 2
         },
         {
          "country": "Germany",
          "value": 18,
          "week": 3
         },
         {
          "country": "Germany",
          "value": null,
          "week": 4
         },
         {
          "country": "Germany",
          "value": null,
          "week": 5
         },
         {
          "country": "Germany",
          "value": null,
          "week": 6
         },
         {
          "country": "Germany",
          "value": null,
          "week": 7
         },
         {
          "country": "Germany",
          "value": null,
          "week": 8
         },
         {
          "country": "Germany",
          "value": 3,
          "week": 9
         },
         {
          "country": "Germany",
          "value": 7,
          "week": 10
         },
         {
          "country": "Germany",
          "value": 2,
          "week": 11
         },
         {
          "country": "Germany",
          "value": 6,
          "week": 12
         },
         {
          "country": "Germany",
          "value": 0,
          "week": 13
         },
         {
          "country": "Germany",
          "value": 1,
          "week": 14
         },
         {
          "country": "Germany",
          "value": 0,
          "week": 15
         },
         {
          "country": "Germany",
          "value": 0,
          "week": 16
         },
         {
          "country": "Germany",
          "value": 0,
          "week": 17
         },
         {
          "country": "Germany",
          "value": 0,
          "week": 18
         },
         {
          "country": "Germany",
          "value": 0,
          "week": 19
         },
         {
          "country": "Germany",
          "value": 1,
          "week": 20
         },
         {
          "country": "Germany",
          "value": 0,
          "week": 21
         },
         {
          "country": "Germany",
          "value": 0,
          "week": 22
         },
         {
          "country": "Germany",
          "value": 1,
          "week": 23
         },
         {
          "country": "Germany",
          "value": 0,
          "week": 24
         },
         {
          "country": "Germany",
          "value": 0,
          "week": 25
         },
         {
          "country": "Germany",
          "value": 0,
          "week": 26
         },
         {
          "country": "Germany",
          "value": 0,
          "week": 27
         },
         {
          "country": "Germany",
          "value": 0,
          "week": 28
         },
         {
          "country": "Germany",
          "value": 0,
          "week": 29
         },
         {
          "country": "Germany",
          "value": 0,
          "week": 30
         },
         {
          "country": "Germany",
          "value": 0,
          "week": 31
         },
         {
          "country": "Germany",
          "value": 0,
          "week": 32
         },
         {
          "country": "Germany",
          "value": 0,
          "week": 33
         },
         {
          "country": "Germany",
          "value": 0,
          "week": 34
         },
         {
          "country": "Germany",
          "value": 0,
          "week": 35
         },
         {
          "country": "Germany",
          "value": 0,
          "week": 36
         },
         {
          "country": "Germany",
          "value": 0,
          "week": 37
         },
         {
          "country": "Germany",
          "value": 1,
          "week": 38
         },
         {
          "country": "Germany",
          "value": 1,
          "week": 39
         },
         {
          "country": "Germany",
          "value": 0,
          "week": 40
         },
         {
          "country": "Germany",
          "value": 2,
          "week": 41
         },
         {
          "country": "Germany",
          "value": 1,
          "week": 42
         },
         {
          "country": "Germany",
          "value": 2,
          "week": 43
         },
         {
          "country": "Germany",
          "value": 0,
          "week": 44
         },
         {
          "country": "Germany",
          "value": 1,
          "week": 45
         },
         {
          "country": "Germany",
          "value": 1,
          "week": 46
         },
         {
          "country": "Germany",
          "value": 3,
          "week": 47
         },
         {
          "country": "Germany",
          "value": 1,
          "week": 48
         },
         {
          "country": "Germany",
          "value": 2,
          "week": 49
         },
         {
          "country": "Germany",
          "value": 23,
          "week": 50
         },
         {
          "country": "Germany",
          "value": 18,
          "week": 51
         },
         {
          "country": "Germany",
          "value": 44,
          "week": 52
         },
         {
          "country": "Ireland",
          "value": 23,
          "week": 1
         },
         {
          "country": "Ireland",
          "value": 8,
          "week": 2
         },
         {
          "country": "Ireland",
          "value": 4,
          "week": 3
         },
         {
          "country": "Ireland",
          "value": 8,
          "week": 4
         },
         {
          "country": "Ireland",
          "value": 4,
          "week": 5
         },
         {
          "country": "Ireland",
          "value": 0,
          "week": 6
         },
         {
          "country": "Ireland",
          "value": 0,
          "week": 7
         },
         {
          "country": "Ireland",
          "value": 1,
          "week": 8
         },
         {
          "country": "Ireland",
          "value": 0,
          "week": 9
         },
         {
          "country": "Ireland",
          "value": 0,
          "week": 10
         },
         {
          "country": "Ireland",
          "value": 0,
          "week": 11
         },
         {
          "country": "Ireland",
          "value": 1,
          "week": 12
         },
         {
          "country": "Ireland",
          "value": 0,
          "week": 13
         },
         {
          "country": "Ireland",
          "value": 0,
          "week": 14
         },
         {
          "country": "Ireland",
          "value": 0,
          "week": 15
         },
         {
          "country": "Ireland",
          "value": 1,
          "week": 16
         },
         {
          "country": "Ireland",
          "value": 0,
          "week": 17
         },
         {
          "country": "Ireland",
          "value": 0,
          "week": 18
         },
         {
          "country": "Ireland",
          "value": 0,
          "week": 19
         },
         {
          "country": "Ireland",
          "value": 1,
          "week": 20
         },
         {
          "country": "Ireland",
          "value": 0,
          "week": 21
         },
         {
          "country": "Ireland",
          "value": 0,
          "week": 22
         },
         {
          "country": "Ireland",
          "value": 0,
          "week": 23
         },
         {
          "country": "Ireland",
          "value": 0,
          "week": 24
         },
         {
          "country": "Ireland",
          "value": 0,
          "week": 25
         },
         {
          "country": "Ireland",
          "value": 0,
          "week": 26
         },
         {
          "country": "Ireland",
          "value": 0,
          "week": 27
         },
         {
          "country": "Ireland",
          "value": 0,
          "week": 28
         },
         {
          "country": "Ireland",
          "value": 0,
          "week": 29
         },
         {
          "country": "Ireland",
          "value": 0,
          "week": 30
         },
         {
          "country": "Ireland",
          "value": 0,
          "week": 31
         },
         {
          "country": "Ireland",
          "value": 0,
          "week": 32
         },
         {
          "country": "Ireland",
          "value": 0,
          "week": 33
         },
         {
          "country": "Ireland",
          "value": 0,
          "week": 34
         },
         {
          "country": "Ireland",
          "value": 0,
          "week": 35
         },
         {
          "country": "Ireland",
          "value": 0,
          "week": 36
         },
         {
          "country": "Ireland",
          "value": 0,
          "week": 37
         },
         {
          "country": "Ireland",
          "value": 0,
          "week": 38
         },
         {
          "country": "Ireland",
          "value": 0,
          "week": 39
         },
         {
          "country": "Ireland",
          "value": 0,
          "week": 40
         },
         {
          "country": "Ireland",
          "value": 2,
          "week": 41
         },
         {
          "country": "Ireland",
          "value": 1,
          "week": 42
         },
         {
          "country": "Ireland",
          "value": 0,
          "week": 43
         },
         {
          "country": "Ireland",
          "value": 0,
          "week": 44
         },
         {
          "country": "Ireland",
          "value": 0,
          "week": 45
         },
         {
          "country": "Ireland",
          "value": 0,
          "week": 46
         },
         {
          "country": "Ireland",
          "value": 1,
          "week": 47
         },
         {
          "country": "Ireland",
          "value": 1,
          "week": 48
         },
         {
          "country": "Ireland",
          "value": 13,
          "week": 49
         },
         {
          "country": "Ireland",
          "value": 48,
          "week": 50
         },
         {
          "country": "Ireland",
          "value": 161,
          "week": 51
         },
         {
          "country": "Ireland",
          "value": 383,
          "week": 52
         },
         {
          "country": "South Africa",
          "value": 0,
          "week": 1
         },
         {
          "country": "South Africa",
          "value": 1,
          "week": 2
         },
         {
          "country": "South Africa",
          "value": 0,
          "week": 3
         },
         {
          "country": "South Africa",
          "value": 0,
          "week": 4
         },
         {
          "country": "South Africa",
          "value": 0,
          "week": 5
         },
         {
          "country": "South Africa",
          "value": 0,
          "week": 6
         },
         {
          "country": "South Africa",
          "value": 0,
          "week": 7
         },
         {
          "country": "South Africa",
          "value": 1,
          "week": 8
         },
         {
          "country": "South Africa",
          "value": 0,
          "week": 9
         },
         {
          "country": "South Africa",
          "value": 0,
          "week": 10
         },
         {
          "country": "South Africa",
          "value": 0,
          "week": 11
         },
         {
          "country": "South Africa",
          "value": 0,
          "week": 12
         },
         {
          "country": "South Africa",
          "value": 0,
          "week": 13
         },
         {
          "country": "South Africa",
          "value": 0,
          "week": 14
         },
         {
          "country": "South Africa",
          "value": 1,
          "week": 15
         },
         {
          "country": "South Africa",
          "value": 0,
          "week": 16
         },
         {
          "country": "South Africa",
          "value": 0,
          "week": 17
         },
         {
          "country": "South Africa",
          "value": 1,
          "week": 18
         },
         {
          "country": "South Africa",
          "value": 0,
          "week": 19
         },
         {
          "country": "South Africa",
          "value": 1,
          "week": 20
         },
         {
          "country": "South Africa",
          "value": 1,
          "week": 21
         },
         {
          "country": "South Africa",
          "value": 2,
          "week": 22
         },
         {
          "country": "South Africa",
          "value": 10,
          "week": 23
         },
         {
          "country": "South Africa",
          "value": 16,
          "week": 24
         },
         {
          "country": "South Africa",
          "value": 36,
          "week": 25
         },
         {
          "country": "South Africa",
          "value": 84,
          "week": 26
         },
         {
          "country": "South Africa",
          "value": 85,
          "week": 27
         },
         {
          "country": "South Africa",
          "value": 85,
          "week": 28
         },
         {
          "country": "South Africa",
          "value": 61,
          "week": 29
         },
         {
          "country": "South Africa",
          "value": 121,
          "week": 30
         },
         {
          "country": "South Africa",
          "value": 124,
          "week": 31
         },
         {
          "country": "South Africa",
          "value": 99,
          "week": 32
         },
         {
          "country": "South Africa",
          "value": 122,
          "week": 33
         },
         {
          "country": "South Africa",
          "value": 116,
          "week": 34
         },
         {
          "country": "South Africa",
          "value": 74,
          "week": 35
         },
         {
          "country": "South Africa",
          "value": 78,
          "week": 36
         },
         {
          "country": "South Africa",
          "value": 61,
          "week": 37
         },
         {
          "country": "South Africa",
          "value": 39,
          "week": 38
         },
         {
          "country": "South Africa",
          "value": 24,
          "week": 39
         },
         {
          "country": "South Africa",
          "value": 20,
          "week": 40
         },
         {
          "country": "South Africa",
          "value": 8,
          "week": 41
         },
         {
          "country": "South Africa",
          "value": 14,
          "week": 42
         },
         {
          "country": "South Africa",
          "value": 6,
          "week": 43
         },
         {
          "country": "South Africa",
          "value": 3,
          "week": 44
         },
         {
          "country": "South Africa",
          "value": 11,
          "week": 45
         },
         {
          "country": "South Africa",
          "value": 9,
          "week": 46
         },
         {
          "country": "South Africa",
          "value": 8,
          "week": 47
         },
         {
          "country": "South Africa",
          "value": 3,
          "week": 48
         },
         {
          "country": "South Africa",
          "value": 3,
          "week": 49
         },
         {
          "country": "South Africa",
          "value": 0,
          "week": 50
         },
         {
          "country": "South Africa",
          "value": 3,
          "week": 51
         },
         {
          "country": "South Africa",
          "value": 2,
          "week": 52
         },
         {
          "country": "USA",
          "value": 366,
          "week": 1
         },
         {
          "country": "USA",
          "value": 396,
          "week": 2
         },
         {
          "country": "USA",
          "value": 447,
          "week": 3
         },
         {
          "country": "USA",
          "value": 402,
          "week": 4
         },
         {
          "country": "USA",
          "value": 404,
          "week": 5
         },
         {
          "country": "USA",
          "value": 361,
          "week": 6
         },
         {
          "country": "USA",
          "value": 380,
          "week": 7
         },
         {
          "country": "USA",
          "value": 424,
          "week": 8
         },
         {
          "country": "USA",
          "value": 445,
          "week": 9
         },
         {
          "country": "USA",
          "value": 475,
          "week": 10
         },
         {
          "country": "USA",
          "value": 351,
          "week": 11
         },
         {
          "country": "USA",
          "value": 246,
          "week": 12
         },
         {
          "country": "USA",
          "value": 237,
          "week": 13
         },
         {
          "country": "USA",
          "value": 127,
          "week": 14
         },
         {
          "country": "USA",
          "value": 79,
          "week": 15
         },
         {
          "country": "USA",
          "value": 52,
          "week": 16
         },
         {
          "country": "USA",
          "value": 37,
          "week": 17
         },
         {
          "country": "USA",
          "value": 31,
          "week": 18
         },
         {
          "country": "USA",
          "value": 26,
          "week": 19
         },
         {
          "country": "USA",
          "value": 19,
          "week": 20
         },
         {
          "country": "USA",
          "value": 8,
          "week": 21
         },
         {
          "country": "USA",
          "value": 8,
          "week": 22
         },
         {
          "country": "USA",
          "value": 8,
          "week": 23
         },
         {
          "country": "USA",
          "value": 11,
          "week": 24
         },
         {
          "country": "USA",
          "value": 11,
          "week": 25
         },
         {
          "country": "USA",
          "value": 7,
          "week": 26
         },
         {
          "country": "USA",
          "value": 4,
          "week": 27
         },
         {
          "country": "USA",
          "value": 10,
          "week": 28
         },
         {
          "country": "USA",
          "value": 12,
          "week": 29
         },
         {
          "country": "USA",
          "value": 24,
          "week": 30
         },
         {
          "country": "USA",
          "value": 19,
          "week": 31
         },
         {
          "country": "USA",
          "value": 32,
          "week": 32
         },
         {
          "country": "USA",
          "value": 21,
          "week": 33
         },
         {
          "country": "USA",
          "value": 45,
          "week": 34
         },
         {
          "country": "USA",
          "value": 34,
          "week": 35
         },
         {
          "country": "USA",
          "value": 46,
          "week": 36
         },
         {
          "country": "USA",
          "value": 64,
          "week": 37
         },
         {
          "country": "USA",
          "value": 67,
          "week": 38
         },
         {
          "country": "USA",
          "value": 62,
          "week": 39
         },
         {
          "country": "USA",
          "value": 77,
          "week": 40
         },
         {
          "country": "USA",
          "value": 128,
          "week": 41
         },
         {
          "country": "USA",
          "value": 141,
          "week": 42
         },
         {
          "country": "USA",
          "value": 168,
          "week": 43
         },
         {
          "country": "USA",
          "value": 247,
          "week": 44
         },
         {
          "country": "USA",
          "value": 352,
          "week": 45
         },
         {
          "country": "USA",
          "value": 491,
          "week": 46
         },
         {
          "country": "USA",
          "value": 588,
          "week": 47
         },
         {
          "country": "USA",
          "value": 609,
          "week": 48
         },
         {
          "country": "USA",
          "value": 843,
          "week": 49
         },
         {
          "country": "USA",
          "value": 1438,
          "week": 50
         },
         {
          "country": "USA",
          "value": 1998,
          "week": 51
         },
         {
          "country": "USA",
          "value": 2375,
          "week": 52
         }
        ]
       },
       "vconcat": [
        {
         "data": {
          "values": [
           {
            "country": "Afghanistan",
            "value": 5,
            "week": 1
           },
           {
            "country": "Afghanistan",
            "value": 13,
            "week": 2
           },
           {
            "country": "Afghanistan",
            "value": 4,
            "week": 3
           },
           {
            "country": "Afghanistan",
            "value": 0,
            "week": 4
           },
           {
            "country": "Afghanistan",
            "value": 0,
            "week": 5
           },
           {
            "country": "Afghanistan",
            "value": 0,
            "week": 6
           },
           {
            "country": "Afghanistan",
            "value": 1,
            "week": 7
           },
           {
            "country": "Afghanistan",
            "value": 1,
            "week": 8
           },
           {
            "country": "Afghanistan",
            "value": null,
            "week": 9
           },
           {
            "country": "Afghanistan",
            "value": 1,
            "week": 10
           },
           {
            "country": "Afghanistan",
            "value": 0,
            "week": 11
           },
           {
            "country": "Afghanistan",
            "value": 0,
            "week": 12
           },
           {
            "country": "Afghanistan",
            "value": 0,
            "week": 13
           },
           {
            "country": "Afghanistan",
            "value": 0,
            "week": 14
           },
           {
            "country": "Afghanistan",
            "value": 0,
            "week": 15
           },
           {
            "country": "Afghanistan",
            "value": 0,
            "week": 16
           },
           {
            "country": "Afghanistan",
            "value": 0,
            "week": 17
           },
           {
            "country": "Afghanistan",
            "value": 0,
            "week": 18
           },
           {
            "country": "Afghanistan",
            "value": 0,
            "week": 19
           },
           {
            "country": "Afghanistan",
            "value": 0,
            "week": 20
           },
           {
            "country": "Afghanistan",
            "value": 0,
            "week": 21
           },
           {
            "country": "Afghanistan",
            "value": 0,
            "week": 22
           },
           {
            "country": "Afghanistan",
            "value": 0,
            "week": 23
           },
           {
            "country": "Afghanistan",
            "value": 0,
            "week": 24
           },
           {
            "country": "Afghanistan",
            "value": 1,
            "week": 25
           },
           {
            "country": "Afghanistan",
            "value": 0,
            "week": 26
           },
           {
            "country": "Afghanistan",
            "value": 0,
            "week": 27
           },
           {
            "country": "Afghanistan",
            "value": 0,
            "week": 28
           },
           {
            "country": "Afghanistan",
            "value": 0,
            "week": 29
           },
           {
            "country": "Afghanistan",
            "value": 0,
            "week": 30
           },
           {
            "country": "Afghanistan",
            "value": 0,
            "week": 31
           },
           {
            "country": "Afghanistan",
            "value": 0,
            "week": 32
           },
           {
            "country": "Afghanistan",
            "value": 0,
            "week": 33
           },
           {
            "country": "Afghanistan",
            "value": 0,
            "week": 34
           },
           {
            "country": "Afghanistan",
            "value": 0,
            "week": 35
           },
           {
            "country": "Afghanistan",
            "value": 0,
            "week": 36
           },
           {
            "country": "Afghanistan",
            "value": 0,
            "week": 37
           },
           {
            "country": "Afghanistan",
            "value": 0,
            "week": 38
           },
           {
            "country": "Afghanistan",
            "value": 0,
            "week": 39
           },
           {
            "country": "Afghanistan",
            "value": 0,
            "week": 40
           },
           {
            "country": "Afghanistan",
            "value": 0,
            "week": 41
           },
           {
            "country": "Afghanistan",
            "value": 0,
            "week": 42
           },
           {
            "country": "Afghanistan",
            "value": 0,
            "week": 43
           },
           {
            "country": "Afghanistan",
            "value": 0,
            "week": 44
           },
           {
            "country": "Afghanistan",
            "value": 0,
            "week": 45
           },
           {
            "country": "Afghanistan",
            "value": 0,
            "week": 46
           },
           {
            "country": "Afghanistan",
            "value": 0,
            "week": 47
           },
           {
            "country": "Afghanistan",
            "value": 0,
            "week": 48
           },
           {
            "country": "Afghanistan",
            "value": 0,
            "week": 49
           },
           {
            "country": "Afghanistan",
            "value": 0,
            "week": 50
           },
           {
            "country": "Afghanistan",
            "value": null,
            "week": 51
           },
           {
            "country": "Afghanistan",
            "value": null,
            "week": 52
           },
           {
            "country": "Argentina",
            "value": 4,
            "week": 1
           },
           {
            "country": "Argentina",
            "value": 21,
            "week": 2
           },
           {
            "country": "Argentina",
            "value": 6,
            "week": 3
           },
           {
            "country": "Argentina",
            "value": 1,
            "week": 4
           },
           {
            "country": "Argentina",
            "value": 4,
            "week": 5
           },
           {
            "country": "Argentina",
            "value": 0,
            "week": 6
           },
           {
            "country": "Argentina",
            "value": 3,
            "week": 7
           },
           {
            "country": "Argentina",
            "value": 1,
            "week": 8
           },
           {
            "country": "Argentina",
            "value": 0,
            "week": 9
           },
           {
            "country": "Argentina",
            "value": 3,
            "week": 10
           },
           {
            "country": "Argentina",
            "value": 0,
            "week": 11
           },
           {
            "country": "Argentina",
            "value": 9,
            "week": 12
           },
           {
            "country": "Argentina",
            "value": 8,
            "week": 13
           },
           {
            "country": "Argentina",
            "value": 7,
            "week": 14
           },
           {
            "country": "Argentina",
            "value": 9,
            "week": 15
           },
           {
            "country": "Argentina",
            "value": 15,
            "week": 16
           },
           {
            "country": "Argentina",
            "value": 16,
            "week": 17
           },
           {
            "country": "Argentina",
            "value": 18,
            "week": 18
           },
           {
            "country": "Argentina",
            "value": 10,
            "week": 19
           },
           {
            "country": "Argentina",
            "value": 4,
            "week": 20
           },
           {
            "country": "Argentina",
            "value": 5,
            "week": 21
           },
           {
            "country": "Argentina",
            "value": 34,
            "week": 22
           },
           {
            "country": "Argentina",
            "value": 49,
            "week": 23
           },
           {
            "country": "Argentina",
            "value": 50,
            "week": 24
           },
           {
            "country": "Argentina",
            "value": 40,
            "week": 25
           },
           {
            "country": "Argentina",
            "value": 43,
            "week": 26
           },
           {
            "country": "Argentina",
            "value": 40,
            "week": 27
           },
           {
            "country": "Argentina",
            "value": 64,
            "week": 28
           },
           {
            "country": "Argentina",
            "value": 76,
            "week": 29
           },
           {
            "country": "Argentina",
            "value": 75,
            "week": 30
           },
           {
            "country": "Argentina",
            "value": 43,
            "week": 31
           },
           {
            "country": "Argentina",
            "value": 84,
            "week": 32
           },
           {
            "country": "Argentina",
            "value": 71,
            "week": 33
           },
           {
            "country": "Argentina",
            "value": 79,
            "week": 34
           },
           {
            "country": "Argentina",
            "value": 52,
            "week": 35
           },
           {
            "country": "Argentina",
            "value": 40,
            "week": 36
           },
           {
            "country": "Argentina",
            "value": 32,
            "week": 37
           },
           {
            "country": "Argentina",
            "value": 37,
            "week": 38
           },
           {
            "country": "Argentina",
            "value": 64,
            "week": 39
           },
           {
            "country": "Argentina",
            "value": 108,
            "week": 40
           },
           {
            "country": "Argentina",
            "value": 279,
            "week": 41
           },
           {
            "country": "Argentina",
            "value": 280,
            "week": 42
           },
           {
            "country": "Argentina",
            "value": 89,
            "week": 43
           },
           {
            "country": "Argentina",
            "value": 59,
            "week": 44
           },
           {
            "country": "Argentina",
            "value": 25,
            "week": 45
           },
           {
            "country": "Argentina",
            "value": 32,
            "week": 46
           },
           {
            "country": "Argentina",
            "value": 30,
            "week": 47
           },
           {
            "country": "Argentina",
            "value": 39,
            "week": 48
           },
           {
            "country": "Argentina",
            "value": 20,
            "week": 49
           },
           {
            "country": "Argentina",
            "value": 20,
            "week": 50
           },
           {
            "country": "Argentina",
            "value": 16,
            "week": 51
           },
           {
            "country": "Argentina",
            "value": 1,
            "week": 52
           },
           {
            "country": "Australia",
            "value": 2,
            "week": 1
           },
           {
            "country": "Australia",
            "value": 1,
            "week": 2
           },
           {
            "country": "Australia",
            "value": 1,
            "week": 3
           },
           {
            "country": "Australia",
            "value": 0,
            "week": 4
           },
           {
            "country": "Australia",
            "value": 1,
            "week": 5
           },
           {
            "country": "Australia",
            "value": 1,
            "week": 6
           },
           {
            "country": "Australia",
            "value": 0,
            "week": 7
           },
           {
            "country": "Australia",
            "value": 4,
            "week": 8
           },
           {
            "country": "Australia",
            "value": 3,
            "week": 9
           },
           {
            "country": "Australia",
            "value": 1,
            "week": 10
           },
           {
            "country": "Australia",
            "value": 1,
            "week": 11
           },
           {
            "country": "Australia",
            "value": 2,
            "week": 12
           },
           {
            "country": "Australia",
            "value": 0,
            "week": 13
           },
           {
            "country": "Australia",
            "value": 0,
            "week": 14
           },
           {
            "country": "Australia",
            "value": 4,
            "week": 15
           },
           {
            "country": "Australia",
            "value": 2,
            "week": 16
           },
           {
            "country": "Australia",
            "value": 6,
            "week": 17
           },
           {
            "country": "Australia",
            "value": 1,
            "week": 18
           },
           {
            "country": "Australia",
            "value": 3,
            "week": 19
           },
           {
            "country": "Australia",
            "value": 4,
            "week": 20
           },
           {
            "country": "Australia",
            "value": 4,
            "week": 21
           },
           {
            "country": "Australia",
            "value": 3,
            "week": 22
           },
           {
            "country": "Australia",
            "value": 1,
            "week": 23
           },
           {
            "country": "Australia",
            "value": 5,
            "week": 24
           },
           {
            "country": "Australia",
            "value": 12,
            "week": 25
           },
           {
            "country": "Australia",
            "value": 18,
            "week": 26
           },
           {
            "country": "Australia",
            "value": 14,
            "week": 27
           },
           {
            "country": "Australia",
            "value": 15,
            "week": 28
           },
           {
            "country": "Australia",
            "value": 15,
            "week": 29
           },
           {
            "country": "Australia",
            "value": 31,
            "week": 30
           },
           {
            "country": "Australia",
            "value": 39,
            "week": 31
           },
           {
            "country": "Australia",
            "value": 44,
            "week": 32
           },
           {
            "country": "Australia",
            "value": 60,
            "week": 33
           },
           {
            "country": "Australia",
            "value": 64,
            "week": 34
           },
           {
            "country": "Australia",
            "value": 78,
            "week": 35
           },
           {
            "country": "Australia",
            "value": 77,
            "week": 36
           },
           {
            "country": "Australia",
            "value": 56,
            "week": 37
           },
           {
            "country": "Australia",
            "value": 105,
            "week": 38
           },
           {
            "country": "Australia",
            "value": 92,
            "week": 39
           },
           {
            "country": "Australia",
            "value": 97,
            "week": 40
           },
           {
            "country": "Australia",
            "value": 52,
            "week": 41
           },
           {
            "country": "Australia",
            "value": 50,
            "week": 42
           },
           {
            "country": "Australia",
            "value": 54,
            "week": 43
           },
           {
            "country": "Australia",
            "value": 47,
            "week": 44
           },
           {
            "country": "Australia",
            "value": 29,
            "week": 45
           },
           {
            "country": "Australia",
            "value": 14,
            "week": 46
           },
           {
            "country": "Australia",
            "value": 23,
            "week": 47
           },
           {
            "country": "Australia",
            "value": 19,
            "week": 48
           },
           {
            "country": "Australia",
            "value": 20,
            "week": 49
           },
           {
            "country": "Australia",
            "value": 23,
            "week": 50
           },
           {
            "country": "Australia",
            "value": 29,
            "week": 51
           },
           {
            "country": "Australia",
            "value": 25,
            "week": 52
           },
           {
            "country": "Canada",
            "value": 41,
            "week": 1
           },
           {
            "country": "Canada",
            "value": 15,
            "week": 2
           },
           {
            "country": "Canada",
            "value": 8,
            "week": 3
           },
           {
            "country": "Canada",
            "value": 14,
            "week": 4
           },
           {
            "country": "Canada",
            "value": 12,
            "week": 5
           },
           {
            "country": "Canada",
            "value": 6,
            "week": 6
           },
           {
            "country": "Canada",
            "value": 6,
            "week": 7
           },
           {
            "country": "Canada",
            "value": 7,
            "week": 8
           },
           {
            "country": "Canada",
            "value": 3,
            "week": 9
           },
           {
            "country": "Canada",
            "value": 7,
            "week": 10
           },
           {
            "country": "Canada",
            "value": 9,
            "week": 11
           },
           {
            "country": "Canada",
            "value": 7,
            "week": 12
           },
           {
            "country": "Canada",
            "value": 6,
            "week": 13
           },
           {
            "country": "Canada",
            "value": 6,
            "week": 14
           },
           {
            "country": "Canada",
            "value": 0,
            "week": 15
           },
           {
            "country": "Canada",
            "value": 2,
            "week": 16
           },
           {
            "country": "Canada",
            "value": 4,
            "week": 17
           },
           {
            "country": "Canada",
            "value": 3,
            "week": 18
           },
           {
            "country": "Canada",
            "value": 1,
            "week": 19
           },
           {
            "country": "Canada",
            "value": 4,
            "week": 20
           },
           {
            "country": "Canada",
            "value": 5,
            "week": 21
           },
           {
            "country": "Canada",
            "value": 0,
            "week": 22
           },
           {
            "country": "Canada",
            "value": 1,
            "week": 23
           },
           {
            "country": "Canada",
            "value": 1,
            "week": 24
           },
           {
            "country": "Canada",
            "value": 0,
            "week": 25
           },
           {
            "country": "Canada",
            "value": 8,
            "week": 26
           },
           {
            "country": "Canada",
            "value": 2,
            "week": 27
           },
           {
            "country": "Canada",
            "value": 6,
            "week": 28
           },
           {
            "country": "Canada",
            "value": 0,
            "week": 29
           },
           {
            "country": "Canada",
            "value": 3,
            "week": 30
           },
           {
            "country": "Canada",
            "value": 0,
            "week": 31
           },
           {
            "country": "Canada",
            "value": 2,
            "week": 32
           },
           {
            "country": "Canada",
            "value": 1,
            "week": 33
           },
           {
            "country": "Canada",
            "value": 6,
            "week": 34
           },
           {
            "country": "Canada",
            "value": 2,
            "week": 35
           },
           {
            "country": "Canada",
            "value": 1,
            "week": 36
           },
           {
            "country": "Canada",
            "value": 3,
            "week": 37
           },
           {
            "country": "Canada",
            "value": 8,
            "week": 38
           },
           {
            "country": "Canada",
            "value": 12,
            "week": 39
           },
           {
            "country": "Canada",
            "value": 11,
            "week": 40
           },
           {
            "country": "Canada",
            "value": 17,
            "week": 41
           },
           {
            "country": "Canada",
            "value": 17,
            "week": 42
           },
           {
            "country": "Canada",
            "value": 14,
            "week": 43
           },
           {
            "country": "Canada",
            "value": 22,
            "week": 44
           },
           {
            "country": "Canada",
            "value": 42,
            "week": 45
           },
           {
            "country": "Canada",
            "value": 55,
            "week": 46
           },
           {
            "country": "Canada",
            "value": 111,
            "week": 47
           },
           {
            "country": "Canada",
            "value": 225,
            "week": 48
           },
           {
            "country": "Canada",
            "value": 323,
            "week": 49
           },
           {
            "country": "Canada",
            "value": 566,
            "week": 50
           },
           {
            "country": "Canada",
            "value": 987,
            "week": 51
           },
           {
            "country": "Canada",
            "value": 1366,
            "week": 52
           },
           {
            "country": "China",
            "value": 2179,
            "week": 1
           },
           {
            "country": "China",
            "value": 2213,
            "week": 2
           },
           {
            "country": "China",
            "value": 2228,
            "week": 3
           },
           {
            "country": "China",
            "value": 2027,
            "week": 4
           },
           {
            "country": "China",
            "value": 1813,
            "week": 5
           },
           {
            "country": "China",
            "value": 1353,
            "week": 6
           },
           {
            "country": "China",
            "value": 799,
            "week": 7
           },
           {
            "country": "China",
            "value": 1218,
            "week": 8
           },
           {
            "country": "China",
            "value": 1333,
            "week": 9
           },
           {
            "country": "China",
            "value": 1614,
            "week": 10
           },
           {
            "country": "China",
            "value": 1745,
            "week": 11
           },
           {
            "country": "China",
            "value": 1548,
            "week": 12
           },
           {
            "country": "China",
            "value": 1388,
            "week": 13
           },
           {
            "country": "China",
            "value": 843,
            "week": 14
           },
           {
            "country": "China",
            "value": 635,
            "week": 15
           },
           {
            "country": "China",
            "value": 716,
            "week": 16
           },
           {
            "country": "China",
            "value": 602,
            "week": 17
           },
           {
            "country": "China",
            "value": 529,
            "week": 18
           },
           {
            "country": "China",
            "value": 434,
            "week": 19
           },
           {
            "country": "China",
            "value": 368,
            "week": 20
           },
           {
            "country": "China",
            "value": 314,
            "week": 21
           },
           {
            "country": "China",
            "value": 225,
            "week": 22
           },
           {
            "country": "China",
            "value": 238,
            "week": 23
           },
           {
            "country": "China",
            "value": 118,
            "week": 24
           },
           {
            "country": "China",
            "value": 185,
            "week": 25
           },
           {
            "country": "China",
            "value": 202,
            "week": 26
           },
           {
            "country": "China",
            "value": 262,
            "week": 27
           },
           {
            "country": "China",
            "value": 334,
            "week": 28
           },
           {
            "country": "China",
            "value": 432,
            "week": 29
           },
           {
            "country": "China",
            "value": 413,
            "week": 30
           },
           {
            "country": "China",
            "value": 615,
            "week": 31
           },
           {
            "country": "China",
            "value": 776,
            "week": 32
           },
           {
            "country": "China",
            "value": 782,
            "week": 33
           },
           {
            "country": "China",
            "value": 1018,
            "week": 34
           },
           {
            "country": "China",
            "value": 1211,
            "week": 35
           },
           {
            "country": "China",
            "value": 1441,
            "week": 36
           },
           {
            "country": "China",
            "value": 1473,
            "week": 37
           },
           {
            "country": "China",
            "value": 1197,
            "week": 38
           },
           {
            "country": "China",
            "value": 1045,
            "week": 39
           },
           {
            "country": "China",
            "value": 890,
            "week": 40
           },
           {
            "country": "China",
            "value": 685,
            "week": 41
           },
           {
            "country": "China",
            "value": 508,
            "week": 42
           },
           {
            "country": "China",
            "value": 498,
            "week": 43
           },
           {
            "country": "China",
            "value": 400,
            "week": 44
           },
           {
            "country": "China",
            "value": 389,
            "week": 45
           },
           {
            "country": "China",
            "value": 245,
            "week": 46
           },
           {
            "country": "China",
            "value": 397,
            "week": 47
           },
           {
            "country": "China",
            "value": 400,
            "week": 48
           },
           {
            "country": "China",
            "value": 395,
            "week": 49
           },
           {
            "country": "China",
            "value": 359,
            "week": 50
           },
           {
            "country": "China",
            "value": 602,
            "week": 51
           },
           {
            "country": "China",
            "value": 532,
            "week": 52
           },
           {
            "country": "Colombia",
            "value": 36,
            "week": 1
           },
           {
            "country": "Colombia",
            "value": 36,
            "week": 2
           },
           {
            "country": "Colombia",
            "value": 14,
            "week": 3
           },
           {
            "country": "Colombia",
            "value": 11,
            "week": 4
           },
           {
            "country": "Colombia",
            "value": 8,
            "week": 5
           },
           {
            "country": "Colombia",
            "value": 9,
            "week": 6
           },
           {
            "country": "Colombia",
            "value": 7,
            "week": 7
           },
           {
            "country": "Colombia",
            "value": 5,
            "week": 8
           },
           {
            "country": "Colombia",
            "value": 7,
            "week": 9
           },
           {
            "country": "Colombia",
            "value": 5,
            "week": 10
           },
           {
            "country": "Colombia",
            "value": 11,
            "week": 11
           },
           {
            "country": "Colombia",
            "value": 1,
            "week": 12
           },
           {
            "country": "Colombia",
            "value": 4,
            "week": 13
           },
           {
            "country": "Colombia",
            "value": 2,
            "week": 14
           },
           {
            "country": "Colombia",
            "value": 8,
            "week": 15
           },
           {
            "country": "Colombia",
            "value": 16,
            "week": 16
           },
           {
            "country": "Colombia",
            "value": 8,
            "week": 17
           },
           {
            "country": "Colombia",
            "value": 3,
            "week": 18
           },
           {
            "country": "Colombia",
            "value": 8,
            "week": 19
           },
           {
            "country": "Colombia",
            "value": 10,
            "week": 20
           },
           {
            "country": "Colombia",
            "value": 15,
            "week": 21
           },
           {
            "country": "Colombia",
            "value": 42,
            "week": 22
           },
           {
            "country": "Colombia",
            "value": 40,
            "week": 23
           },
           {
            "country": "Colombia",
            "value": 30,
            "week": 24
           },
           {
            "country": "Colombia",
            "value": 40,
            "week": 25
           },
           {
            "country": "Colombia",
            "value": 36,
            "week": 26
           },
           {
            "country": "Colombia",
            "value": 31,
            "week": 27
           },
           {
            "country": "Colombia",
            "value": 33,
            "week": 28
           },
           {
            "country": "Colombia",
            "value": 33,
            "week": 29
           },
           {
            "country": "Colombia",
            "value": 27,
            "week": 30
           },
           {
            "country": "Colombia",
            "value": 29,
            "week": 31
           },
           {
            "country": "Colombia",
            "value": 15,
            "week": 32
           },
           {
            "country": "Colombia",
            "value": 9,
            "week": 33
           },
           {
            "country": "Colombia",
            "value": 19,
            "week": 34
           },
           {
            "country": "Colombia",
            "value": 3,
            "week": 35
           },
           {
            "country": "Colombia",
            "value": 15,
            "week": 36
           },
           {
            "country": "Colombia",
            "value": 18,
            "week": 37
           },
           {
            "country": "Colombia",
            "value": 8,
            "week": 38
           },
           {
            "country": "Colombia",
            "value": 13,
            "week": 39
           },
           {
            "country": "Colombia",
            "value": 7,
            "week": 40
           },
           {
            "country": "Colombia",
            "value": 2,
            "week": 41
           },
           {
            "country": "Colombia",
            "value": 3,
            "week": 42
           },
           {
            "country": "Colombia",
            "value": 1,
            "week": 43
           },
           {
            "country": "Colombia",
            "value": 9,
            "week": 44
           },
           {
            "country": "Colombia",
            "value": 5,
            "week": 45
           },
           {
            "country": "Colombia",
            "value": 15,
            "week": 46
           },
           {
            "country": "Colombia",
            "value": 13,
            "week": 47
           },
           {
            "country": "Colombia",
            "value": 4,
            "week": 48
           },
           {
            "country": "Colombia",
            "value": 17,
            "week": 49
           },
           {
            "country": "Colombia",
            "value": 14,
            "week": 50
           },
           {
            "country": "Colombia",
            "value": 19,
            "week": 51
           },
           {
            "country": "Colombia",
            "value": 12,
            "week": 52
           },
           {
            "country": "Egypt",
            "value": 739,
            "week": 1
           },
           {
            "country": "Egypt",
            "value": 396,
            "week": 2
           },
           {
            "country": "Egypt",
            "value": 192,
            "week": 3
           },
           {
            "country": "Egypt",
            "value": 80,
            "week": 4
           },
           {
            "country": "Egypt",
            "value": 56,
            "week": 5
           },
           {
            "country": "Egypt",
            "value": 47,
            "week": 6
           },
           {
            "country": "Egypt",
            "value": 32,
            "week": 7
           },
           {
            "country": "Egypt",
            "value": 16,
            "week": 8
           },
           {
            "country": "Egypt",
            "value": 8,
            "week": 9
           },
           {
            "country": "Egypt",
            "value": 8,
            "week": 10
           },
           {
            "country": "Egypt",
            "value": 3,
            "week": 11
           },
           {
            "country": "Egypt",
            "value": 5,
            "week": 12
           },
           {
            "country": "Egypt",
            "value": 6,
            "week": 13
           },
           {
            "country": "Egypt",
            "value": 3,
            "week": 14
           },
           {
            "country": "Egypt",
            "value": 2,
            "week": 15
           },
           {
            "country": "Egypt",
            "value": 2,
            "week": 16
           },
           {
            "country": "Egypt",
            "value": 2,
            "week": 17
           },
           {
            "country": "Egypt",
            "value": 9,
            "week": 18
           },
           {
            "country": "Egypt",
            "value": 2,
            "week": 19
           },
           {
            "country": "Egypt",
            "value": 1,
            "week": 20
           },
           {
            "country": "Egypt",
            "value": 0,
            "week": 21
           },
           {
            "country": "Egypt",
            "value": 9,
            "week": 22
           },
           {
            "country": "Egypt",
            "value": 8,
            "week": 23
           },
           {
            "country": "Egypt",
            "value": 8,
            "week": 24
           },
           {
            "country": "Egypt",
            "value": 7,
            "week": 25
           },
           {
            "country": "Egypt",
            "value": 6,
            "week": 26
           },
           {
            "country": "Egypt",
            "value": 6,
            "week": 27
           },
           {
            "country": "Egypt",
            "value": 4,
            "week": 28
           },
           {
            "country": "Egypt",
            "value": 14,
            "week": 29
           },
           {
            "country": "Egypt",
            "value": 7,
            "week": 30
           },
           {
            "country": "Egypt",
            "value": 5,
            "week": 31
           },
           {
            "country": "Egypt",
            "value": 2,
            "week": 32
           },
           {
            "country": "Egypt",
            "value": 4,
            "week": 33
           },
           {
            "country": "Egypt",
            "value": 1,
            "week": 34
           },
           {
            "country": "Egypt",
            "value": 6,
            "week": 35
           },
           {
            "country": "Egypt",
            "value": 0,
            "week": 36
           },
           {
            "country": "Egypt",
            "value": 0,
            "week": 37
           },
           {
            "country": "Egypt",
            "value": 0,
            "week": 38
           },
           {
            "country": "Egypt",
            "value": 0,
            "week": 39
           },
           {
            "country": "Egypt",
            "value": 3,
            "week": 40
           },
           {
            "country": "Egypt",
            "value": 7,
            "week": 41
           },
           {
            "country": "Egypt",
            "value": 19,
            "week": 42
           },
           {
            "country": "Egypt",
            "value": 14,
            "week": 43
           },
           {
            "country": "Egypt",
            "value": 16,
            "week": 44
           },
           {
            "country": "Egypt",
            "value": 19,
            "week": 45
           },
           {
            "country": "Egypt",
            "value": 20,
            "week": 46
           },
           {
            "country": "Egypt",
            "value": 36,
            "week": 47
           },
           {
            "country": "Egypt",
            "value": 64,
            "week": 48
           },
           {
            "country": "Egypt",
            "value": 88,
            "week": 49
           },
           {
            "country": "Egypt",
            "value": 152,
            "week": 50
           },
           {
            "country": "Egypt",
            "value": 372,
            "week": 51
           },
           {
            "country": "Egypt",
            "value": 522,
            "week": 52
           },
           {
            "country": "Germany",
            "value": 26,
            "week": 1
           },
           {
            "country": "Germany",
            "value": 24,
            "week": 2
           },
           {
            "country": "Germany",
            "value": 18,
            "week": 3
           },
           {
            "country": "Germany",
            "value": null,
            "week": 4
           },
           {
            "country": "Germany",
            "value": null,
            "week": 5
           },
           {
            "country": "Germany",
            "value": null,
            "week": 6
           },
           {
            "country": "Germany",
            "value": null,
            "week": 7
           },
           {
            "country": "Germany",
            "value": null,
            "week": 8
           },
           {
            "country": "Germany",
            "value": 3,
            "week": 9
           },
           {
            "country": "Germany",
            "value": 7,
            "week": 10
           },
           {
            "country": "Germany",
            "value": 2,
            "week": 11
           },
           {
            "country": "Germany",
            "value": 6,
            "week": 12
           },
           {
            "country": "Germany",
            "value": 0,
            "week": 13
           },
           {
            "country": "Germany",
            "value": 1,
            "week": 14
           },
           {
            "country": "Germany",
            "value": 0,
            "week": 15
           },
           {
            "country": "Germany",
            "value": 0,
            "week": 16
           },
           {
            "country": "Germany",
            "value": 0,
            "week": 17
           },
           {
            "country": "Germany",
            "value": 0,
            "week": 18
           },
           {
            "country": "Germany",
            "value": 0,
            "week": 19
           },
           {
            "country": "Germany",
            "value": 1,
            "week": 20
           },
           {
            "country": "Germany",
            "value": 0,
            "week": 21
           },
           {
            "country": "Germany",
            "value": 0,
            "week": 22
           },
           {
            "country": "Germany",
            "value": 1,
            "week": 23
           },
           {
            "country": "Germany",
            "value": 0,
            "week": 24
           },
           {
            "country": "Germany",
            "value": 0,
            "week": 25
           },
           {
            "country": "Germany",
            "value": 0,
            "week": 26
           },
           {
            "country": "Germany",
            "value": 0,
            "week": 27
           },
           {
            "country": "Germany",
            "value": 0,
            "week": 28
           },
           {
            "country": "Germany",
            "value": 0,
            "week": 29
           },
           {
            "country": "Germany",
            "value": 0,
            "week": 30
           },
           {
            "country": "Germany",
            "value": 0,
            "week": 31
           },
           {
            "country": "Germany",
            "value": 0,
            "week": 32
           },
           {
            "country": "Germany",
            "value": 0,
            "week": 33
           },
           {
            "country": "Germany",
            "value": 0,
            "week": 34
           },
           {
            "country": "Germany",
            "value": 0,
            "week": 35
           },
           {
            "country": "Germany",
            "value": 0,
            "week": 36
           },
           {
            "country": "Germany",
            "value": 0,
            "week": 37
           },
           {
            "country": "Germany",
            "value": 1,
            "week": 38
           },
           {
            "country": "Germany",
            "value": 1,
            "week": 39
           },
           {
            "country": "Germany",
            "value": 0,
            "week": 40
           },
           {
            "country": "Germany",
            "value": 2,
            "week": 41
           },
           {
            "country": "Germany",
            "value": 1,
            "week": 42
           },
           {
            "country": "Germany",
            "value": 2,
            "week": 43
           },
           {
            "country": "Germany",
            "value": 0,
            "week": 44
           },
           {
            "country": "Germany",
            "value": 1,
            "week": 45
           },
           {
            "country": "Germany",
            "value": 1,
            "week": 46
           },
           {
            "country": "Germany",
            "value": 3,
            "week": 47
           },
           {
            "country": "Germany",
            "value": 1,
            "week": 48
           },
           {
            "country": "Germany",
            "value": 2,
            "week": 49
           },
           {
            "country": "Germany",
            "value": 23,
            "week": 50
           },
           {
            "country": "Germany",
            "value": 18,
            "week": 51
           },
           {
            "country": "Germany",
            "value": 44,
            "week": 52
           },
           {
            "country": "Ireland",
            "value": 23,
            "week": 1
           },
           {
            "country": "Ireland",
            "value": 8,
            "week": 2
           },
           {
            "country": "Ireland",
            "value": 4,
            "week": 3
           },
           {
            "country": "Ireland",
            "value": 8,
            "week": 4
           },
           {
            "country": "Ireland",
            "value": 4,
            "week": 5
           },
           {
            "country": "Ireland",
            "value": 0,
            "week": 6
           },
           {
            "country": "Ireland",
            "value": 0,
            "week": 7
           },
           {
            "country": "Ireland",
            "value": 1,
            "week": 8
           },
           {
            "country": "Ireland",
            "value": 0,
            "week": 9
           },
           {
            "country": "Ireland",
            "value": 0,
            "week": 10
           },
           {
            "country": "Ireland",
            "value": 0,
            "week": 11
           },
           {
            "country": "Ireland",
            "value": 1,
            "week": 12
           },
           {
            "country": "Ireland",
            "value": 0,
            "week": 13
           },
           {
            "country": "Ireland",
            "value": 0,
            "week": 14
           },
           {
            "country": "Ireland",
            "value": 0,
            "week": 15
           },
           {
            "country": "Ireland",
            "value": 1,
            "week": 16
           },
           {
            "country": "Ireland",
            "value": 0,
            "week": 17
           },
           {
            "country": "Ireland",
            "value": 0,
            "week": 18
           },
           {
            "country": "Ireland",
            "value": 0,
            "week": 19
           },
           {
            "country": "Ireland",
            "value": 1,
            "week": 20
           },
           {
            "country": "Ireland",
            "value": 0,
            "week": 21
           },
           {
            "country": "Ireland",
            "value": 0,
            "week": 22
           },
           {
            "country": "Ireland",
            "value": 0,
            "week": 23
           },
           {
            "country": "Ireland",
            "value": 0,
            "week": 24
           },
           {
            "country": "Ireland",
            "value": 0,
            "week": 25
           },
           {
            "country": "Ireland",
            "value": 0,
            "week": 26
           },
           {
            "country": "Ireland",
            "value": 0,
            "week": 27
           },
           {
            "country": "Ireland",
            "value": 0,
            "week": 28
           },
           {
            "country": "Ireland",
            "value": 0,
            "week": 29
           },
           {
            "country": "Ireland",
            "value": 0,
            "week": 30
           },
           {
            "country": "Ireland",
            "value": 0,
            "week": 31
           },
           {
            "country": "Ireland",
            "value": 0,
            "week": 32
           },
           {
            "country": "Ireland",
            "value": 0,
            "week": 33
           },
           {
            "country": "Ireland",
            "value": 0,
            "week": 34
           },
           {
            "country": "Ireland",
            "value": 0,
            "week": 35
           },
           {
            "country": "Ireland",
            "value": 0,
            "week": 36
           },
           {
            "country": "Ireland",
            "value": 0,
            "week": 37
           },
           {
            "country": "Ireland",
            "value": 0,
            "week": 38
           },
           {
            "country": "Ireland",
            "value": 0,
            "week": 39
           },
           {
            "country": "Ireland",
            "value": 0,
            "week": 40
           },
           {
            "country": "Ireland",
            "value": 2,
            "week": 41
           },
           {
            "country": "Ireland",
            "value": 1,
            "week": 42
           },
           {
            "country": "Ireland",
            "value": 0,
            "week": 43
           },
           {
            "country": "Ireland",
            "value": 0,
            "week": 44
           },
           {
            "country": "Ireland",
            "value": 0,
            "week": 45
           },
           {
            "country": "Ireland",
            "value": 0,
            "week": 46
           },
           {
            "country": "Ireland",
            "value": 1,
            "week": 47
           },
           {
            "country": "Ireland",
            "value": 1,
            "week": 48
           },
           {
            "country": "Ireland",
            "value": 13,
            "week": 49
           },
           {
            "country": "Ireland",
            "value": 48,
            "week": 50
           },
           {
            "country": "Ireland",
            "value": 161,
            "week": 51
           },
           {
            "country": "Ireland",
            "value": 383,
            "week": 52
           },
           {
            "country": "South Africa",
            "value": 0,
            "week": 1
           },
           {
            "country": "South Africa",
            "value": 1,
            "week": 2
           },
           {
            "country": "South Africa",
            "value": 0,
            "week": 3
           },
           {
            "country": "South Africa",
            "value": 0,
            "week": 4
           },
           {
            "country": "South Africa",
            "value": 0,
            "week": 5
           },
           {
            "country": "South Africa",
            "value": 0,
            "week": 6
           },
           {
            "country": "South Africa",
            "value": 0,
            "week": 7
           },
           {
            "country": "South Africa",
            "value": 1,
            "week": 8
           },
           {
            "country": "South Africa",
            "value": 0,
            "week": 9
           },
           {
            "country": "South Africa",
            "value": 0,
            "week": 10
           },
           {
            "country": "South Africa",
            "value": 0,
            "week": 11
           },
           {
            "country": "South Africa",
            "value": 0,
            "week": 12
           },
           {
            "country": "South Africa",
            "value": 0,
            "week": 13
           },
           {
            "country": "South Africa",
            "value": 0,
            "week": 14
           },
           {
            "country": "South Africa",
            "value": 1,
            "week": 15
           },
           {
            "country": "South Africa",
            "value": 0,
            "week": 16
           },
           {
            "country": "South Africa",
            "value": 0,
            "week": 17
           },
           {
            "country": "South Africa",
            "value": 1,
            "week": 18
           },
           {
            "country": "South Africa",
            "value": 0,
            "week": 19
           },
           {
            "country": "South Africa",
            "value": 1,
            "week": 20
           },
           {
            "country": "South Africa",
            "value": 1,
            "week": 21
           },
           {
            "country": "South Africa",
            "value": 2,
            "week": 22
           },
           {
            "country": "South Africa",
            "value": 10,
            "week": 23
           },
           {
            "country": "South Africa",
            "value": 16,
            "week": 24
           },
           {
            "country": "South Africa",
            "value": 36,
            "week": 25
           },
           {
            "country": "South Africa",
            "value": 84,
            "week": 26
           },
           {
            "country": "South Africa",
            "value": 85,
            "week": 27
           },
           {
            "country": "South Africa",
            "value": 85,
            "week": 28
           },
           {
            "country": "South Africa",
            "value": 61,
            "week": 29
           },
           {
            "country": "South Africa",
            "value": 121,
            "week": 30
           },
           {
            "country": "South Africa",
            "value": 124,
            "week": 31
           },
           {
            "country": "South Africa",
            "value": 99,
            "week": 32
           },
           {
            "country": "South Africa",
            "value": 122,
            "week": 33
           },
           {
            "country": "South Africa",
            "value": 116,
            "week": 34
           },
           {
            "country": "South Africa",
            "value": 74,
            "week": 35
           },
           {
            "country": "South Africa",
            "value": 78,
            "week": 36
           },
           {
            "country": "South Africa",
            "value": 61,
            "week": 37
           },
           {
            "country": "South Africa",
            "value": 39,
            "week": 38
           },
           {
            "country": "South Africa",
            "value": 24,
            "week": 39
           },
           {
            "country": "South Africa",
            "value": 20,
            "week": 40
           },
           {
            "country": "South Africa",
            "value": 8,
            "week": 41
           },
           {
            "country": "South Africa",
            "value": 14,
            "week": 42
           },
           {
            "country": "South Africa",
            "value": 6,
            "week": 43
           },
           {
            "country": "South Africa",
            "value": 3,
            "week": 44
           },
           {
            "country": "South Africa",
            "value": 11,
            "week": 45
           },
           {
            "country": "South Africa",
            "value": 9,
            "week": 46
           },
           {
            "country": "South Africa",
            "value": 8,
            "week": 47
           },
           {
            "country": "South Africa",
            "value": 3,
            "week": 48
           },
           {
            "country": "South Africa",
            "value": 3,
            "week": 49
           },
           {
            "country": "South Africa",
            "value": 0,
            "week": 50
           },
           {
            "country": "South Africa",
            "value": 3,
            "week": 51
           },
           {
            "country": "South Africa",
            "value": 2,
            "week": 52
           },
           {
            "country": "USA",
            "value": 366,
            "week": 1
           },
           {
            "country": "USA",
            "value": 396,
            "week": 2
           },
           {
            "country": "USA",
            "value": 447,
            "week": 3
           },
           {
            "country": "USA",
            "value": 402,
            "week": 4
           },
           {
            "country": "USA",
            "value": 404,
            "week": 5
           },
           {
            "country": "USA",
            "value": 361,
            "week": 6
           },
           {
            "country": "USA",
            "value": 380,
            "week": 7
           },
           {
            "country": "USA",
            "value": 424,
            "week": 8
           },
           {
            "country": "USA",
            "value": 445,
            "week": 9
           },
           {
            "country": "USA",
            "value": 475,
            "week": 10
           },
           {
            "country": "USA",
            "value": 351,
            "week": 11
           },
           {
            "country": "USA",
            "value": 246,
            "week": 12
           },
           {
            "country": "USA",
            "value": 237,
            "week": 13
           },
           {
            "country": "USA",
            "value": 127,
            "week": 14
           },
           {
            "country": "USA",
            "value": 79,
            "week": 15
           },
           {
            "country": "USA",
            "value": 52,
            "week": 16
           },
           {
            "country": "USA",
            "value": 37,
            "week": 17
           },
           {
            "country": "USA",
            "value": 31,
            "week": 18
           },
           {
            "country": "USA",
            "value": 26,
            "week": 19
           },
           {
            "country": "USA",
            "value": 19,
            "week": 20
           },
           {
            "country": "USA",
            "value": 8,
            "week": 21
           },
           {
            "country": "USA",
            "value": 8,
            "week": 22
           },
           {
            "country": "USA",
            "value": 8,
            "week": 23
           },
           {
            "country": "USA",
            "value": 11,
            "week": 24
           },
           {
            "country": "USA",
            "value": 11,
            "week": 25
           },
           {
            "country": "USA",
            "value": 7,
            "week": 26
           },
           {
            "country": "USA",
            "value": 4,
            "week": 27
           },
           {
            "country": "USA",
            "value": 10,
            "week": 28
           },
           {
            "country": "USA",
            "value": 12,
            "week": 29
           },
           {
            "country": "USA",
            "value": 24,
            "week": 30
           },
           {
            "country": "USA",
            "value": 19,
            "week": 31
           },
           {
            "country": "USA",
            "value": 32,
            "week": 32
           },
           {
            "country": "USA",
            "value": 21,
            "week": 33
           },
           {
            "country": "USA",
            "value": 45,
            "week": 34
           },
           {
            "country": "USA",
            "value": 34,
            "week": 35
           },
           {
            "country": "USA",
            "value": 46,
            "week": 36
           },
           {
            "country": "USA",
            "value": 64,
            "week": 37
           },
           {
            "country": "USA",
            "value": 67,
            "week": 38
           },
           {
            "country": "USA",
            "value": 62,
            "week": 39
           },
           {
            "country": "USA",
            "value": 77,
            "week": 40
           },
           {
            "country": "USA",
            "value": 128,
            "week": 41
           },
           {
            "country": "USA",
            "value": 141,
            "week": 42
           },
           {
            "country": "USA",
            "value": 168,
            "week": 43
           },
           {
            "country": "USA",
            "value": 247,
            "week": 44
           },
           {
            "country": "USA",
            "value": 352,
            "week": 45
           },
           {
            "country": "USA",
            "value": 491,
            "week": 46
           },
           {
            "country": "USA",
            "value": 588,
            "week": 47
           },
           {
            "country": "USA",
            "value": 609,
            "week": 48
           },
           {
            "country": "USA",
            "value": 843,
            "week": 49
           },
           {
            "country": "USA",
            "value": 1438,
            "week": 50
           },
           {
            "country": "USA",
            "value": 1998,
            "week": 51
           },
           {
            "country": "USA",
            "value": 2375,
            "week": 52
           }
          ]
         },
         "encoding": {
          "color": {
           "field": "country",
           "type": "nominal"
          },
          "x": {
           "field": "week",
           "type": "quantitative"
          },
          "y": {
           "field": "value",
           "type": "quantitative"
          }
         },
         "mark": "line",
         "selection": {
          "selector001": {
           "encodings": [
            "x"
           ],
           "mark": {
            "fill": "#333",
            "fillOpacity": 0.125,
            "stroke": "white"
           },
           "on": "[mousedown, window:mouseup] > window:mousemove!",
           "resolve": "global",
           "translate": "[mousedown, window:mouseup] > window:mousemove!",
           "type": "interval",
           "zoom": "wheel!"
          }
         }
        },
        {
         "encoding": {
          "color": {
           "field": "country",
           "type": "nominal"
          },
          "x": {
           "aggregate": "sum",
           "field": "value",
           "type": "quantitative"
          },
          "y": {
           "field": "country",
           "type": "nominal"
          }
         },
         "mark": "bar",
         "transform": [
          {
           "filter": {
            "selection": "selector001"
           }
          }
         ]
        }
       ]
      },
      "image/png": "[encoded data removed]",
      "text/plain": [
       "<VegaLite 2 object>\n",
       "\n",
       "If you see this message, it means the renderer has not been properly enabled\n",
       "for the frontend that you are using. For more information, see\n",
       "https://altair-viz.github.io/user_guide/troubleshooting.html\n"
      ]
     },
     "execution_count": 13,
     "metadata": {},
     "output_type": "execute_result"
    }
   ],
   "source": [
    "brush = alt.selection_interval(encodings=['x'])\n",
    "\n",
    "lines = alt.Chart(norm).mark_line().encode(\n",
    "    x='week', y='value',\n",
    "    color='country'\n",
    ").add_selection(brush)\n",
    "\n",
    "bars = alt.Chart().mark_bar().encode(\n",
    "    y='country', color='country', x='sum(value)'\n",
    ").transform_filter(brush)\n",
    "\n",
    "alt.vconcat(lines, bars, data=norm)"
   ]
  },
  {
   "cell_type": "code",
   "execution_count": 37,
   "metadata": {},
   "outputs": [
    {
     "data": {
      "text/html": [
       "<div>\n",
       "<style scoped>\n",
       "    .dataframe tbody tr th:only-of-type {\n",
       "        vertical-align: middle;\n",
       "    }\n",
       "\n",
       "    .dataframe tbody tr th {\n",
       "        vertical-align: top;\n",
       "    }\n",
       "\n",
       "    .dataframe thead th {\n",
       "        text-align: right;\n",
       "    }\n",
       "</style>\n",
       "<table border=\"1\" class=\"dataframe\">\n",
       "  <thead>\n",
       "    <tr style=\"text-align: right;\">\n",
       "      <th></th>\n",
       "      <th>week</th>\n",
       "      <th>country</th>\n",
       "      <th>value</th>\n",
       "    </tr>\n",
       "  </thead>\n",
       "  <tbody>\n",
       "    <tr>\n",
       "      <th>0</th>\n",
       "      <td>1</td>\n",
       "      <td>Afghanistan</td>\n",
       "      <td>5.0</td>\n",
       "    </tr>\n",
       "    <tr>\n",
       "      <th>1</th>\n",
       "      <td>2</td>\n",
       "      <td>Afghanistan</td>\n",
       "      <td>13.0</td>\n",
       "    </tr>\n",
       "    <tr>\n",
       "      <th>2</th>\n",
       "      <td>3</td>\n",
       "      <td>Afghanistan</td>\n",
       "      <td>4.0</td>\n",
       "    </tr>\n",
       "    <tr>\n",
       "      <th>3</th>\n",
       "      <td>4</td>\n",
       "      <td>Afghanistan</td>\n",
       "      <td>NaN</td>\n",
       "    </tr>\n",
       "    <tr>\n",
       "      <th>4</th>\n",
       "      <td>5</td>\n",
       "      <td>Afghanistan</td>\n",
       "      <td>NaN</td>\n",
       "    </tr>\n",
       "  </tbody>\n",
       "</table>\n",
       "</div>"
      ],
      "text/plain": [
       "   week      country  value\n",
       "0     1  Afghanistan    5.0\n",
       "1     2  Afghanistan   13.0\n",
       "2     3  Afghanistan    4.0\n",
       "3     4  Afghanistan    NaN\n",
       "4     5  Afghanistan    NaN"
      ]
     },
     "execution_count": 37,
     "metadata": {},
     "output_type": "execute_result"
    }
   ],
   "source": [
    "nz = norm.copy()\n",
    "nz['value'] = nz['value'].map(lambda i: i if i else None)\n",
    "nz.head()"
   ]
  },
  {
   "cell_type": "code",
   "execution_count": 45,
   "metadata": {},
   "outputs": [
    {
     "data": {
      "application/vnd.vegalite.v2+json": {
       "$schema": "https://vega.github.io/schema/vega-lite/v2.4.3.json",
       "config": {
        "view": {
         "height": 300,
         "width": 400
        }
       },
       "data": {
        "values": [
         {
          "country": "Afghanistan",
          "value": 5,
          "week": 1
         },
         {
          "country": "Afghanistan",
          "value": 13,
          "week": 2
         },
         {
          "country": "Afghanistan",
          "value": 4,
          "week": 3
         },
         {
          "country": "Afghanistan",
          "value": null,
          "week": 4
         },
         {
          "country": "Afghanistan",
          "value": null,
          "week": 5
         },
         {
          "country": "Afghanistan",
          "value": null,
          "week": 6
         },
         {
          "country": "Afghanistan",
          "value": 1,
          "week": 7
         },
         {
          "country": "Afghanistan",
          "value": 1,
          "week": 8
         },
         {
          "country": "Afghanistan",
          "value": null,
          "week": 9
         },
         {
          "country": "Afghanistan",
          "value": 1,
          "week": 10
         },
         {
          "country": "Afghanistan",
          "value": null,
          "week": 11
         },
         {
          "country": "Afghanistan",
          "value": null,
          "week": 12
         },
         {
          "country": "Afghanistan",
          "value": null,
          "week": 13
         },
         {
          "country": "Afghanistan",
          "value": null,
          "week": 14
         },
         {
          "country": "Afghanistan",
          "value": null,
          "week": 15
         },
         {
          "country": "Afghanistan",
          "value": null,
          "week": 16
         },
         {
          "country": "Afghanistan",
          "value": null,
          "week": 17
         },
         {
          "country": "Afghanistan",
          "value": null,
          "week": 18
         },
         {
          "country": "Afghanistan",
          "value": null,
          "week": 19
         },
         {
          "country": "Afghanistan",
          "value": null,
          "week": 20
         },
         {
          "country": "Afghanistan",
          "value": null,
          "week": 21
         },
         {
          "country": "Afghanistan",
          "value": null,
          "week": 22
         },
         {
          "country": "Afghanistan",
          "value": null,
          "week": 23
         },
         {
          "country": "Afghanistan",
          "value": null,
          "week": 24
         },
         {
          "country": "Afghanistan",
          "value": 1,
          "week": 25
         },
         {
          "country": "Afghanistan",
          "value": null,
          "week": 26
         },
         {
          "country": "Afghanistan",
          "value": null,
          "week": 27
         },
         {
          "country": "Afghanistan",
          "value": null,
          "week": 28
         },
         {
          "country": "Afghanistan",
          "value": null,
          "week": 29
         },
         {
          "country": "Afghanistan",
          "value": null,
          "week": 30
         },
         {
          "country": "Afghanistan",
          "value": null,
          "week": 31
         },
         {
          "country": "Afghanistan",
          "value": null,
          "week": 32
         },
         {
          "country": "Afghanistan",
          "value": null,
          "week": 33
         },
         {
          "country": "Afghanistan",
          "value": null,
          "week": 34
         },
         {
          "country": "Afghanistan",
          "value": null,
          "week": 35
         },
         {
          "country": "Afghanistan",
          "value": null,
          "week": 36
         },
         {
          "country": "Afghanistan",
          "value": null,
          "week": 37
         },
         {
          "country": "Afghanistan",
          "value": null,
          "week": 38
         },
         {
          "country": "Afghanistan",
          "value": null,
          "week": 39
         },
         {
          "country": "Afghanistan",
          "value": null,
          "week": 40
         },
         {
          "country": "Afghanistan",
          "value": null,
          "week": 41
         },
         {
          "country": "Afghanistan",
          "value": null,
          "week": 42
         },
         {
          "country": "Afghanistan",
          "value": null,
          "week": 43
         },
         {
          "country": "Afghanistan",
          "value": null,
          "week": 44
         },
         {
          "country": "Afghanistan",
          "value": null,
          "week": 45
         },
         {
          "country": "Afghanistan",
          "value": null,
          "week": 46
         },
         {
          "country": "Afghanistan",
          "value": null,
          "week": 47
         },
         {
          "country": "Afghanistan",
          "value": null,
          "week": 48
         },
         {
          "country": "Afghanistan",
          "value": null,
          "week": 49
         },
         {
          "country": "Afghanistan",
          "value": null,
          "week": 50
         },
         {
          "country": "Afghanistan",
          "value": null,
          "week": 51
         },
         {
          "country": "Afghanistan",
          "value": null,
          "week": 52
         },
         {
          "country": "Argentina",
          "value": 4,
          "week": 1
         },
         {
          "country": "Argentina",
          "value": 21,
          "week": 2
         },
         {
          "country": "Argentina",
          "value": 6,
          "week": 3
         },
         {
          "country": "Argentina",
          "value": 1,
          "week": 4
         },
         {
          "country": "Argentina",
          "value": 4,
          "week": 5
         },
         {
          "country": "Argentina",
          "value": null,
          "week": 6
         },
         {
          "country": "Argentina",
          "value": 3,
          "week": 7
         },
         {
          "country": "Argentina",
          "value": 1,
          "week": 8
         },
         {
          "country": "Argentina",
          "value": null,
          "week": 9
         },
         {
          "country": "Argentina",
          "value": 3,
          "week": 10
         },
         {
          "country": "Argentina",
          "value": null,
          "week": 11
         },
         {
          "country": "Argentina",
          "value": 9,
          "week": 12
         },
         {
          "country": "Argentina",
          "value": 8,
          "week": 13
         },
         {
          "country": "Argentina",
          "value": 7,
          "week": 14
         },
         {
          "country": "Argentina",
          "value": 9,
          "week": 15
         },
         {
          "country": "Argentina",
          "value": 15,
          "week": 16
         },
         {
          "country": "Argentina",
          "value": 16,
          "week": 17
         },
         {
          "country": "Argentina",
          "value": 18,
          "week": 18
         },
         {
          "country": "Argentina",
          "value": 10,
          "week": 19
         },
         {
          "country": "Argentina",
          "value": 4,
          "week": 20
         },
         {
          "country": "Argentina",
          "value": 5,
          "week": 21
         },
         {
          "country": "Argentina",
          "value": 34,
          "week": 22
         },
         {
          "country": "Argentina",
          "value": 49,
          "week": 23
         },
         {
          "country": "Argentina",
          "value": 50,
          "week": 24
         },
         {
          "country": "Argentina",
          "value": 40,
          "week": 25
         },
         {
          "country": "Argentina",
          "value": 43,
          "week": 26
         },
         {
          "country": "Argentina",
          "value": 40,
          "week": 27
         },
         {
          "country": "Argentina",
          "value": 64,
          "week": 28
         },
         {
          "country": "Argentina",
          "value": 76,
          "week": 29
         },
         {
          "country": "Argentina",
          "value": 75,
          "week": 30
         },
         {
          "country": "Argentina",
          "value": 43,
          "week": 31
         },
         {
          "country": "Argentina",
          "value": 84,
          "week": 32
         },
         {
          "country": "Argentina",
          "value": 71,
          "week": 33
         },
         {
          "country": "Argentina",
          "value": 79,
          "week": 34
         },
         {
          "country": "Argentina",
          "value": 52,
          "week": 35
         },
         {
          "country": "Argentina",
          "value": 40,
          "week": 36
         },
         {
          "country": "Argentina",
          "value": 32,
          "week": 37
         },
         {
          "country": "Argentina",
          "value": 37,
          "week": 38
         },
         {
          "country": "Argentina",
          "value": 64,
          "week": 39
         },
         {
          "country": "Argentina",
          "value": 108,
          "week": 40
         },
         {
          "country": "Argentina",
          "value": 279,
          "week": 41
         },
         {
          "country": "Argentina",
          "value": 280,
          "week": 42
         },
         {
          "country": "Argentina",
          "value": 89,
          "week": 43
         },
         {
          "country": "Argentina",
          "value": 59,
          "week": 44
         },
         {
          "country": "Argentina",
          "value": 25,
          "week": 45
         },
         {
          "country": "Argentina",
          "value": 32,
          "week": 46
         },
         {
          "country": "Argentina",
          "value": 30,
          "week": 47
         },
         {
          "country": "Argentina",
          "value": 39,
          "week": 48
         },
         {
          "country": "Argentina",
          "value": 20,
          "week": 49
         },
         {
          "country": "Argentina",
          "value": 20,
          "week": 50
         },
         {
          "country": "Argentina",
          "value": 16,
          "week": 51
         },
         {
          "country": "Argentina",
          "value": 1,
          "week": 52
         },
         {
          "country": "Australia",
          "value": 2,
          "week": 1
         },
         {
          "country": "Australia",
          "value": 1,
          "week": 2
         },
         {
          "country": "Australia",
          "value": 1,
          "week": 3
         },
         {
          "country": "Australia",
          "value": null,
          "week": 4
         },
         {
          "country": "Australia",
          "value": 1,
          "week": 5
         },
         {
          "country": "Australia",
          "value": 1,
          "week": 6
         },
         {
          "country": "Australia",
          "value": null,
          "week": 7
         },
         {
          "country": "Australia",
          "value": 4,
          "week": 8
         },
         {
          "country": "Australia",
          "value": 3,
          "week": 9
         },
         {
          "country": "Australia",
          "value": 1,
          "week": 10
         },
         {
          "country": "Australia",
          "value": 1,
          "week": 11
         },
         {
          "country": "Australia",
          "value": 2,
          "week": 12
         },
         {
          "country": "Australia",
          "value": null,
          "week": 13
         },
         {
          "country": "Australia",
          "value": null,
          "week": 14
         },
         {
          "country": "Australia",
          "value": 4,
          "week": 15
         },
         {
          "country": "Australia",
          "value": 2,
          "week": 16
         },
         {
          "country": "Australia",
          "value": 6,
          "week": 17
         },
         {
          "country": "Australia",
          "value": 1,
          "week": 18
         },
         {
          "country": "Australia",
          "value": 3,
          "week": 19
         },
         {
          "country": "Australia",
          "value": 4,
          "week": 20
         },
         {
          "country": "Australia",
          "value": 4,
          "week": 21
         },
         {
          "country": "Australia",
          "value": 3,
          "week": 22
         },
         {
          "country": "Australia",
          "value": 1,
          "week": 23
         },
         {
          "country": "Australia",
          "value": 5,
          "week": 24
         },
         {
          "country": "Australia",
          "value": 12,
          "week": 25
         },
         {
          "country": "Australia",
          "value": 18,
          "week": 26
         },
         {
          "country": "Australia",
          "value": 14,
          "week": 27
         },
         {
          "country": "Australia",
          "value": 15,
          "week": 28
         },
         {
          "country": "Australia",
          "value": 15,
          "week": 29
         },
         {
          "country": "Australia",
          "value": 31,
          "week": 30
         },
         {
          "country": "Australia",
          "value": 39,
          "week": 31
         },
         {
          "country": "Australia",
          "value": 44,
          "week": 32
         },
         {
          "country": "Australia",
          "value": 60,
          "week": 33
         },
         {
          "country": "Australia",
          "value": 64,
          "week": 34
         },
         {
          "country": "Australia",
          "value": 78,
          "week": 35
         },
         {
          "country": "Australia",
          "value": 77,
          "week": 36
         },
         {
          "country": "Australia",
          "value": 56,
          "week": 37
         },
         {
          "country": "Australia",
          "value": 105,
          "week": 38
         },
         {
          "country": "Australia",
          "value": 92,
          "week": 39
         },
         {
          "country": "Australia",
          "value": 97,
          "week": 40
         },
         {
          "country": "Australia",
          "value": 52,
          "week": 41
         },
         {
          "country": "Australia",
          "value": 50,
          "week": 42
         },
         {
          "country": "Australia",
          "value": 54,
          "week": 43
         },
         {
          "country": "Australia",
          "value": 47,
          "week": 44
         },
         {
          "country": "Australia",
          "value": 29,
          "week": 45
         },
         {
          "country": "Australia",
          "value": 14,
          "week": 46
         },
         {
          "country": "Australia",
          "value": 23,
          "week": 47
         },
         {
          "country": "Australia",
          "value": 19,
          "week": 48
         },
         {
          "country": "Australia",
          "value": 20,
          "week": 49
         },
         {
          "country": "Australia",
          "value": 23,
          "week": 50
         },
         {
          "country": "Australia",
          "value": 29,
          "week": 51
         },
         {
          "country": "Australia",
          "value": 25,
          "week": 52
         },
         {
          "country": "Canada",
          "value": 41,
          "week": 1
         },
         {
          "country": "Canada",
          "value": 15,
          "week": 2
         },
         {
          "country": "Canada",
          "value": 8,
          "week": 3
         },
         {
          "country": "Canada",
          "value": 14,
          "week": 4
         },
         {
          "country": "Canada",
          "value": 12,
          "week": 5
         },
         {
          "country": "Canada",
          "value": 6,
          "week": 6
         },
         {
          "country": "Canada",
          "value": 6,
          "week": 7
         },
         {
          "country": "Canada",
          "value": 7,
          "week": 8
         },
         {
          "country": "Canada",
          "value": 3,
          "week": 9
         },
         {
          "country": "Canada",
          "value": 7,
          "week": 10
         },
         {
          "country": "Canada",
          "value": 9,
          "week": 11
         },
         {
          "country": "Canada",
          "value": 7,
          "week": 12
         },
         {
          "country": "Canada",
          "value": 6,
          "week": 13
         },
         {
          "country": "Canada",
          "value": 6,
          "week": 14
         },
         {
          "country": "Canada",
          "value": null,
          "week": 15
         },
         {
          "country": "Canada",
          "value": 2,
          "week": 16
         },
         {
          "country": "Canada",
          "value": 4,
          "week": 17
         },
         {
          "country": "Canada",
          "value": 3,
          "week": 18
         },
         {
          "country": "Canada",
          "value": 1,
          "week": 19
         },
         {
          "country": "Canada",
          "value": 4,
          "week": 20
         },
         {
          "country": "Canada",
          "value": 5,
          "week": 21
         },
         {
          "country": "Canada",
          "value": null,
          "week": 22
         },
         {
          "country": "Canada",
          "value": 1,
          "week": 23
         },
         {
          "country": "Canada",
          "value": 1,
          "week": 24
         },
         {
          "country": "Canada",
          "value": null,
          "week": 25
         },
         {
          "country": "Canada",
          "value": 8,
          "week": 26
         },
         {
          "country": "Canada",
          "value": 2,
          "week": 27
         },
         {
          "country": "Canada",
          "value": 6,
          "week": 28
         },
         {
          "country": "Canada",
          "value": null,
          "week": 29
         },
         {
          "country": "Canada",
          "value": 3,
          "week": 30
         },
         {
          "country": "Canada",
          "value": null,
          "week": 31
         },
         {
          "country": "Canada",
          "value": 2,
          "week": 32
         },
         {
          "country": "Canada",
          "value": 1,
          "week": 33
         },
         {
          "country": "Canada",
          "value": 6,
          "week": 34
         },
         {
          "country": "Canada",
          "value": 2,
          "week": 35
         },
         {
          "country": "Canada",
          "value": 1,
          "week": 36
         },
         {
          "country": "Canada",
          "value": 3,
          "week": 37
         },
         {
          "country": "Canada",
          "value": 8,
          "week": 38
         },
         {
          "country": "Canada",
          "value": 12,
          "week": 39
         },
         {
          "country": "Canada",
          "value": 11,
          "week": 40
         },
         {
          "country": "Canada",
          "value": 17,
          "week": 41
         },
         {
          "country": "Canada",
          "value": 17,
          "week": 42
         },
         {
          "country": "Canada",
          "value": 14,
          "week": 43
         },
         {
          "country": "Canada",
          "value": 22,
          "week": 44
         },
         {
          "country": "Canada",
          "value": 42,
          "week": 45
         },
         {
          "country": "Canada",
          "value": 55,
          "week": 46
         },
         {
          "country": "Canada",
          "value": 111,
          "week": 47
         },
         {
          "country": "Canada",
          "value": 225,
          "week": 48
         },
         {
          "country": "Canada",
          "value": 323,
          "week": 49
         },
         {
          "country": "Canada",
          "value": 566,
          "week": 50
         },
         {
          "country": "Canada",
          "value": 987,
          "week": 51
         },
         {
          "country": "Canada",
          "value": 1366,
          "week": 52
         },
         {
          "country": "China",
          "value": 2179,
          "week": 1
         },
         {
          "country": "China",
          "value": 2213,
          "week": 2
         },
         {
          "country": "China",
          "value": 2228,
          "week": 3
         },
         {
          "country": "China",
          "value": 2027,
          "week": 4
         },
         {
          "country": "China",
          "value": 1813,
          "week": 5
         },
         {
          "country": "China",
          "value": 1353,
          "week": 6
         },
         {
          "country": "China",
          "value": 799,
          "week": 7
         },
         {
          "country": "China",
          "value": 1218,
          "week": 8
         },
         {
          "country": "China",
          "value": 1333,
          "week": 9
         },
         {
          "country": "China",
          "value": 1614,
          "week": 10
         },
         {
          "country": "China",
          "value": 1745,
          "week": 11
         },
         {
          "country": "China",
          "value": 1548,
          "week": 12
         },
         {
          "country": "China",
          "value": 1388,
          "week": 13
         },
         {
          "country": "China",
          "value": 843,
          "week": 14
         },
         {
          "country": "China",
          "value": 635,
          "week": 15
         },
         {
          "country": "China",
          "value": 716,
          "week": 16
         },
         {
          "country": "China",
          "value": 602,
          "week": 17
         },
         {
          "country": "China",
          "value": 529,
          "week": 18
         },
         {
          "country": "China",
          "value": 434,
          "week": 19
         },
         {
          "country": "China",
          "value": 368,
          "week": 20
         },
         {
          "country": "China",
          "value": 314,
          "week": 21
         },
         {
          "country": "China",
          "value": 225,
          "week": 22
         },
         {
          "country": "China",
          "value": 238,
          "week": 23
         },
         {
          "country": "China",
          "value": 118,
          "week": 24
         },
         {
          "country": "China",
          "value": 185,
          "week": 25
         },
         {
          "country": "China",
          "value": 202,
          "week": 26
         },
         {
          "country": "China",
          "value": 262,
          "week": 27
         },
         {
          "country": "China",
          "value": 334,
          "week": 28
         },
         {
          "country": "China",
          "value": 432,
          "week": 29
         },
         {
          "country": "China",
          "value": 413,
          "week": 30
         },
         {
          "country": "China",
          "value": 615,
          "week": 31
         },
         {
          "country": "China",
          "value": 776,
          "week": 32
         },
         {
          "country": "China",
          "value": 782,
          "week": 33
         },
         {
          "country": "China",
          "value": 1018,
          "week": 34
         },
         {
          "country": "China",
          "value": 1211,
          "week": 35
         },
         {
          "country": "China",
          "value": 1441,
          "week": 36
         },
         {
          "country": "China",
          "value": 1473,
          "week": 37
         },
         {
          "country": "China",
          "value": 1197,
          "week": 38
         },
         {
          "country": "China",
          "value": 1045,
          "week": 39
         },
         {
          "country": "China",
          "value": 890,
          "week": 40
         },
         {
          "country": "China",
          "value": 685,
          "week": 41
         },
         {
          "country": "China",
          "value": 508,
          "week": 42
         },
         {
          "country": "China",
          "value": 498,
          "week": 43
         },
         {
          "country": "China",
          "value": 400,
          "week": 44
         },
         {
          "country": "China",
          "value": 389,
          "week": 45
         },
         {
          "country": "China",
          "value": 245,
          "week": 46
         },
         {
          "country": "China",
          "value": 397,
          "week": 47
         },
         {
          "country": "China",
          "value": 400,
          "week": 48
         },
         {
          "country": "China",
          "value": 395,
          "week": 49
         },
         {
          "country": "China",
          "value": 359,
          "week": 50
         },
         {
          "country": "China",
          "value": 602,
          "week": 51
         },
         {
          "country": "China",
          "value": 532,
          "week": 52
         },
         {
          "country": "Colombia",
          "value": 36,
          "week": 1
         },
         {
          "country": "Colombia",
          "value": 36,
          "week": 2
         },
         {
          "country": "Colombia",
          "value": 14,
          "week": 3
         },
         {
          "country": "Colombia",
          "value": 11,
          "week": 4
         },
         {
          "country": "Colombia",
          "value": 8,
          "week": 5
         },
         {
          "country": "Colombia",
          "value": 9,
          "week": 6
         },
         {
          "country": "Colombia",
          "value": 7,
          "week": 7
         },
         {
          "country": "Colombia",
          "value": 5,
          "week": 8
         },
         {
          "country": "Colombia",
          "value": 7,
          "week": 9
         },
         {
          "country": "Colombia",
          "value": 5,
          "week": 10
         },
         {
          "country": "Colombia",
          "value": 11,
          "week": 11
         },
         {
          "country": "Colombia",
          "value": 1,
          "week": 12
         },
         {
          "country": "Colombia",
          "value": 4,
          "week": 13
         },
         {
          "country": "Colombia",
          "value": 2,
          "week": 14
         },
         {
          "country": "Colombia",
          "value": 8,
          "week": 15
         },
         {
          "country": "Colombia",
          "value": 16,
          "week": 16
         },
         {
          "country": "Colombia",
          "value": 8,
          "week": 17
         },
         {
          "country": "Colombia",
          "value": 3,
          "week": 18
         },
         {
          "country": "Colombia",
          "value": 8,
          "week": 19
         },
         {
          "country": "Colombia",
          "value": 10,
          "week": 20
         },
         {
          "country": "Colombia",
          "value": 15,
          "week": 21
         },
         {
          "country": "Colombia",
          "value": 42,
          "week": 22
         },
         {
          "country": "Colombia",
          "value": 40,
          "week": 23
         },
         {
          "country": "Colombia",
          "value": 30,
          "week": 24
         },
         {
          "country": "Colombia",
          "value": 40,
          "week": 25
         },
         {
          "country": "Colombia",
          "value": 36,
          "week": 26
         },
         {
          "country": "Colombia",
          "value": 31,
          "week": 27
         },
         {
          "country": "Colombia",
          "value": 33,
          "week": 28
         },
         {
          "country": "Colombia",
          "value": 33,
          "week": 29
         },
         {
          "country": "Colombia",
          "value": 27,
          "week": 30
         },
         {
          "country": "Colombia",
          "value": 29,
          "week": 31
         },
         {
          "country": "Colombia",
          "value": 15,
          "week": 32
         },
         {
          "country": "Colombia",
          "value": 9,
          "week": 33
         },
         {
          "country": "Colombia",
          "value": 19,
          "week": 34
         },
         {
          "country": "Colombia",
          "value": 3,
          "week": 35
         },
         {
          "country": "Colombia",
          "value": 15,
          "week": 36
         },
         {
          "country": "Colombia",
          "value": 18,
          "week": 37
         },
         {
          "country": "Colombia",
          "value": 8,
          "week": 38
         },
         {
          "country": "Colombia",
          "value": 13,
          "week": 39
         },
         {
          "country": "Colombia",
          "value": 7,
          "week": 40
         },
         {
          "country": "Colombia",
          "value": 2,
          "week": 41
         },
         {
          "country": "Colombia",
          "value": 3,
          "week": 42
         },
         {
          "country": "Colombia",
          "value": 1,
          "week": 43
         },
         {
          "country": "Colombia",
          "value": 9,
          "week": 44
         },
         {
          "country": "Colombia",
          "value": 5,
          "week": 45
         },
         {
          "country": "Colombia",
          "value": 15,
          "week": 46
         },
         {
          "country": "Colombia",
          "value": 13,
          "week": 47
         },
         {
          "country": "Colombia",
          "value": 4,
          "week": 48
         },
         {
          "country": "Colombia",
          "value": 17,
          "week": 49
         },
         {
          "country": "Colombia",
          "value": 14,
          "week": 50
         },
         {
          "country": "Colombia",
          "value": 19,
          "week": 51
         },
         {
          "country": "Colombia",
          "value": 12,
          "week": 52
         },
         {
          "country": "Egypt",
          "value": 739,
          "week": 1
         },
         {
          "country": "Egypt",
          "value": 396,
          "week": 2
         },
         {
          "country": "Egypt",
          "value": 192,
          "week": 3
         },
         {
          "country": "Egypt",
          "value": 80,
          "week": 4
         },
         {
          "country": "Egypt",
          "value": 56,
          "week": 5
         },
         {
          "country": "Egypt",
          "value": 47,
          "week": 6
         },
         {
          "country": "Egypt",
          "value": 32,
          "week": 7
         },
         {
          "country": "Egypt",
          "value": 16,
          "week": 8
         },
         {
          "country": "Egypt",
          "value": 8,
          "week": 9
         },
         {
          "country": "Egypt",
          "value": 8,
          "week": 10
         },
         {
          "country": "Egypt",
          "value": 3,
          "week": 11
         },
         {
          "country": "Egypt",
          "value": 5,
          "week": 12
         },
         {
          "country": "Egypt",
          "value": 6,
          "week": 13
         },
         {
          "country": "Egypt",
          "value": 3,
          "week": 14
         },
         {
          "country": "Egypt",
          "value": 2,
          "week": 15
         },
         {
          "country": "Egypt",
          "value": 2,
          "week": 16
         },
         {
          "country": "Egypt",
          "value": 2,
          "week": 17
         },
         {
          "country": "Egypt",
          "value": 9,
          "week": 18
         },
         {
          "country": "Egypt",
          "value": 2,
          "week": 19
         },
         {
          "country": "Egypt",
          "value": 1,
          "week": 20
         },
         {
          "country": "Egypt",
          "value": null,
          "week": 21
         },
         {
          "country": "Egypt",
          "value": 9,
          "week": 22
         },
         {
          "country": "Egypt",
          "value": 8,
          "week": 23
         },
         {
          "country": "Egypt",
          "value": 8,
          "week": 24
         },
         {
          "country": "Egypt",
          "value": 7,
          "week": 25
         },
         {
          "country": "Egypt",
          "value": 6,
          "week": 26
         },
         {
          "country": "Egypt",
          "value": 6,
          "week": 27
         },
         {
          "country": "Egypt",
          "value": 4,
          "week": 28
         },
         {
          "country": "Egypt",
          "value": 14,
          "week": 29
         },
         {
          "country": "Egypt",
          "value": 7,
          "week": 30
         },
         {
          "country": "Egypt",
          "value": 5,
          "week": 31
         },
         {
          "country": "Egypt",
          "value": 2,
          "week": 32
         },
         {
          "country": "Egypt",
          "value": 4,
          "week": 33
         },
         {
          "country": "Egypt",
          "value": 1,
          "week": 34
         },
         {
          "country": "Egypt",
          "value": 6,
          "week": 35
         },
         {
          "country": "Egypt",
          "value": null,
          "week": 36
         },
         {
          "country": "Egypt",
          "value": null,
          "week": 37
         },
         {
          "country": "Egypt",
          "value": null,
          "week": 38
         },
         {
          "country": "Egypt",
          "value": null,
          "week": 39
         },
         {
          "country": "Egypt",
          "value": 3,
          "week": 40
         },
         {
          "country": "Egypt",
          "value": 7,
          "week": 41
         },
         {
          "country": "Egypt",
          "value": 19,
          "week": 42
         },
         {
          "country": "Egypt",
          "value": 14,
          "week": 43
         },
         {
          "country": "Egypt",
          "value": 16,
          "week": 44
         },
         {
          "country": "Egypt",
          "value": 19,
          "week": 45
         },
         {
          "country": "Egypt",
          "value": 20,
          "week": 46
         },
         {
          "country": "Egypt",
          "value": 36,
          "week": 47
         },
         {
          "country": "Egypt",
          "value": 64,
          "week": 48
         },
         {
          "country": "Egypt",
          "value": 88,
          "week": 49
         },
         {
          "country": "Egypt",
          "value": 152,
          "week": 50
         },
         {
          "country": "Egypt",
          "value": 372,
          "week": 51
         },
         {
          "country": "Egypt",
          "value": 522,
          "week": 52
         },
         {
          "country": "Germany",
          "value": 26,
          "week": 1
         },
         {
          "country": "Germany",
          "value": 24,
          "week": 2
         },
         {
          "country": "Germany",
          "value": 18,
          "week": 3
         },
         {
          "country": "Germany",
          "value": null,
          "week": 4
         },
         {
          "country": "Germany",
          "value": null,
          "week": 5
         },
         {
          "country": "Germany",
          "value": null,
          "week": 6
         },
         {
          "country": "Germany",
          "value": null,
          "week": 7
         },
         {
          "country": "Germany",
          "value": null,
          "week": 8
         },
         {
          "country": "Germany",
          "value": 3,
          "week": 9
         },
         {
          "country": "Germany",
          "value": 7,
          "week": 10
         },
         {
          "country": "Germany",
          "value": 2,
          "week": 11
         },
         {
          "country": "Germany",
          "value": 6,
          "week": 12
         },
         {
          "country": "Germany",
          "value": null,
          "week": 13
         },
         {
          "country": "Germany",
          "value": 1,
          "week": 14
         },
         {
          "country": "Germany",
          "value": null,
          "week": 15
         },
         {
          "country": "Germany",
          "value": null,
          "week": 16
         },
         {
          "country": "Germany",
          "value": null,
          "week": 17
         },
         {
          "country": "Germany",
          "value": null,
          "week": 18
         },
         {
          "country": "Germany",
          "value": null,
          "week": 19
         },
         {
          "country": "Germany",
          "value": 1,
          "week": 20
         },
         {
          "country": "Germany",
          "value": null,
          "week": 21
         },
         {
          "country": "Germany",
          "value": null,
          "week": 22
         },
         {
          "country": "Germany",
          "value": 1,
          "week": 23
         },
         {
          "country": "Germany",
          "value": null,
          "week": 24
         },
         {
          "country": "Germany",
          "value": null,
          "week": 25
         },
         {
          "country": "Germany",
          "value": null,
          "week": 26
         },
         {
          "country": "Germany",
          "value": null,
          "week": 27
         },
         {
          "country": "Germany",
          "value": null,
          "week": 28
         },
         {
          "country": "Germany",
          "value": null,
          "week": 29
         },
         {
          "country": "Germany",
          "value": null,
          "week": 30
         },
         {
          "country": "Germany",
          "value": null,
          "week": 31
         },
         {
          "country": "Germany",
          "value": null,
          "week": 32
         },
         {
          "country": "Germany",
          "value": null,
          "week": 33
         },
         {
          "country": "Germany",
          "value": null,
          "week": 34
         },
         {
          "country": "Germany",
          "value": null,
          "week": 35
         },
         {
          "country": "Germany",
          "value": null,
          "week": 36
         },
         {
          "country": "Germany",
          "value": null,
          "week": 37
         },
         {
          "country": "Germany",
          "value": 1,
          "week": 38
         },
         {
          "country": "Germany",
          "value": 1,
          "week": 39
         },
         {
          "country": "Germany",
          "value": null,
          "week": 40
         },
         {
          "country": "Germany",
          "value": 2,
          "week": 41
         },
         {
          "country": "Germany",
          "value": 1,
          "week": 42
         },
         {
          "country": "Germany",
          "value": 2,
          "week": 43
         },
         {
          "country": "Germany",
          "value": null,
          "week": 44
         },
         {
          "country": "Germany",
          "value": 1,
          "week": 45
         },
         {
          "country": "Germany",
          "value": 1,
          "week": 46
         },
         {
          "country": "Germany",
          "value": 3,
          "week": 47
         },
         {
          "country": "Germany",
          "value": 1,
          "week": 48
         },
         {
          "country": "Germany",
          "value": 2,
          "week": 49
         },
         {
          "country": "Germany",
          "value": 23,
          "week": 50
         },
         {
          "country": "Germany",
          "value": 18,
          "week": 51
         },
         {
          "country": "Germany",
          "value": 44,
          "week": 52
         },
         {
          "country": "Ireland",
          "value": 23,
          "week": 1
         },
         {
          "country": "Ireland",
          "value": 8,
          "week": 2
         },
         {
          "country": "Ireland",
          "value": 4,
          "week": 3
         },
         {
          "country": "Ireland",
          "value": 8,
          "week": 4
         },
         {
          "country": "Ireland",
          "value": 4,
          "week": 5
         },
         {
          "country": "Ireland",
          "value": null,
          "week": 6
         },
         {
          "country": "Ireland",
          "value": null,
          "week": 7
         },
         {
          "country": "Ireland",
          "value": 1,
          "week": 8
         },
         {
          "country": "Ireland",
          "value": null,
          "week": 9
         },
         {
          "country": "Ireland",
          "value": null,
          "week": 10
         },
         {
          "country": "Ireland",
          "value": null,
          "week": 11
         },
         {
          "country": "Ireland",
          "value": 1,
          "week": 12
         },
         {
          "country": "Ireland",
          "value": null,
          "week": 13
         },
         {
          "country": "Ireland",
          "value": null,
          "week": 14
         },
         {
          "country": "Ireland",
          "value": null,
          "week": 15
         },
         {
          "country": "Ireland",
          "value": 1,
          "week": 16
         },
         {
          "country": "Ireland",
          "value": null,
          "week": 17
         },
         {
          "country": "Ireland",
          "value": null,
          "week": 18
         },
         {
          "country": "Ireland",
          "value": null,
          "week": 19
         },
         {
          "country": "Ireland",
          "value": 1,
          "week": 20
         },
         {
          "country": "Ireland",
          "value": null,
          "week": 21
         },
         {
          "country": "Ireland",
          "value": null,
          "week": 22
         },
         {
          "country": "Ireland",
          "value": null,
          "week": 23
         },
         {
          "country": "Ireland",
          "value": null,
          "week": 24
         },
         {
          "country": "Ireland",
          "value": null,
          "week": 25
         },
         {
          "country": "Ireland",
          "value": null,
          "week": 26
         },
         {
          "country": "Ireland",
          "value": null,
          "week": 27
         },
         {
          "country": "Ireland",
          "value": null,
          "week": 28
         },
         {
          "country": "Ireland",
          "value": null,
          "week": 29
         },
         {
          "country": "Ireland",
          "value": null,
          "week": 30
         },
         {
          "country": "Ireland",
          "value": null,
          "week": 31
         },
         {
          "country": "Ireland",
          "value": null,
          "week": 32
         },
         {
          "country": "Ireland",
          "value": null,
          "week": 33
         },
         {
          "country": "Ireland",
          "value": null,
          "week": 34
         },
         {
          "country": "Ireland",
          "value": null,
          "week": 35
         },
         {
          "country": "Ireland",
          "value": null,
          "week": 36
         },
         {
          "country": "Ireland",
          "value": null,
          "week": 37
         },
         {
          "country": "Ireland",
          "value": null,
          "week": 38
         },
         {
          "country": "Ireland",
          "value": null,
          "week": 39
         },
         {
          "country": "Ireland",
          "value": null,
          "week": 40
         },
         {
          "country": "Ireland",
          "value": 2,
          "week": 41
         },
         {
          "country": "Ireland",
          "value": 1,
          "week": 42
         },
         {
          "country": "Ireland",
          "value": null,
          "week": 43
         },
         {
          "country": "Ireland",
          "value": null,
          "week": 44
         },
         {
          "country": "Ireland",
          "value": null,
          "week": 45
         },
         {
          "country": "Ireland",
          "value": null,
          "week": 46
         },
         {
          "country": "Ireland",
          "value": 1,
          "week": 47
         },
         {
          "country": "Ireland",
          "value": 1,
          "week": 48
         },
         {
          "country": "Ireland",
          "value": 13,
          "week": 49
         },
         {
          "country": "Ireland",
          "value": 48,
          "week": 50
         },
         {
          "country": "Ireland",
          "value": 161,
          "week": 51
         },
         {
          "country": "Ireland",
          "value": 383,
          "week": 52
         },
         {
          "country": "South Africa",
          "value": null,
          "week": 1
         },
         {
          "country": "South Africa",
          "value": 1,
          "week": 2
         },
         {
          "country": "South Africa",
          "value": null,
          "week": 3
         },
         {
          "country": "South Africa",
          "value": null,
          "week": 4
         },
         {
          "country": "South Africa",
          "value": null,
          "week": 5
         },
         {
          "country": "South Africa",
          "value": null,
          "week": 6
         },
         {
          "country": "South Africa",
          "value": null,
          "week": 7
         },
         {
          "country": "South Africa",
          "value": 1,
          "week": 8
         },
         {
          "country": "South Africa",
          "value": null,
          "week": 9
         },
         {
          "country": "South Africa",
          "value": null,
          "week": 10
         },
         {
          "country": "South Africa",
          "value": null,
          "week": 11
         },
         {
          "country": "South Africa",
          "value": null,
          "week": 12
         },
         {
          "country": "South Africa",
          "value": null,
          "week": 13
         },
         {
          "country": "South Africa",
          "value": null,
          "week": 14
         },
         {
          "country": "South Africa",
          "value": 1,
          "week": 15
         },
         {
          "country": "South Africa",
          "value": null,
          "week": 16
         },
         {
          "country": "South Africa",
          "value": null,
          "week": 17
         },
         {
          "country": "South Africa",
          "value": 1,
          "week": 18
         },
         {
          "country": "South Africa",
          "value": null,
          "week": 19
         },
         {
          "country": "South Africa",
          "value": 1,
          "week": 20
         },
         {
          "country": "South Africa",
          "value": 1,
          "week": 21
         },
         {
          "country": "South Africa",
          "value": 2,
          "week": 22
         },
         {
          "country": "South Africa",
          "value": 10,
          "week": 23
         },
         {
          "country": "South Africa",
          "value": 16,
          "week": 24
         },
         {
          "country": "South Africa",
          "value": 36,
          "week": 25
         },
         {
          "country": "South Africa",
          "value": 84,
          "week": 26
         },
         {
          "country": "South Africa",
          "value": 85,
          "week": 27
         },
         {
          "country": "South Africa",
          "value": 85,
          "week": 28
         },
         {
          "country": "South Africa",
          "value": 61,
          "week": 29
         },
         {
          "country": "South Africa",
          "value": 121,
          "week": 30
         },
         {
          "country": "South Africa",
          "value": 124,
          "week": 31
         },
         {
          "country": "South Africa",
          "value": 99,
          "week": 32
         },
         {
          "country": "South Africa",
          "value": 122,
          "week": 33
         },
         {
          "country": "South Africa",
          "value": 116,
          "week": 34
         },
         {
          "country": "South Africa",
          "value": 74,
          "week": 35
         },
         {
          "country": "South Africa",
          "value": 78,
          "week": 36
         },
         {
          "country": "South Africa",
          "value": 61,
          "week": 37
         },
         {
          "country": "South Africa",
          "value": 39,
          "week": 38
         },
         {
          "country": "South Africa",
          "value": 24,
          "week": 39
         },
         {
          "country": "South Africa",
          "value": 20,
          "week": 40
         },
         {
          "country": "South Africa",
          "value": 8,
          "week": 41
         },
         {
          "country": "South Africa",
          "value": 14,
          "week": 42
         },
         {
          "country": "South Africa",
          "value": 6,
          "week": 43
         },
         {
          "country": "South Africa",
          "value": 3,
          "week": 44
         },
         {
          "country": "South Africa",
          "value": 11,
          "week": 45
         },
         {
          "country": "South Africa",
          "value": 9,
          "week": 46
         },
         {
          "country": "South Africa",
          "value": 8,
          "week": 47
         },
         {
          "country": "South Africa",
          "value": 3,
          "week": 48
         },
         {
          "country": "South Africa",
          "value": 3,
          "week": 49
         },
         {
          "country": "South Africa",
          "value": null,
          "week": 50
         },
         {
          "country": "South Africa",
          "value": 3,
          "week": 51
         },
         {
          "country": "South Africa",
          "value": 2,
          "week": 52
         },
         {
          "country": "USA",
          "value": 366,
          "week": 1
         },
         {
          "country": "USA",
          "value": 396,
          "week": 2
         },
         {
          "country": "USA",
          "value": 447,
          "week": 3
         },
         {
          "country": "USA",
          "value": 402,
          "week": 4
         },
         {
          "country": "USA",
          "value": 404,
          "week": 5
         },
         {
          "country": "USA",
          "value": 361,
          "week": 6
         },
         {
          "country": "USA",
          "value": 380,
          "week": 7
         },
         {
          "country": "USA",
          "value": 424,
          "week": 8
         },
         {
          "country": "USA",
          "value": 445,
          "week": 9
         },
         {
          "country": "USA",
          "value": 475,
          "week": 10
         },
         {
          "country": "USA",
          "value": 351,
          "week": 11
         },
         {
          "country": "USA",
          "value": 246,
          "week": 12
         },
         {
          "country": "USA",
          "value": 237,
          "week": 13
         },
         {
          "country": "USA",
          "value": 127,
          "week": 14
         },
         {
          "country": "USA",
          "value": 79,
          "week": 15
         },
         {
          "country": "USA",
          "value": 52,
          "week": 16
         },
         {
          "country": "USA",
          "value": 37,
          "week": 17
         },
         {
          "country": "USA",
          "value": 31,
          "week": 18
         },
         {
          "country": "USA",
          "value": 26,
          "week": 19
         },
         {
          "country": "USA",
          "value": 19,
          "week": 20
         },
         {
          "country": "USA",
          "value": 8,
          "week": 21
         },
         {
          "country": "USA",
          "value": 8,
          "week": 22
         },
         {
          "country": "USA",
          "value": 8,
          "week": 23
         },
         {
          "country": "USA",
          "value": 11,
          "week": 24
         },
         {
          "country": "USA",
          "value": 11,
          "week": 25
         },
         {
          "country": "USA",
          "value": 7,
          "week": 26
         },
         {
          "country": "USA",
          "value": 4,
          "week": 27
         },
         {
          "country": "USA",
          "value": 10,
          "week": 28
         },
         {
          "country": "USA",
          "value": 12,
          "week": 29
         },
         {
          "country": "USA",
          "value": 24,
          "week": 30
         },
         {
          "country": "USA",
          "value": 19,
          "week": 31
         },
         {
          "country": "USA",
          "value": 32,
          "week": 32
         },
         {
          "country": "USA",
          "value": 21,
          "week": 33
         },
         {
          "country": "USA",
          "value": 45,
          "week": 34
         },
         {
          "country": "USA",
          "value": 34,
          "week": 35
         },
         {
          "country": "USA",
          "value": 46,
          "week": 36
         },
         {
          "country": "USA",
          "value": 64,
          "week": 37
         },
         {
          "country": "USA",
          "value": 67,
          "week": 38
         },
         {
          "country": "USA",
          "value": 62,
          "week": 39
         },
         {
          "country": "USA",
          "value": 77,
          "week": 40
         },
         {
          "country": "USA",
          "value": 128,
          "week": 41
         },
         {
          "country": "USA",
          "value": 141,
          "week": 42
         },
         {
          "country": "USA",
          "value": 168,
          "week": 43
         },
         {
          "country": "USA",
          "value": 247,
          "week": 44
         },
         {
          "country": "USA",
          "value": 352,
          "week": 45
         },
         {
          "country": "USA",
          "value": 491,
          "week": 46
         },
         {
          "country": "USA",
          "value": 588,
          "week": 47
         },
         {
          "country": "USA",
          "value": 609,
          "week": 48
         },
         {
          "country": "USA",
          "value": 843,
          "week": 49
         },
         {
          "country": "USA",
          "value": 1438,
          "week": 50
         },
         {
          "country": "USA",
          "value": 1998,
          "week": 51
         },
         {
          "country": "USA",
          "value": 2375,
          "week": 52
         }
        ]
       },
       "vconcat": [
        {
         "data": {
          "values": [
           {
            "country": "Afghanistan",
            "value": 5,
            "week": 1
           },
           {
            "country": "Afghanistan",
            "value": 13,
            "week": 2
           },
           {
            "country": "Afghanistan",
            "value": 4,
            "week": 3
           },
           {
            "country": "Afghanistan",
            "value": null,
            "week": 4
           },
           {
            "country": "Afghanistan",
            "value": null,
            "week": 5
           },
           {
            "country": "Afghanistan",
            "value": null,
            "week": 6
           },
           {
            "country": "Afghanistan",
            "value": 1,
            "week": 7
           },
           {
            "country": "Afghanistan",
            "value": 1,
            "week": 8
           },
           {
            "country": "Afghanistan",
            "value": null,
            "week": 9
           },
           {
            "country": "Afghanistan",
            "value": 1,
            "week": 10
           },
           {
            "country": "Afghanistan",
            "value": null,
            "week": 11
           },
           {
            "country": "Afghanistan",
            "value": null,
            "week": 12
           },
           {
            "country": "Afghanistan",
            "value": null,
            "week": 13
           },
           {
            "country": "Afghanistan",
            "value": null,
            "week": 14
           },
           {
            "country": "Afghanistan",
            "value": null,
            "week": 15
           },
           {
            "country": "Afghanistan",
            "value": null,
            "week": 16
           },
           {
            "country": "Afghanistan",
            "value": null,
            "week": 17
           },
           {
            "country": "Afghanistan",
            "value": null,
            "week": 18
           },
           {
            "country": "Afghanistan",
            "value": null,
            "week": 19
           },
           {
            "country": "Afghanistan",
            "value": null,
            "week": 20
           },
           {
            "country": "Afghanistan",
            "value": null,
            "week": 21
           },
           {
            "country": "Afghanistan",
            "value": null,
            "week": 22
           },
           {
            "country": "Afghanistan",
            "value": null,
            "week": 23
           },
           {
            "country": "Afghanistan",
            "value": null,
            "week": 24
           },
           {
            "country": "Afghanistan",
            "value": 1,
            "week": 25
           },
           {
            "country": "Afghanistan",
            "value": null,
            "week": 26
           },
           {
            "country": "Afghanistan",
            "value": null,
            "week": 27
           },
           {
            "country": "Afghanistan",
            "value": null,
            "week": 28
           },
           {
            "country": "Afghanistan",
            "value": null,
            "week": 29
           },
           {
            "country": "Afghanistan",
            "value": null,
            "week": 30
           },
           {
            "country": "Afghanistan",
            "value": null,
            "week": 31
           },
           {
            "country": "Afghanistan",
            "value": null,
            "week": 32
           },
           {
            "country": "Afghanistan",
            "value": null,
            "week": 33
           },
           {
            "country": "Afghanistan",
            "value": null,
            "week": 34
           },
           {
            "country": "Afghanistan",
            "value": null,
            "week": 35
           },
           {
            "country": "Afghanistan",
            "value": null,
            "week": 36
           },
           {
            "country": "Afghanistan",
            "value": null,
            "week": 37
           },
           {
            "country": "Afghanistan",
            "value": null,
            "week": 38
           },
           {
            "country": "Afghanistan",
            "value": null,
            "week": 39
           },
           {
            "country": "Afghanistan",
            "value": null,
            "week": 40
           },
           {
            "country": "Afghanistan",
            "value": null,
            "week": 41
           },
           {
            "country": "Afghanistan",
            "value": null,
            "week": 42
           },
           {
            "country": "Afghanistan",
            "value": null,
            "week": 43
           },
           {
            "country": "Afghanistan",
            "value": null,
            "week": 44
           },
           {
            "country": "Afghanistan",
            "value": null,
            "week": 45
           },
           {
            "country": "Afghanistan",
            "value": null,
            "week": 46
           },
           {
            "country": "Afghanistan",
            "value": null,
            "week": 47
           },
           {
            "country": "Afghanistan",
            "value": null,
            "week": 48
           },
           {
            "country": "Afghanistan",
            "value": null,
            "week": 49
           },
           {
            "country": "Afghanistan",
            "value": null,
            "week": 50
           },
           {
            "country": "Afghanistan",
            "value": null,
            "week": 51
           },
           {
            "country": "Afghanistan",
            "value": null,
            "week": 52
           },
           {
            "country": "Argentina",
            "value": 4,
            "week": 1
           },
           {
            "country": "Argentina",
            "value": 21,
            "week": 2
           },
           {
            "country": "Argentina",
            "value": 6,
            "week": 3
           },
           {
            "country": "Argentina",
            "value": 1,
            "week": 4
           },
           {
            "country": "Argentina",
            "value": 4,
            "week": 5
           },
           {
            "country": "Argentina",
            "value": null,
            "week": 6
           },
           {
            "country": "Argentina",
            "value": 3,
            "week": 7
           },
           {
            "country": "Argentina",
            "value": 1,
            "week": 8
           },
           {
            "country": "Argentina",
            "value": null,
            "week": 9
           },
           {
            "country": "Argentina",
            "value": 3,
            "week": 10
           },
           {
            "country": "Argentina",
            "value": null,
            "week": 11
           },
           {
            "country": "Argentina",
            "value": 9,
            "week": 12
           },
           {
            "country": "Argentina",
            "value": 8,
            "week": 13
           },
           {
            "country": "Argentina",
            "value": 7,
            "week": 14
           },
           {
            "country": "Argentina",
            "value": 9,
            "week": 15
           },
           {
            "country": "Argentina",
            "value": 15,
            "week": 16
           },
           {
            "country": "Argentina",
            "value": 16,
            "week": 17
           },
           {
            "country": "Argentina",
            "value": 18,
            "week": 18
           },
           {
            "country": "Argentina",
            "value": 10,
            "week": 19
           },
           {
            "country": "Argentina",
            "value": 4,
            "week": 20
           },
           {
            "country": "Argentina",
            "value": 5,
            "week": 21
           },
           {
            "country": "Argentina",
            "value": 34,
            "week": 22
           },
           {
            "country": "Argentina",
            "value": 49,
            "week": 23
           },
           {
            "country": "Argentina",
            "value": 50,
            "week": 24
           },
           {
            "country": "Argentina",
            "value": 40,
            "week": 25
           },
           {
            "country": "Argentina",
            "value": 43,
            "week": 26
           },
           {
            "country": "Argentina",
            "value": 40,
            "week": 27
           },
           {
            "country": "Argentina",
            "value": 64,
            "week": 28
           },
           {
            "country": "Argentina",
            "value": 76,
            "week": 29
           },
           {
            "country": "Argentina",
            "value": 75,
            "week": 30
           },
           {
            "country": "Argentina",
            "value": 43,
            "week": 31
           },
           {
            "country": "Argentina",
            "value": 84,
            "week": 32
           },
           {
            "country": "Argentina",
            "value": 71,
            "week": 33
           },
           {
            "country": "Argentina",
            "value": 79,
            "week": 34
           },
           {
            "country": "Argentina",
            "value": 52,
            "week": 35
           },
           {
            "country": "Argentina",
            "value": 40,
            "week": 36
           },
           {
            "country": "Argentina",
            "value": 32,
            "week": 37
           },
           {
            "country": "Argentina",
            "value": 37,
            "week": 38
           },
           {
            "country": "Argentina",
            "value": 64,
            "week": 39
           },
           {
            "country": "Argentina",
            "value": 108,
            "week": 40
           },
           {
            "country": "Argentina",
            "value": 279,
            "week": 41
           },
           {
            "country": "Argentina",
            "value": 280,
            "week": 42
           },
           {
            "country": "Argentina",
            "value": 89,
            "week": 43
           },
           {
            "country": "Argentina",
            "value": 59,
            "week": 44
           },
           {
            "country": "Argentina",
            "value": 25,
            "week": 45
           },
           {
            "country": "Argentina",
            "value": 32,
            "week": 46
           },
           {
            "country": "Argentina",
            "value": 30,
            "week": 47
           },
           {
            "country": "Argentina",
            "value": 39,
            "week": 48
           },
           {
            "country": "Argentina",
            "value": 20,
            "week": 49
           },
           {
            "country": "Argentina",
            "value": 20,
            "week": 50
           },
           {
            "country": "Argentina",
            "value": 16,
            "week": 51
           },
           {
            "country": "Argentina",
            "value": 1,
            "week": 52
           },
           {
            "country": "Australia",
            "value": 2,
            "week": 1
           },
           {
            "country": "Australia",
            "value": 1,
            "week": 2
           },
           {
            "country": "Australia",
            "value": 1,
            "week": 3
           },
           {
            "country": "Australia",
            "value": null,
            "week": 4
           },
           {
            "country": "Australia",
            "value": 1,
            "week": 5
           },
           {
            "country": "Australia",
            "value": 1,
            "week": 6
           },
           {
            "country": "Australia",
            "value": null,
            "week": 7
           },
           {
            "country": "Australia",
            "value": 4,
            "week": 8
           },
           {
            "country": "Australia",
            "value": 3,
            "week": 9
           },
           {
            "country": "Australia",
            "value": 1,
            "week": 10
           },
           {
            "country": "Australia",
            "value": 1,
            "week": 11
           },
           {
            "country": "Australia",
            "value": 2,
            "week": 12
           },
           {
            "country": "Australia",
            "value": null,
            "week": 13
           },
           {
            "country": "Australia",
            "value": null,
            "week": 14
           },
           {
            "country": "Australia",
            "value": 4,
            "week": 15
           },
           {
            "country": "Australia",
            "value": 2,
            "week": 16
           },
           {
            "country": "Australia",
            "value": 6,
            "week": 17
           },
           {
            "country": "Australia",
            "value": 1,
            "week": 18
           },
           {
            "country": "Australia",
            "value": 3,
            "week": 19
           },
           {
            "country": "Australia",
            "value": 4,
            "week": 20
           },
           {
            "country": "Australia",
            "value": 4,
            "week": 21
           },
           {
            "country": "Australia",
            "value": 3,
            "week": 22
           },
           {
            "country": "Australia",
            "value": 1,
            "week": 23
           },
           {
            "country": "Australia",
            "value": 5,
            "week": 24
           },
           {
            "country": "Australia",
            "value": 12,
            "week": 25
           },
           {
            "country": "Australia",
            "value": 18,
            "week": 26
           },
           {
            "country": "Australia",
            "value": 14,
            "week": 27
           },
           {
            "country": "Australia",
            "value": 15,
            "week": 28
           },
           {
            "country": "Australia",
            "value": 15,
            "week": 29
           },
           {
            "country": "Australia",
            "value": 31,
            "week": 30
           },
           {
            "country": "Australia",
            "value": 39,
            "week": 31
           },
           {
            "country": "Australia",
            "value": 44,
            "week": 32
           },
           {
            "country": "Australia",
            "value": 60,
            "week": 33
           },
           {
            "country": "Australia",
            "value": 64,
            "week": 34
           },
           {
            "country": "Australia",
            "value": 78,
            "week": 35
           },
           {
            "country": "Australia",
            "value": 77,
            "week": 36
           },
           {
            "country": "Australia",
            "value": 56,
            "week": 37
           },
           {
            "country": "Australia",
            "value": 105,
            "week": 38
           },
           {
            "country": "Australia",
            "value": 92,
            "week": 39
           },
           {
            "country": "Australia",
            "value": 97,
            "week": 40
           },
           {
            "country": "Australia",
            "value": 52,
            "week": 41
           },
           {
            "country": "Australia",
            "value": 50,
            "week": 42
           },
           {
            "country": "Australia",
            "value": 54,
            "week": 43
           },
           {
            "country": "Australia",
            "value": 47,
            "week": 44
           },
           {
            "country": "Australia",
            "value": 29,
            "week": 45
           },
           {
            "country": "Australia",
            "value": 14,
            "week": 46
           },
           {
            "country": "Australia",
            "value": 23,
            "week": 47
           },
           {
            "country": "Australia",
            "value": 19,
            "week": 48
           },
           {
            "country": "Australia",
            "value": 20,
            "week": 49
           },
           {
            "country": "Australia",
            "value": 23,
            "week": 50
           },
           {
            "country": "Australia",
            "value": 29,
            "week": 51
           },
           {
            "country": "Australia",
            "value": 25,
            "week": 52
           },
           {
            "country": "Canada",
            "value": 41,
            "week": 1
           },
           {
            "country": "Canada",
            "value": 15,
            "week": 2
           },
           {
            "country": "Canada",
            "value": 8,
            "week": 3
           },
           {
            "country": "Canada",
            "value": 14,
            "week": 4
           },
           {
            "country": "Canada",
            "value": 12,
            "week": 5
           },
           {
            "country": "Canada",
            "value": 6,
            "week": 6
           },
           {
            "country": "Canada",
            "value": 6,
            "week": 7
           },
           {
            "country": "Canada",
            "value": 7,
            "week": 8
           },
           {
            "country": "Canada",
            "value": 3,
            "week": 9
           },
           {
            "country": "Canada",
            "value": 7,
            "week": 10
           },
           {
            "country": "Canada",
            "value": 9,
            "week": 11
           },
           {
            "country": "Canada",
            "value": 7,
            "week": 12
           },
           {
            "country": "Canada",
            "value": 6,
            "week": 13
           },
           {
            "country": "Canada",
            "value": 6,
            "week": 14
           },
           {
            "country": "Canada",
            "value": null,
            "week": 15
           },
           {
            "country": "Canada",
            "value": 2,
            "week": 16
           },
           {
            "country": "Canada",
            "value": 4,
            "week": 17
           },
           {
            "country": "Canada",
            "value": 3,
            "week": 18
           },
           {
            "country": "Canada",
            "value": 1,
            "week": 19
           },
           {
            "country": "Canada",
            "value": 4,
            "week": 20
           },
           {
            "country": "Canada",
            "value": 5,
            "week": 21
           },
           {
            "country": "Canada",
            "value": null,
            "week": 22
           },
           {
            "country": "Canada",
            "value": 1,
            "week": 23
           },
           {
            "country": "Canada",
            "value": 1,
            "week": 24
           },
           {
            "country": "Canada",
            "value": null,
            "week": 25
           },
           {
            "country": "Canada",
            "value": 8,
            "week": 26
           },
           {
            "country": "Canada",
            "value": 2,
            "week": 27
           },
           {
            "country": "Canada",
            "value": 6,
            "week": 28
           },
           {
            "country": "Canada",
            "value": null,
            "week": 29
           },
           {
            "country": "Canada",
            "value": 3,
            "week": 30
           },
           {
            "country": "Canada",
            "value": null,
            "week": 31
           },
           {
            "country": "Canada",
            "value": 2,
            "week": 32
           },
           {
            "country": "Canada",
            "value": 1,
            "week": 33
           },
           {
            "country": "Canada",
            "value": 6,
            "week": 34
           },
           {
            "country": "Canada",
            "value": 2,
            "week": 35
           },
           {
            "country": "Canada",
            "value": 1,
            "week": 36
           },
           {
            "country": "Canada",
            "value": 3,
            "week": 37
           },
           {
            "country": "Canada",
            "value": 8,
            "week": 38
           },
           {
            "country": "Canada",
            "value": 12,
            "week": 39
           },
           {
            "country": "Canada",
            "value": 11,
            "week": 40
           },
           {
            "country": "Canada",
            "value": 17,
            "week": 41
           },
           {
            "country": "Canada",
            "value": 17,
            "week": 42
           },
           {
            "country": "Canada",
            "value": 14,
            "week": 43
           },
           {
            "country": "Canada",
            "value": 22,
            "week": 44
           },
           {
            "country": "Canada",
            "value": 42,
            "week": 45
           },
           {
            "country": "Canada",
            "value": 55,
            "week": 46
           },
           {
            "country": "Canada",
            "value": 111,
            "week": 47
           },
           {
            "country": "Canada",
            "value": 225,
            "week": 48
           },
           {
            "country": "Canada",
            "value": 323,
            "week": 49
           },
           {
            "country": "Canada",
            "value": 566,
            "week": 50
           },
           {
            "country": "Canada",
            "value": 987,
            "week": 51
           },
           {
            "country": "Canada",
            "value": 1366,
            "week": 52
           },
           {
            "country": "China",
            "value": 2179,
            "week": 1
           },
           {
            "country": "China",
            "value": 2213,
            "week": 2
           },
           {
            "country": "China",
            "value": 2228,
            "week": 3
           },
           {
            "country": "China",
            "value": 2027,
            "week": 4
           },
           {
            "country": "China",
            "value": 1813,
            "week": 5
           },
           {
            "country": "China",
            "value": 1353,
            "week": 6
           },
           {
            "country": "China",
            "value": 799,
            "week": 7
           },
           {
            "country": "China",
            "value": 1218,
            "week": 8
           },
           {
            "country": "China",
            "value": 1333,
            "week": 9
           },
           {
            "country": "China",
            "value": 1614,
            "week": 10
           },
           {
            "country": "China",
            "value": 1745,
            "week": 11
           },
           {
            "country": "China",
            "value": 1548,
            "week": 12
           },
           {
            "country": "China",
            "value": 1388,
            "week": 13
           },
           {
            "country": "China",
            "value": 843,
            "week": 14
           },
           {
            "country": "China",
            "value": 635,
            "week": 15
           },
           {
            "country": "China",
            "value": 716,
            "week": 16
           },
           {
            "country": "China",
            "value": 602,
            "week": 17
           },
           {
            "country": "China",
            "value": 529,
            "week": 18
           },
           {
            "country": "China",
            "value": 434,
            "week": 19
           },
           {
            "country": "China",
            "value": 368,
            "week": 20
           },
           {
            "country": "China",
            "value": 314,
            "week": 21
           },
           {
            "country": "China",
            "value": 225,
            "week": 22
           },
           {
            "country": "China",
            "value": 238,
            "week": 23
           },
           {
            "country": "China",
            "value": 118,
            "week": 24
           },
           {
            "country": "China",
            "value": 185,
            "week": 25
           },
           {
            "country": "China",
            "value": 202,
            "week": 26
           },
           {
            "country": "China",
            "value": 262,
            "week": 27
           },
           {
            "country": "China",
            "value": 334,
            "week": 28
           },
           {
            "country": "China",
            "value": 432,
            "week": 29
           },
           {
            "country": "China",
            "value": 413,
            "week": 30
           },
           {
            "country": "China",
            "value": 615,
            "week": 31
           },
           {
            "country": "China",
            "value": 776,
            "week": 32
           },
           {
            "country": "China",
            "value": 782,
            "week": 33
           },
           {
            "country": "China",
            "value": 1018,
            "week": 34
           },
           {
            "country": "China",
            "value": 1211,
            "week": 35
           },
           {
            "country": "China",
            "value": 1441,
            "week": 36
           },
           {
            "country": "China",
            "value": 1473,
            "week": 37
           },
           {
            "country": "China",
            "value": 1197,
            "week": 38
           },
           {
            "country": "China",
            "value": 1045,
            "week": 39
           },
           {
            "country": "China",
            "value": 890,
            "week": 40
           },
           {
            "country": "China",
            "value": 685,
            "week": 41
           },
           {
            "country": "China",
            "value": 508,
            "week": 42
           },
           {
            "country": "China",
            "value": 498,
            "week": 43
           },
           {
            "country": "China",
            "value": 400,
            "week": 44
           },
           {
            "country": "China",
            "value": 389,
            "week": 45
           },
           {
            "country": "China",
            "value": 245,
            "week": 46
           },
           {
            "country": "China",
            "value": 397,
            "week": 47
           },
           {
            "country": "China",
            "value": 400,
            "week": 48
           },
           {
            "country": "China",
            "value": 395,
            "week": 49
           },
           {
            "country": "China",
            "value": 359,
            "week": 50
           },
           {
            "country": "China",
            "value": 602,
            "week": 51
           },
           {
            "country": "China",
            "value": 532,
            "week": 52
           },
           {
            "country": "Colombia",
            "value": 36,
            "week": 1
           },
           {
            "country": "Colombia",
            "value": 36,
            "week": 2
           },
           {
            "country": "Colombia",
            "value": 14,
            "week": 3
           },
           {
            "country": "Colombia",
            "value": 11,
            "week": 4
           },
           {
            "country": "Colombia",
            "value": 8,
            "week": 5
           },
           {
            "country": "Colombia",
            "value": 9,
            "week": 6
           },
           {
            "country": "Colombia",
            "value": 7,
            "week": 7
           },
           {
            "country": "Colombia",
            "value": 5,
            "week": 8
           },
           {
            "country": "Colombia",
            "value": 7,
            "week": 9
           },
           {
            "country": "Colombia",
            "value": 5,
            "week": 10
           },
           {
            "country": "Colombia",
            "value": 11,
            "week": 11
           },
           {
            "country": "Colombia",
            "value": 1,
            "week": 12
           },
           {
            "country": "Colombia",
            "value": 4,
            "week": 13
           },
           {
            "country": "Colombia",
            "value": 2,
            "week": 14
           },
           {
            "country": "Colombia",
            "value": 8,
            "week": 15
           },
           {
            "country": "Colombia",
            "value": 16,
            "week": 16
           },
           {
            "country": "Colombia",
            "value": 8,
            "week": 17
           },
           {
            "country": "Colombia",
            "value": 3,
            "week": 18
           },
           {
            "country": "Colombia",
            "value": 8,
            "week": 19
           },
           {
            "country": "Colombia",
            "value": 10,
            "week": 20
           },
           {
            "country": "Colombia",
            "value": 15,
            "week": 21
           },
           {
            "country": "Colombia",
            "value": 42,
            "week": 22
           },
           {
            "country": "Colombia",
            "value": 40,
            "week": 23
           },
           {
            "country": "Colombia",
            "value": 30,
            "week": 24
           },
           {
            "country": "Colombia",
            "value": 40,
            "week": 25
           },
           {
            "country": "Colombia",
            "value": 36,
            "week": 26
           },
           {
            "country": "Colombia",
            "value": 31,
            "week": 27
           },
           {
            "country": "Colombia",
            "value": 33,
            "week": 28
           },
           {
            "country": "Colombia",
            "value": 33,
            "week": 29
           },
           {
            "country": "Colombia",
            "value": 27,
            "week": 30
           },
           {
            "country": "Colombia",
            "value": 29,
            "week": 31
           },
           {
            "country": "Colombia",
            "value": 15,
            "week": 32
           },
           {
            "country": "Colombia",
            "value": 9,
            "week": 33
           },
           {
            "country": "Colombia",
            "value": 19,
            "week": 34
           },
           {
            "country": "Colombia",
            "value": 3,
            "week": 35
           },
           {
            "country": "Colombia",
            "value": 15,
            "week": 36
           },
           {
            "country": "Colombia",
            "value": 18,
            "week": 37
           },
           {
            "country": "Colombia",
            "value": 8,
            "week": 38
           },
           {
            "country": "Colombia",
            "value": 13,
            "week": 39
           },
           {
            "country": "Colombia",
            "value": 7,
            "week": 40
           },
           {
            "country": "Colombia",
            "value": 2,
            "week": 41
           },
           {
            "country": "Colombia",
            "value": 3,
            "week": 42
           },
           {
            "country": "Colombia",
            "value": 1,
            "week": 43
           },
           {
            "country": "Colombia",
            "value": 9,
            "week": 44
           },
           {
            "country": "Colombia",
            "value": 5,
            "week": 45
           },
           {
            "country": "Colombia",
            "value": 15,
            "week": 46
           },
           {
            "country": "Colombia",
            "value": 13,
            "week": 47
           },
           {
            "country": "Colombia",
            "value": 4,
            "week": 48
           },
           {
            "country": "Colombia",
            "value": 17,
            "week": 49
           },
           {
            "country": "Colombia",
            "value": 14,
            "week": 50
           },
           {
            "country": "Colombia",
            "value": 19,
            "week": 51
           },
           {
            "country": "Colombia",
            "value": 12,
            "week": 52
           },
           {
            "country": "Egypt",
            "value": 739,
            "week": 1
           },
           {
            "country": "Egypt",
            "value": 396,
            "week": 2
           },
           {
            "country": "Egypt",
            "value": 192,
            "week": 3
           },
           {
            "country": "Egypt",
            "value": 80,
            "week": 4
           },
           {
            "country": "Egypt",
            "value": 56,
            "week": 5
           },
           {
            "country": "Egypt",
            "value": 47,
            "week": 6
           },
           {
            "country": "Egypt",
            "value": 32,
            "week": 7
           },
           {
            "country": "Egypt",
            "value": 16,
            "week": 8
           },
           {
            "country": "Egypt",
            "value": 8,
            "week": 9
           },
           {
            "country": "Egypt",
            "value": 8,
            "week": 10
           },
           {
            "country": "Egypt",
            "value": 3,
            "week": 11
           },
           {
            "country": "Egypt",
            "value": 5,
            "week": 12
           },
           {
            "country": "Egypt",
            "value": 6,
            "week": 13
           },
           {
            "country": "Egypt",
            "value": 3,
            "week": 14
           },
           {
            "country": "Egypt",
            "value": 2,
            "week": 15
           },
           {
            "country": "Egypt",
            "value": 2,
            "week": 16
           },
           {
            "country": "Egypt",
            "value": 2,
            "week": 17
           },
           {
            "country": "Egypt",
            "value": 9,
            "week": 18
           },
           {
            "country": "Egypt",
            "value": 2,
            "week": 19
           },
           {
            "country": "Egypt",
            "value": 1,
            "week": 20
           },
           {
            "country": "Egypt",
            "value": null,
            "week": 21
           },
           {
            "country": "Egypt",
            "value": 9,
            "week": 22
           },
           {
            "country": "Egypt",
            "value": 8,
            "week": 23
           },
           {
            "country": "Egypt",
            "value": 8,
            "week": 24
           },
           {
            "country": "Egypt",
            "value": 7,
            "week": 25
           },
           {
            "country": "Egypt",
            "value": 6,
            "week": 26
           },
           {
            "country": "Egypt",
            "value": 6,
            "week": 27
           },
           {
            "country": "Egypt",
            "value": 4,
            "week": 28
           },
           {
            "country": "Egypt",
            "value": 14,
            "week": 29
           },
           {
            "country": "Egypt",
            "value": 7,
            "week": 30
           },
           {
            "country": "Egypt",
            "value": 5,
            "week": 31
           },
           {
            "country": "Egypt",
            "value": 2,
            "week": 32
           },
           {
            "country": "Egypt",
            "value": 4,
            "week": 33
           },
           {
            "country": "Egypt",
            "value": 1,
            "week": 34
           },
           {
            "country": "Egypt",
            "value": 6,
            "week": 35
           },
           {
            "country": "Egypt",
            "value": null,
            "week": 36
           },
           {
            "country": "Egypt",
            "value": null,
            "week": 37
           },
           {
            "country": "Egypt",
            "value": null,
            "week": 38
           },
           {
            "country": "Egypt",
            "value": null,
            "week": 39
           },
           {
            "country": "Egypt",
            "value": 3,
            "week": 40
           },
           {
            "country": "Egypt",
            "value": 7,
            "week": 41
           },
           {
            "country": "Egypt",
            "value": 19,
            "week": 42
           },
           {
            "country": "Egypt",
            "value": 14,
            "week": 43
           },
           {
            "country": "Egypt",
            "value": 16,
            "week": 44
           },
           {
            "country": "Egypt",
            "value": 19,
            "week": 45
           },
           {
            "country": "Egypt",
            "value": 20,
            "week": 46
           },
           {
            "country": "Egypt",
            "value": 36,
            "week": 47
           },
           {
            "country": "Egypt",
            "value": 64,
            "week": 48
           },
           {
            "country": "Egypt",
            "value": 88,
            "week": 49
           },
           {
            "country": "Egypt",
            "value": 152,
            "week": 50
           },
           {
            "country": "Egypt",
            "value": 372,
            "week": 51
           },
           {
            "country": "Egypt",
            "value": 522,
            "week": 52
           },
           {
            "country": "Germany",
            "value": 26,
            "week": 1
           },
           {
            "country": "Germany",
            "value": 24,
            "week": 2
           },
           {
            "country": "Germany",
            "value": 18,
            "week": 3
           },
           {
            "country": "Germany",
            "value": null,
            "week": 4
           },
           {
            "country": "Germany",
            "value": null,
            "week": 5
           },
           {
            "country": "Germany",
            "value": null,
            "week": 6
           },
           {
            "country": "Germany",
            "value": null,
            "week": 7
           },
           {
            "country": "Germany",
            "value": null,
            "week": 8
           },
           {
            "country": "Germany",
            "value": 3,
            "week": 9
           },
           {
            "country": "Germany",
            "value": 7,
            "week": 10
           },
           {
            "country": "Germany",
            "value": 2,
            "week": 11
           },
           {
            "country": "Germany",
            "value": 6,
            "week": 12
           },
           {
            "country": "Germany",
            "value": null,
            "week": 13
           },
           {
            "country": "Germany",
            "value": 1,
            "week": 14
           },
           {
            "country": "Germany",
            "value": null,
            "week": 15
           },
           {
            "country": "Germany",
            "value": null,
            "week": 16
           },
           {
            "country": "Germany",
            "value": null,
            "week": 17
           },
           {
            "country": "Germany",
            "value": null,
            "week": 18
           },
           {
            "country": "Germany",
            "value": null,
            "week": 19
           },
           {
            "country": "Germany",
            "value": 1,
            "week": 20
           },
           {
            "country": "Germany",
            "value": null,
            "week": 21
           },
           {
            "country": "Germany",
            "value": null,
            "week": 22
           },
           {
            "country": "Germany",
            "value": 1,
            "week": 23
           },
           {
            "country": "Germany",
            "value": null,
            "week": 24
           },
           {
            "country": "Germany",
            "value": null,
            "week": 25
           },
           {
            "country": "Germany",
            "value": null,
            "week": 26
           },
           {
            "country": "Germany",
            "value": null,
            "week": 27
           },
           {
            "country": "Germany",
            "value": null,
            "week": 28
           },
           {
            "country": "Germany",
            "value": null,
            "week": 29
           },
           {
            "country": "Germany",
            "value": null,
            "week": 30
           },
           {
            "country": "Germany",
            "value": null,
            "week": 31
           },
           {
            "country": "Germany",
            "value": null,
            "week": 32
           },
           {
            "country": "Germany",
            "value": null,
            "week": 33
           },
           {
            "country": "Germany",
            "value": null,
            "week": 34
           },
           {
            "country": "Germany",
            "value": null,
            "week": 35
           },
           {
            "country": "Germany",
            "value": null,
            "week": 36
           },
           {
            "country": "Germany",
            "value": null,
            "week": 37
           },
           {
            "country": "Germany",
            "value": 1,
            "week": 38
           },
           {
            "country": "Germany",
            "value": 1,
            "week": 39
           },
           {
            "country": "Germany",
            "value": null,
            "week": 40
           },
           {
            "country": "Germany",
            "value": 2,
            "week": 41
           },
           {
            "country": "Germany",
            "value": 1,
            "week": 42
           },
           {
            "country": "Germany",
            "value": 2,
            "week": 43
           },
           {
            "country": "Germany",
            "value": null,
            "week": 44
           },
           {
            "country": "Germany",
            "value": 1,
            "week": 45
           },
           {
            "country": "Germany",
            "value": 1,
            "week": 46
           },
           {
            "country": "Germany",
            "value": 3,
            "week": 47
           },
           {
            "country": "Germany",
            "value": 1,
            "week": 48
           },
           {
            "country": "Germany",
            "value": 2,
            "week": 49
           },
           {
            "country": "Germany",
            "value": 23,
            "week": 50
           },
           {
            "country": "Germany",
            "value": 18,
            "week": 51
           },
           {
            "country": "Germany",
            "value": 44,
            "week": 52
           },
           {
            "country": "Ireland",
            "value": 23,
            "week": 1
           },
           {
            "country": "Ireland",
            "value": 8,
            "week": 2
           },
           {
            "country": "Ireland",
            "value": 4,
            "week": 3
           },
           {
            "country": "Ireland",
            "value": 8,
            "week": 4
           },
           {
            "country": "Ireland",
            "value": 4,
            "week": 5
           },
           {
            "country": "Ireland",
            "value": null,
            "week": 6
           },
           {
            "country": "Ireland",
            "value": null,
            "week": 7
           },
           {
            "country": "Ireland",
            "value": 1,
            "week": 8
           },
           {
            "country": "Ireland",
            "value": null,
            "week": 9
           },
           {
            "country": "Ireland",
            "value": null,
            "week": 10
           },
           {
            "country": "Ireland",
            "value": null,
            "week": 11
           },
           {
            "country": "Ireland",
            "value": 1,
            "week": 12
           },
           {
            "country": "Ireland",
            "value": null,
            "week": 13
           },
           {
            "country": "Ireland",
            "value": null,
            "week": 14
           },
           {
            "country": "Ireland",
            "value": null,
            "week": 15
           },
           {
            "country": "Ireland",
            "value": 1,
            "week": 16
           },
           {
            "country": "Ireland",
            "value": null,
            "week": 17
           },
           {
            "country": "Ireland",
            "value": null,
            "week": 18
           },
           {
            "country": "Ireland",
            "value": null,
            "week": 19
           },
           {
            "country": "Ireland",
            "value": 1,
            "week": 20
           },
           {
            "country": "Ireland",
            "value": null,
            "week": 21
           },
           {
            "country": "Ireland",
            "value": null,
            "week": 22
           },
           {
            "country": "Ireland",
            "value": null,
            "week": 23
           },
           {
            "country": "Ireland",
            "value": null,
            "week": 24
           },
           {
            "country": "Ireland",
            "value": null,
            "week": 25
           },
           {
            "country": "Ireland",
            "value": null,
            "week": 26
           },
           {
            "country": "Ireland",
            "value": null,
            "week": 27
           },
           {
            "country": "Ireland",
            "value": null,
            "week": 28
           },
           {
            "country": "Ireland",
            "value": null,
            "week": 29
           },
           {
            "country": "Ireland",
            "value": null,
            "week": 30
           },
           {
            "country": "Ireland",
            "value": null,
            "week": 31
           },
           {
            "country": "Ireland",
            "value": null,
            "week": 32
           },
           {
            "country": "Ireland",
            "value": null,
            "week": 33
           },
           {
            "country": "Ireland",
            "value": null,
            "week": 34
           },
           {
            "country": "Ireland",
            "value": null,
            "week": 35
           },
           {
            "country": "Ireland",
            "value": null,
            "week": 36
           },
           {
            "country": "Ireland",
            "value": null,
            "week": 37
           },
           {
            "country": "Ireland",
            "value": null,
            "week": 38
           },
           {
            "country": "Ireland",
            "value": null,
            "week": 39
           },
           {
            "country": "Ireland",
            "value": null,
            "week": 40
           },
           {
            "country": "Ireland",
            "value": 2,
            "week": 41
           },
           {
            "country": "Ireland",
            "value": 1,
            "week": 42
           },
           {
            "country": "Ireland",
            "value": null,
            "week": 43
           },
           {
            "country": "Ireland",
            "value": null,
            "week": 44
           },
           {
            "country": "Ireland",
            "value": null,
            "week": 45
           },
           {
            "country": "Ireland",
            "value": null,
            "week": 46
           },
           {
            "country": "Ireland",
            "value": 1,
            "week": 47
           },
           {
            "country": "Ireland",
            "value": 1,
            "week": 48
           },
           {
            "country": "Ireland",
            "value": 13,
            "week": 49
           },
           {
            "country": "Ireland",
            "value": 48,
            "week": 50
           },
           {
            "country": "Ireland",
            "value": 161,
            "week": 51
           },
           {
            "country": "Ireland",
            "value": 383,
            "week": 52
           },
           {
            "country": "South Africa",
            "value": null,
            "week": 1
           },
           {
            "country": "South Africa",
            "value": 1,
            "week": 2
           },
           {
            "country": "South Africa",
            "value": null,
            "week": 3
           },
           {
            "country": "South Africa",
            "value": null,
            "week": 4
           },
           {
            "country": "South Africa",
            "value": null,
            "week": 5
           },
           {
            "country": "South Africa",
            "value": null,
            "week": 6
           },
           {
            "country": "South Africa",
            "value": null,
            "week": 7
           },
           {
            "country": "South Africa",
            "value": 1,
            "week": 8
           },
           {
            "country": "South Africa",
            "value": null,
            "week": 9
           },
           {
            "country": "South Africa",
            "value": null,
            "week": 10
           },
           {
            "country": "South Africa",
            "value": null,
            "week": 11
           },
           {
            "country": "South Africa",
            "value": null,
            "week": 12
           },
           {
            "country": "South Africa",
            "value": null,
            "week": 13
           },
           {
            "country": "South Africa",
            "value": null,
            "week": 14
           },
           {
            "country": "South Africa",
            "value": 1,
            "week": 15
           },
           {
            "country": "South Africa",
            "value": null,
            "week": 16
           },
           {
            "country": "South Africa",
            "value": null,
            "week": 17
           },
           {
            "country": "South Africa",
            "value": 1,
            "week": 18
           },
           {
            "country": "South Africa",
            "value": null,
            "week": 19
           },
           {
            "country": "South Africa",
            "value": 1,
            "week": 20
           },
           {
            "country": "South Africa",
            "value": 1,
            "week": 21
           },
           {
            "country": "South Africa",
            "value": 2,
            "week": 22
           },
           {
            "country": "South Africa",
            "value": 10,
            "week": 23
           },
           {
            "country": "South Africa",
            "value": 16,
            "week": 24
           },
           {
            "country": "South Africa",
            "value": 36,
            "week": 25
           },
           {
            "country": "South Africa",
            "value": 84,
            "week": 26
           },
           {
            "country": "South Africa",
            "value": 85,
            "week": 27
           },
           {
            "country": "South Africa",
            "value": 85,
            "week": 28
           },
           {
            "country": "South Africa",
            "value": 61,
            "week": 29
           },
           {
            "country": "South Africa",
            "value": 121,
            "week": 30
           },
           {
            "country": "South Africa",
            "value": 124,
            "week": 31
           },
           {
            "country": "South Africa",
            "value": 99,
            "week": 32
           },
           {
            "country": "South Africa",
            "value": 122,
            "week": 33
           },
           {
            "country": "South Africa",
            "value": 116,
            "week": 34
           },
           {
            "country": "South Africa",
            "value": 74,
            "week": 35
           },
           {
            "country": "South Africa",
            "value": 78,
            "week": 36
           },
           {
            "country": "South Africa",
            "value": 61,
            "week": 37
           },
           {
            "country": "South Africa",
            "value": 39,
            "week": 38
           },
           {
            "country": "South Africa",
            "value": 24,
            "week": 39
           },
           {
            "country": "South Africa",
            "value": 20,
            "week": 40
           },
           {
            "country": "South Africa",
            "value": 8,
            "week": 41
           },
           {
            "country": "South Africa",
            "value": 14,
            "week": 42
           },
           {
            "country": "South Africa",
            "value": 6,
            "week": 43
           },
           {
            "country": "South Africa",
            "value": 3,
            "week": 44
           },
           {
            "country": "South Africa",
            "value": 11,
            "week": 45
           },
           {
            "country": "South Africa",
            "value": 9,
            "week": 46
           },
           {
            "country": "South Africa",
            "value": 8,
            "week": 47
           },
           {
            "country": "South Africa",
            "value": 3,
            "week": 48
           },
           {
            "country": "South Africa",
            "value": 3,
            "week": 49
           },
           {
            "country": "South Africa",
            "value": null,
            "week": 50
           },
           {
            "country": "South Africa",
            "value": 3,
            "week": 51
           },
           {
            "country": "South Africa",
            "value": 2,
            "week": 52
           },
           {
            "country": "USA",
            "value": 366,
            "week": 1
           },
           {
            "country": "USA",
            "value": 396,
            "week": 2
           },
           {
            "country": "USA",
            "value": 447,
            "week": 3
           },
           {
            "country": "USA",
            "value": 402,
            "week": 4
           },
           {
            "country": "USA",
            "value": 404,
            "week": 5
           },
           {
            "country": "USA",
            "value": 361,
            "week": 6
           },
           {
            "country": "USA",
            "value": 380,
            "week": 7
           },
           {
            "country": "USA",
            "value": 424,
            "week": 8
           },
           {
            "country": "USA",
            "value": 445,
            "week": 9
           },
           {
            "country": "USA",
            "value": 475,
            "week": 10
           },
           {
            "country": "USA",
            "value": 351,
            "week": 11
           },
           {
            "country": "USA",
            "value": 246,
            "week": 12
           },
           {
            "country": "USA",
            "value": 237,
            "week": 13
           },
           {
            "country": "USA",
            "value": 127,
            "week": 14
           },
           {
            "country": "USA",
            "value": 79,
            "week": 15
           },
           {
            "country": "USA",
            "value": 52,
            "week": 16
           },
           {
            "country": "USA",
            "value": 37,
            "week": 17
           },
           {
            "country": "USA",
            "value": 31,
            "week": 18
           },
           {
            "country": "USA",
            "value": 26,
            "week": 19
           },
           {
            "country": "USA",
            "value": 19,
            "week": 20
           },
           {
            "country": "USA",
            "value": 8,
            "week": 21
           },
           {
            "country": "USA",
            "value": 8,
            "week": 22
           },
           {
            "country": "USA",
            "value": 8,
            "week": 23
           },
           {
            "country": "USA",
            "value": 11,
            "week": 24
           },
           {
            "country": "USA",
            "value": 11,
            "week": 25
           },
           {
            "country": "USA",
            "value": 7,
            "week": 26
           },
           {
            "country": "USA",
            "value": 4,
            "week": 27
           },
           {
            "country": "USA",
            "value": 10,
            "week": 28
           },
           {
            "country": "USA",
            "value": 12,
            "week": 29
           },
           {
            "country": "USA",
            "value": 24,
            "week": 30
           },
           {
            "country": "USA",
            "value": 19,
            "week": 31
           },
           {
            "country": "USA",
            "value": 32,
            "week": 32
           },
           {
            "country": "USA",
            "value": 21,
            "week": 33
           },
           {
            "country": "USA",
            "value": 45,
            "week": 34
           },
           {
            "country": "USA",
            "value": 34,
            "week": 35
           },
           {
            "country": "USA",
            "value": 46,
            "week": 36
           },
           {
            "country": "USA",
            "value": 64,
            "week": 37
           },
           {
            "country": "USA",
            "value": 67,
            "week": 38
           },
           {
            "country": "USA",
            "value": 62,
            "week": 39
           },
           {
            "country": "USA",
            "value": 77,
            "week": 40
           },
           {
            "country": "USA",
            "value": 128,
            "week": 41
           },
           {
            "country": "USA",
            "value": 141,
            "week": 42
           },
           {
            "country": "USA",
            "value": 168,
            "week": 43
           },
           {
            "country": "USA",
            "value": 247,
            "week": 44
           },
           {
            "country": "USA",
            "value": 352,
            "week": 45
           },
           {
            "country": "USA",
            "value": 491,
            "week": 46
           },
           {
            "country": "USA",
            "value": 588,
            "week": 47
           },
           {
            "country": "USA",
            "value": 609,
            "week": 48
           },
           {
            "country": "USA",
            "value": 843,
            "week": 49
           },
           {
            "country": "USA",
            "value": 1438,
            "week": 50
           },
           {
            "country": "USA",
            "value": 1998,
            "week": 51
           },
           {
            "country": "USA",
            "value": 2375,
            "week": 52
           }
          ]
         },
         "encoding": {
          "color": {
           "field": "country",
           "type": "nominal"
          },
          "x": {
           "field": "week",
           "type": "quantitative"
          },
          "y": {
           "field": "value",
           "scale": {
            "base": 10,
            "domain": [
             10,
             10000
            ],
            "type": "log"
           },
           "type": "quantitative"
          }
         },
         "mark": {
          "clip": true,
          "type": "line"
         },
         "selection": {
          "selector027": {
           "encodings": [
            "x"
           ],
           "mark": {
            "fill": "#333",
            "fillOpacity": 0.125,
            "stroke": "white"
           },
           "on": "[mousedown, window:mouseup] > window:mousemove!",
           "resolve": "global",
           "translate": "[mousedown, window:mouseup] > window:mousemove!",
           "type": "interval",
           "zoom": "wheel!"
          }
         }
        },
        {
         "encoding": {
          "color": {
           "field": "country",
           "type": "nominal"
          },
          "x": {
           "aggregate": "sum",
           "field": "value",
           "scale": {
            "domain": [
             0,
             50000
            ]
           },
           "type": "quantitative"
          },
          "y": {
           "field": "country",
           "type": "nominal"
          }
         },
         "mark": "bar",
         "transform": [
          {
           "filter": {
            "selection": "selector027"
           }
          }
         ]
        }
       ]
      },
      "image/png": "[encoded data removed]",
      "text/plain": [
       "<VegaLite 2 object>\n",
       "\n",
       "If you see this message, it means the renderer has not been properly enabled\n",
       "for the frontend that you are using. For more information, see\n",
       "https://altair-viz.github.io/user_guide/troubleshooting.html\n"
      ]
     },
     "execution_count": 45,
     "metadata": {},
     "output_type": "execute_result"
    }
   ],
   "source": [
    "brush = alt.selection_interval(encodings=['x'])\n",
    "\n",
    "lines = alt.Chart(norm).mark_line(clip=True).encode(\n",
    "    alt.X('week'),\n",
    "    alt.Y('value', scale=alt.Scale(type='log', base=10, domain=[10,10000])),\n",
    "    color='country'\n",
    ").add_selection(brush)\n",
    "\n",
    "bars = alt.Chart().mark_bar().encode(\n",
    "    alt.X('sum(value)', scale=alt.Scale(domain=[0, 50000])),\n",
    "    alt.Y('country'),\n",
    "    color='country'\n",
    ").transform_filter(brush)\n",
    "\n",
    "alt.vconcat(lines, bars, data=norm)"
   ]
  },
  {
   "cell_type": "code",
   "execution_count": null,
   "metadata": {},
   "outputs": [],
   "source": []
  }
 ],
 "metadata": {
  "kernelspec": {
   "display_name": "Python 3",
   "language": "python",
   "name": "python3"
  },
  "language_info": {
   "codemirror_mode": {
    "name": "ipython",
    "version": 3
   },
   "file_extension": ".py",
   "mimetype": "text/x-python",
   "name": "python",
   "nbconvert_exporter": "python",
   "pygments_lexer": "ipython3",
   "version": "3.6.5"
  }
 },
 "nbformat": 4,
 "nbformat_minor": 2
}
